{
  "nbformat": 4,
  "nbformat_minor": 0,
  "metadata": {
    "colab": {
      "name": "titanic.ipynb",
      "version": "0.3.2",
      "provenance": [],
      "collapsed_sections": [],
      "toc_visible": true
    },
    "kernelspec": {
      "name": "python3",
      "display_name": "Python 3"
    }
  },
  "cells": [
    {
      "metadata": {
        "id": "R0AV1AZygDzp",
        "colab_type": "text"
      },
      "cell_type": "markdown",
      "source": [
        "# Introduction\n",
        "\n",
        "This project is completed as part of the [Kaggle's Titanic Competition](https://www.kaggle.com/c/titanic).\n",
        "\n",
        "\n",
        "The goal of this project to predict what sorts of people were likely to survive.\n",
        "\n",
        "---\n"
      ]
    },
    {
      "metadata": {
        "id": "MXb-rRXGgv1J",
        "colab_type": "code",
        "colab": {}
      },
      "cell_type": "code",
      "source": [
        "# Importing libraries\n",
        "import numpy as np\n",
        "import pandas as pd\n",
        "from sklearn.preprocessing import LabelEncoder, OneHotEncoder\n",
        "import matplotlib.pyplot as plt\n",
        "import matplotlib.pylab as pylab\n",
        "import seaborn as sns\n",
        "from numpy import percentile\n",
        "from sklearn.preprocessing import StandardScaler\n",
        "from sklearn.model_selection import train_test_split\n",
        "import warnings\n",
        "warnings.filterwarnings('ignore')\n",
        "from xgboost import XGBClassifier\n",
        "from sklearn.svm import SVC\n",
        "from sklearn.linear_model import LogisticRegression\n",
        "from sklearn.metrics import classification_report\n",
        "from sklearn.metrics import confusion_matrix\n",
        "from sklearn.metrics import accuracy_score\n",
        "from sklearn.model_selection import KFold\n",
        "from sklearn.model_selection import cross_validate\n",
        "from sklearn.model_selection import cross_val_score"
      ],
      "execution_count": 0,
      "outputs": []
    },
    {
      "metadata": {
        "id": "LzN2L789g526",
        "colab_type": "code",
        "colab": {}
      },
      "cell_type": "code",
      "source": [
        "# Loading the datasets\n",
        "train = pd.read_csv('train.csv')\n",
        "test = pd.read_csv('test.csv')"
      ],
      "execution_count": 0,
      "outputs": []
    },
    {
      "metadata": {
        "id": "a3MGCSmQi_EY",
        "colab_type": "text"
      },
      "cell_type": "markdown",
      "source": [
        "# 1. Exploratory Analysis with Pandas"
      ]
    },
    {
      "metadata": {
        "id": "_fon9oeHhJiN",
        "colab_type": "text"
      },
      "cell_type": "markdown",
      "source": [
        "Checking the data dimension."
      ]
    },
    {
      "metadata": {
        "id": "HnFLQANvhMY0",
        "colab_type": "code",
        "outputId": "9dcca4e8-7492-4b72-9132-78ac73b73070",
        "colab": {
          "base_uri": "https://localhost:8080/",
          "height": 34
        }
      },
      "cell_type": "code",
      "source": [
        "train.shape"
      ],
      "execution_count": 3,
      "outputs": [
        {
          "output_type": "execute_result",
          "data": {
            "text/plain": [
              "(891, 12)"
            ]
          },
          "metadata": {
            "tags": []
          },
          "execution_count": 3
        }
      ]
    },
    {
      "metadata": {
        "id": "lPqlS8cshXX7",
        "colab_type": "code",
        "outputId": "ebd936f8-900b-45e9-cf40-64438f5c6eec",
        "colab": {
          "base_uri": "https://localhost:8080/",
          "height": 306
        }
      },
      "cell_type": "code",
      "source": [
        "# General information about the data\n",
        "train.info()"
      ],
      "execution_count": 4,
      "outputs": [
        {
          "output_type": "stream",
          "text": [
            "<class 'pandas.core.frame.DataFrame'>\n",
            "RangeIndex: 891 entries, 0 to 890\n",
            "Data columns (total 12 columns):\n",
            "PassengerId    891 non-null int64\n",
            "Survived       891 non-null int64\n",
            "Pclass         891 non-null int64\n",
            "Name           891 non-null object\n",
            "Sex            891 non-null object\n",
            "Age            714 non-null float64\n",
            "SibSp          891 non-null int64\n",
            "Parch          891 non-null int64\n",
            "Ticket         891 non-null object\n",
            "Fare           891 non-null float64\n",
            "Cabin          204 non-null object\n",
            "Embarked       889 non-null object\n",
            "dtypes: float64(2), int64(5), object(5)\n",
            "memory usage: 83.6+ KB\n"
          ],
          "name": "stdout"
        }
      ]
    },
    {
      "metadata": {
        "id": "b8Gm9iXChatl",
        "colab_type": "text"
      },
      "cell_type": "markdown",
      "source": [
        "**int64**, **object**,  and **float64** are the types of the features."
      ]
    },
    {
      "metadata": {
        "id": "z_Qg_bEXhhpN",
        "colab_type": "code",
        "outputId": "96db3ffa-5834-4e86-934e-d09453751be5",
        "colab": {
          "base_uri": "https://localhost:8080/",
          "height": 297
        }
      },
      "cell_type": "code",
      "source": [
        "# Statistical characteristics of numerical features\n",
        "train.describe()"
      ],
      "execution_count": 5,
      "outputs": [
        {
          "output_type": "execute_result",
          "data": {
            "text/html": [
              "<div>\n",
              "<style scoped>\n",
              "    .dataframe tbody tr th:only-of-type {\n",
              "        vertical-align: middle;\n",
              "    }\n",
              "\n",
              "    .dataframe tbody tr th {\n",
              "        vertical-align: top;\n",
              "    }\n",
              "\n",
              "    .dataframe thead th {\n",
              "        text-align: right;\n",
              "    }\n",
              "</style>\n",
              "<table border=\"1\" class=\"dataframe\">\n",
              "  <thead>\n",
              "    <tr style=\"text-align: right;\">\n",
              "      <th></th>\n",
              "      <th>PassengerId</th>\n",
              "      <th>Survived</th>\n",
              "      <th>Pclass</th>\n",
              "      <th>Age</th>\n",
              "      <th>SibSp</th>\n",
              "      <th>Parch</th>\n",
              "      <th>Fare</th>\n",
              "    </tr>\n",
              "  </thead>\n",
              "  <tbody>\n",
              "    <tr>\n",
              "      <th>count</th>\n",
              "      <td>891.000000</td>\n",
              "      <td>891.000000</td>\n",
              "      <td>891.000000</td>\n",
              "      <td>714.000000</td>\n",
              "      <td>891.000000</td>\n",
              "      <td>891.000000</td>\n",
              "      <td>891.000000</td>\n",
              "    </tr>\n",
              "    <tr>\n",
              "      <th>mean</th>\n",
              "      <td>446.000000</td>\n",
              "      <td>0.383838</td>\n",
              "      <td>2.308642</td>\n",
              "      <td>29.699118</td>\n",
              "      <td>0.523008</td>\n",
              "      <td>0.381594</td>\n",
              "      <td>32.204208</td>\n",
              "    </tr>\n",
              "    <tr>\n",
              "      <th>std</th>\n",
              "      <td>257.353842</td>\n",
              "      <td>0.486592</td>\n",
              "      <td>0.836071</td>\n",
              "      <td>14.526497</td>\n",
              "      <td>1.102743</td>\n",
              "      <td>0.806057</td>\n",
              "      <td>49.693429</td>\n",
              "    </tr>\n",
              "    <tr>\n",
              "      <th>min</th>\n",
              "      <td>1.000000</td>\n",
              "      <td>0.000000</td>\n",
              "      <td>1.000000</td>\n",
              "      <td>0.420000</td>\n",
              "      <td>0.000000</td>\n",
              "      <td>0.000000</td>\n",
              "      <td>0.000000</td>\n",
              "    </tr>\n",
              "    <tr>\n",
              "      <th>25%</th>\n",
              "      <td>223.500000</td>\n",
              "      <td>0.000000</td>\n",
              "      <td>2.000000</td>\n",
              "      <td>20.125000</td>\n",
              "      <td>0.000000</td>\n",
              "      <td>0.000000</td>\n",
              "      <td>7.910400</td>\n",
              "    </tr>\n",
              "    <tr>\n",
              "      <th>50%</th>\n",
              "      <td>446.000000</td>\n",
              "      <td>0.000000</td>\n",
              "      <td>3.000000</td>\n",
              "      <td>28.000000</td>\n",
              "      <td>0.000000</td>\n",
              "      <td>0.000000</td>\n",
              "      <td>14.454200</td>\n",
              "    </tr>\n",
              "    <tr>\n",
              "      <th>75%</th>\n",
              "      <td>668.500000</td>\n",
              "      <td>1.000000</td>\n",
              "      <td>3.000000</td>\n",
              "      <td>38.000000</td>\n",
              "      <td>1.000000</td>\n",
              "      <td>0.000000</td>\n",
              "      <td>31.000000</td>\n",
              "    </tr>\n",
              "    <tr>\n",
              "      <th>max</th>\n",
              "      <td>891.000000</td>\n",
              "      <td>1.000000</td>\n",
              "      <td>3.000000</td>\n",
              "      <td>80.000000</td>\n",
              "      <td>8.000000</td>\n",
              "      <td>6.000000</td>\n",
              "      <td>512.329200</td>\n",
              "    </tr>\n",
              "  </tbody>\n",
              "</table>\n",
              "</div>"
            ],
            "text/plain": [
              "       PassengerId    Survived      Pclass         Age       SibSp  \\\n",
              "count   891.000000  891.000000  891.000000  714.000000  891.000000   \n",
              "mean    446.000000    0.383838    2.308642   29.699118    0.523008   \n",
              "std     257.353842    0.486592    0.836071   14.526497    1.102743   \n",
              "min       1.000000    0.000000    1.000000    0.420000    0.000000   \n",
              "25%     223.500000    0.000000    2.000000   20.125000    0.000000   \n",
              "50%     446.000000    0.000000    3.000000   28.000000    0.000000   \n",
              "75%     668.500000    1.000000    3.000000   38.000000    1.000000   \n",
              "max     891.000000    1.000000    3.000000   80.000000    8.000000   \n",
              "\n",
              "            Parch        Fare  \n",
              "count  891.000000  891.000000  \n",
              "mean     0.381594   32.204208  \n",
              "std      0.806057   49.693429  \n",
              "min      0.000000    0.000000  \n",
              "25%      0.000000    7.910400  \n",
              "50%      0.000000   14.454200  \n",
              "75%      0.000000   31.000000  \n",
              "max      6.000000  512.329200  "
            ]
          },
          "metadata": {
            "tags": []
          },
          "execution_count": 5
        }
      ]
    },
    {
      "metadata": {
        "id": "Hm2tQdnKhlwX",
        "colab_type": "code",
        "outputId": "a4d57451-6927-4741-ae7c-6a1147f6b0f1",
        "colab": {
          "base_uri": "https://localhost:8080/",
          "height": 173
        }
      },
      "cell_type": "code",
      "source": [
        "# Statistical characteristics of categorical features\n",
        "train.describe(include=['object'])"
      ],
      "execution_count": 6,
      "outputs": [
        {
          "output_type": "execute_result",
          "data": {
            "text/html": [
              "<div>\n",
              "<style scoped>\n",
              "    .dataframe tbody tr th:only-of-type {\n",
              "        vertical-align: middle;\n",
              "    }\n",
              "\n",
              "    .dataframe tbody tr th {\n",
              "        vertical-align: top;\n",
              "    }\n",
              "\n",
              "    .dataframe thead th {\n",
              "        text-align: right;\n",
              "    }\n",
              "</style>\n",
              "<table border=\"1\" class=\"dataframe\">\n",
              "  <thead>\n",
              "    <tr style=\"text-align: right;\">\n",
              "      <th></th>\n",
              "      <th>Name</th>\n",
              "      <th>Sex</th>\n",
              "      <th>Ticket</th>\n",
              "      <th>Cabin</th>\n",
              "      <th>Embarked</th>\n",
              "    </tr>\n",
              "  </thead>\n",
              "  <tbody>\n",
              "    <tr>\n",
              "      <th>count</th>\n",
              "      <td>891</td>\n",
              "      <td>891</td>\n",
              "      <td>891</td>\n",
              "      <td>204</td>\n",
              "      <td>889</td>\n",
              "    </tr>\n",
              "    <tr>\n",
              "      <th>unique</th>\n",
              "      <td>891</td>\n",
              "      <td>2</td>\n",
              "      <td>681</td>\n",
              "      <td>147</td>\n",
              "      <td>3</td>\n",
              "    </tr>\n",
              "    <tr>\n",
              "      <th>top</th>\n",
              "      <td>Fox, Mr. Stanley Hubert</td>\n",
              "      <td>male</td>\n",
              "      <td>1601</td>\n",
              "      <td>G6</td>\n",
              "      <td>S</td>\n",
              "    </tr>\n",
              "    <tr>\n",
              "      <th>freq</th>\n",
              "      <td>1</td>\n",
              "      <td>577</td>\n",
              "      <td>7</td>\n",
              "      <td>4</td>\n",
              "      <td>644</td>\n",
              "    </tr>\n",
              "  </tbody>\n",
              "</table>\n",
              "</div>"
            ],
            "text/plain": [
              "                           Name   Sex Ticket Cabin Embarked\n",
              "count                       891   891    891   204      889\n",
              "unique                      891     2    681   147        3\n",
              "top     Fox, Mr. Stanley Hubert  male   1601    G6        S\n",
              "freq                          1   577      7     4      644"
            ]
          },
          "metadata": {
            "tags": []
          },
          "execution_count": 6
        }
      ]
    },
    {
      "metadata": {
        "id": "mPnmeWfkhpz_",
        "colab_type": "text"
      },
      "cell_type": "markdown",
      "source": [
        "Let's see, how many male or female survived?"
      ]
    },
    {
      "metadata": {
        "id": "yjzetv8KhrDi",
        "colab_type": "code",
        "outputId": "dc368ad3-172b-4d4a-c035-55381182578f",
        "colab": {
          "base_uri": "https://localhost:8080/",
          "height": 142
        }
      },
      "cell_type": "code",
      "source": [
        "pd.crosstab(train['Survived'], train['Sex'])"
      ],
      "execution_count": 7,
      "outputs": [
        {
          "output_type": "execute_result",
          "data": {
            "text/html": [
              "<div>\n",
              "<style scoped>\n",
              "    .dataframe tbody tr th:only-of-type {\n",
              "        vertical-align: middle;\n",
              "    }\n",
              "\n",
              "    .dataframe tbody tr th {\n",
              "        vertical-align: top;\n",
              "    }\n",
              "\n",
              "    .dataframe thead th {\n",
              "        text-align: right;\n",
              "    }\n",
              "</style>\n",
              "<table border=\"1\" class=\"dataframe\">\n",
              "  <thead>\n",
              "    <tr style=\"text-align: right;\">\n",
              "      <th>Sex</th>\n",
              "      <th>female</th>\n",
              "      <th>male</th>\n",
              "    </tr>\n",
              "    <tr>\n",
              "      <th>Survived</th>\n",
              "      <th></th>\n",
              "      <th></th>\n",
              "    </tr>\n",
              "  </thead>\n",
              "  <tbody>\n",
              "    <tr>\n",
              "      <th>0</th>\n",
              "      <td>81</td>\n",
              "      <td>468</td>\n",
              "    </tr>\n",
              "    <tr>\n",
              "      <th>1</th>\n",
              "      <td>233</td>\n",
              "      <td>109</td>\n",
              "    </tr>\n",
              "  </tbody>\n",
              "</table>\n",
              "</div>"
            ],
            "text/plain": [
              "Sex       female  male\n",
              "Survived              \n",
              "0             81   468\n",
              "1            233   109"
            ]
          },
          "metadata": {
            "tags": []
          },
          "execution_count": 7
        }
      ]
    },
    {
      "metadata": {
        "id": "mNR3OBkAhv4w",
        "colab_type": "text"
      },
      "cell_type": "markdown",
      "source": [
        "233 females and 109 males were survived.  It becomes 68% females and 32% males who survived."
      ]
    },
    {
      "metadata": {
        "id": "xKYCsSSZh33F",
        "colab_type": "text"
      },
      "cell_type": "markdown",
      "source": [
        "Let's see, what age of people mostly survived?"
      ]
    },
    {
      "metadata": {
        "id": "1KxPNI2ph9Ma",
        "colab_type": "code",
        "outputId": "4cf74305-8965-4c3d-b022-67fc84dc079d",
        "colab": {
          "base_uri": "https://localhost:8080/",
          "height": 142
        }
      },
      "cell_type": "code",
      "source": [
        "pd.crosstab(train['Survived'], train['Age'] <= 15)"
      ],
      "execution_count": 8,
      "outputs": [
        {
          "output_type": "execute_result",
          "data": {
            "text/html": [
              "<div>\n",
              "<style scoped>\n",
              "    .dataframe tbody tr th:only-of-type {\n",
              "        vertical-align: middle;\n",
              "    }\n",
              "\n",
              "    .dataframe tbody tr th {\n",
              "        vertical-align: top;\n",
              "    }\n",
              "\n",
              "    .dataframe thead th {\n",
              "        text-align: right;\n",
              "    }\n",
              "</style>\n",
              "<table border=\"1\" class=\"dataframe\">\n",
              "  <thead>\n",
              "    <tr style=\"text-align: right;\">\n",
              "      <th>Age</th>\n",
              "      <th>False</th>\n",
              "      <th>True</th>\n",
              "    </tr>\n",
              "    <tr>\n",
              "      <th>Survived</th>\n",
              "      <th></th>\n",
              "      <th></th>\n",
              "    </tr>\n",
              "  </thead>\n",
              "  <tbody>\n",
              "    <tr>\n",
              "      <th>0</th>\n",
              "      <td>515</td>\n",
              "      <td>34</td>\n",
              "    </tr>\n",
              "    <tr>\n",
              "      <th>1</th>\n",
              "      <td>293</td>\n",
              "      <td>49</td>\n",
              "    </tr>\n",
              "  </tbody>\n",
              "</table>\n",
              "</div>"
            ],
            "text/plain": [
              "Age       False  True \n",
              "Survived              \n",
              "0           515     34\n",
              "1           293     49"
            ]
          },
          "metadata": {
            "tags": []
          },
          "execution_count": 8
        }
      ]
    },
    {
      "metadata": {
        "id": "oXmDXqG0iBDx",
        "colab_type": "text"
      },
      "cell_type": "markdown",
      "source": [
        "There were 83 children on the ship with age less than or equal to 15 years. Among them 59% Survived"
      ]
    },
    {
      "metadata": {
        "id": "y4DkWtE1iHPj",
        "colab_type": "code",
        "outputId": "17282d8f-799b-47eb-e6cc-41b71862e810",
        "colab": {
          "base_uri": "https://localhost:8080/",
          "height": 142
        }
      },
      "cell_type": "code",
      "source": [
        "pd.crosstab(train['Survived'], (train['Age'] > 15) & (train['Age'] <= 35))"
      ],
      "execution_count": 9,
      "outputs": [
        {
          "output_type": "execute_result",
          "data": {
            "text/html": [
              "<div>\n",
              "<style scoped>\n",
              "    .dataframe tbody tr th:only-of-type {\n",
              "        vertical-align: middle;\n",
              "    }\n",
              "\n",
              "    .dataframe tbody tr th {\n",
              "        vertical-align: top;\n",
              "    }\n",
              "\n",
              "    .dataframe thead th {\n",
              "        text-align: right;\n",
              "    }\n",
              "</style>\n",
              "<table border=\"1\" class=\"dataframe\">\n",
              "  <thead>\n",
              "    <tr style=\"text-align: right;\">\n",
              "      <th>Age</th>\n",
              "      <th>False</th>\n",
              "      <th>True</th>\n",
              "    </tr>\n",
              "    <tr>\n",
              "      <th>Survived</th>\n",
              "      <th></th>\n",
              "      <th></th>\n",
              "    </tr>\n",
              "  </thead>\n",
              "  <tbody>\n",
              "    <tr>\n",
              "      <th>0</th>\n",
              "      <td>293</td>\n",
              "      <td>256</td>\n",
              "    </tr>\n",
              "    <tr>\n",
              "      <th>1</th>\n",
              "      <td>184</td>\n",
              "      <td>158</td>\n",
              "    </tr>\n",
              "  </tbody>\n",
              "</table>\n",
              "</div>"
            ],
            "text/plain": [
              "Age       False  True \n",
              "Survived              \n",
              "0           293    256\n",
              "1           184    158"
            ]
          },
          "metadata": {
            "tags": []
          },
          "execution_count": 9
        }
      ]
    },
    {
      "metadata": {
        "id": "OIpVDr7uiS49",
        "colab_type": "text"
      },
      "cell_type": "markdown",
      "source": [
        "There were 414 people with age range 16 to 35 in which 38% Survived."
      ]
    },
    {
      "metadata": {
        "id": "Xu-NR4WqiXrf",
        "colab_type": "code",
        "outputId": "c5807481-468d-460e-923f-682de0eea2ec",
        "colab": {
          "base_uri": "https://localhost:8080/",
          "height": 142
        }
      },
      "cell_type": "code",
      "source": [
        "pd.crosstab(train['Survived'], (train['Age'] > 35) & (train['Age'] <= 90))"
      ],
      "execution_count": 10,
      "outputs": [
        {
          "output_type": "execute_result",
          "data": {
            "text/html": [
              "<div>\n",
              "<style scoped>\n",
              "    .dataframe tbody tr th:only-of-type {\n",
              "        vertical-align: middle;\n",
              "    }\n",
              "\n",
              "    .dataframe tbody tr th {\n",
              "        vertical-align: top;\n",
              "    }\n",
              "\n",
              "    .dataframe thead th {\n",
              "        text-align: right;\n",
              "    }\n",
              "</style>\n",
              "<table border=\"1\" class=\"dataframe\">\n",
              "  <thead>\n",
              "    <tr style=\"text-align: right;\">\n",
              "      <th>Age</th>\n",
              "      <th>False</th>\n",
              "      <th>True</th>\n",
              "    </tr>\n",
              "    <tr>\n",
              "      <th>Survived</th>\n",
              "      <th></th>\n",
              "      <th></th>\n",
              "    </tr>\n",
              "  </thead>\n",
              "  <tbody>\n",
              "    <tr>\n",
              "      <th>0</th>\n",
              "      <td>415</td>\n",
              "      <td>134</td>\n",
              "    </tr>\n",
              "    <tr>\n",
              "      <th>1</th>\n",
              "      <td>259</td>\n",
              "      <td>83</td>\n",
              "    </tr>\n",
              "  </tbody>\n",
              "</table>\n",
              "</div>"
            ],
            "text/plain": [
              "Age       False  True \n",
              "Survived              \n",
              "0           415    134\n",
              "1           259     83"
            ]
          },
          "metadata": {
            "tags": []
          },
          "execution_count": 10
        }
      ]
    },
    {
      "metadata": {
        "id": "oF8znaa6iblg",
        "colab_type": "text"
      },
      "cell_type": "markdown",
      "source": [
        "There were 217 people in middle or old ages in which 38% Survived.\n",
        "\n",
        "So, we come to the conclusion that, mostly children were survived in the incident.\n",
        "\n",
        "\n",
        "\n",
        "---"
      ]
    },
    {
      "metadata": {
        "id": "3ES8pI79izcu",
        "colab_type": "text"
      },
      "cell_type": "markdown",
      "source": [
        "# 2. Visual Exploratory Analysis\n",
        "\n",
        "First, we'll check whether the numerical features are normally distributed or not."
      ]
    },
    {
      "metadata": {
        "id": "x6QHvb0GjNz-",
        "colab_type": "code",
        "outputId": "b50b336f-2d45-4f47-fc27-e1b7c3c82ce9",
        "colab": {
          "base_uri": "https://localhost:8080/",
          "height": 361
        }
      },
      "cell_type": "code",
      "source": [
        "sns.distplot(train['Pclass']);"
      ],
      "execution_count": 11,
      "outputs": [
        {
          "output_type": "display_data",
          "data": {
            "image/png": "[encoded data removed]",
            "text/plain": [
              "<matplotlib.figure.Figure at 0x7f8ef04bf828>"
            ]
          },
          "metadata": {
            "tags": []
          }
        }
      ]
    },
    {
      "metadata": {
        "id": "SkKYNxUQjSVD",
        "colab_type": "code",
        "outputId": "b66a471e-b7ac-4efc-f3f5-4545b385232d",
        "colab": {
          "base_uri": "https://localhost:8080/",
          "height": 361
        }
      },
      "cell_type": "code",
      "source": [
        "sns.distplot(train['SibSp']);"
      ],
      "execution_count": 12,
      "outputs": [
        {
          "output_type": "display_data",
          "data": {
            "image/png": "[encoded data removed]",
            "text/plain": [
              "<matplotlib.figure.Figure at 0x7f8ef0403b00>"
            ]
          },
          "metadata": {
            "tags": []
          }
        }
      ]
    },
    {
      "metadata": {
        "id": "ohVbpgROjUxJ",
        "colab_type": "code",
        "outputId": "afb8f50f-d8ca-4bd1-c96d-95ef242e3739",
        "colab": {
          "base_uri": "https://localhost:8080/",
          "height": 361
        }
      },
      "cell_type": "code",
      "source": [
        "sns.distplot(train['Fare']);"
      ],
      "execution_count": 13,
      "outputs": [
        {
          "output_type": "display_data",
          "data": {
            "image/png": "[encoded data removed]",
            "text/plain": [
              "<matplotlib.figure.Figure at 0x7f8eedbd0e10>"
            ]
          },
          "metadata": {
            "tags": []
          }
        }
      ]
    },
    {
      "metadata": {
        "id": "ZNtph0ZMjc7l",
        "colab_type": "text"
      },
      "cell_type": "markdown",
      "source": [
        "From the plots, we can see that the dataset is not normally distributed."
      ]
    },
    {
      "metadata": {
        "id": "u0M2pkI2jhYP",
        "colab_type": "code",
        "outputId": "ee089b26-fa66-4382-baff-a74ffd7cd205",
        "colab": {
          "base_uri": "https://localhost:8080/",
          "height": 279
        }
      },
      "cell_type": "code",
      "source": [
        "# Checking the frequency distribution of the target variable\n",
        "train['Survived'].value_counts()\n",
        "_, axes = plt.subplots(nrows=1, ncols=1, figsize=(12, 4))\n",
        "sns.countplot(x='Survived', data=train, ax=axes);"
      ],
      "execution_count": 14,
      "outputs": [
        {
          "output_type": "display_data",
          "data": {
            "image/png": "[encoded data removed]",
            "text/plain": [
              "<matplotlib.figure.Figure at 0x7f8eedb5d710>"
            ]
          },
          "metadata": {
            "tags": []
          }
        }
      ]
    },
    {
      "metadata": {
        "id": "XYsc4GNTjo_V",
        "colab_type": "text"
      },
      "cell_type": "markdown",
      "source": [
        "Let’s look at the correlations among the numerical variables in our dataset."
      ]
    },
    {
      "metadata": {
        "id": "6hXw8ErAjsJj",
        "colab_type": "code",
        "outputId": "797e1efe-8dba-494b-8cea-1dc310377adc",
        "colab": {
          "base_uri": "https://localhost:8080/",
          "height": 347
        }
      },
      "cell_type": "code",
      "source": [
        "# Drop non-numerical variables\n",
        "numerical = list(set(train.columns) - set(['Survived', 'Name', 'Sex', 'Ticket', 'Cabin', 'Embarked']))\n",
        "\n",
        "# Calculate and plot\n",
        "corr_matrix = train[numerical].corr()\n",
        "sns.heatmap(corr_matrix);"
      ],
      "execution_count": 15,
      "outputs": [
        {
          "output_type": "display_data",
          "data": {
            "image/png": "[encoded data removed]",
            "text/plain": [
              "<matplotlib.figure.Figure at 0x7f8ef04fd7f0>"
            ]
          },
          "metadata": {
            "tags": []
          }
        }
      ]
    },
    {
      "metadata": {
        "id": "ecfBEulFk_FW",
        "colab_type": "text"
      },
      "cell_type": "markdown",
      "source": [
        "we can see the correlation between **Parch** and **SibSp**.\n",
        "\n",
        "Sometimes you can analyze an ordinal variable as numerical one:"
      ]
    },
    {
      "metadata": {
        "id": "VsycO_hVlJTH",
        "colab_type": "code",
        "outputId": "5ef1f612-10e8-48c0-da2a-be7a51c42fe8",
        "colab": {
          "base_uri": "https://localhost:8080/",
          "height": 509
        }
      },
      "cell_type": "code",
      "source": [
        "fig, axes = plt.subplots(nrows=2, ncols=4, figsize=(10, 7))\n",
        "for idx, feat in enumerate(numerical): \n",
        "    ax = axes[int(idx / 4), idx % 4] \n",
        "    sns.boxplot(x='Survived', y=feat, data=train, ax=ax) \n",
        "    ax.set_xlabel('') \n",
        "    ax.set_ylabel(feat) \n",
        "fig.tight_layout();"
      ],
      "execution_count": 16,
      "outputs": [
        {
          "output_type": "display_data",
          "data": {
            "image/png": "[encoded data removed]",
            "text/plain": [
              "<matplotlib.figure.Figure at 0x7f8eed986668>"
            ]
          },
          "metadata": {
            "tags": []
          }
        }
      ]
    },
    {
      "metadata": {
        "id": "gJRVJ11ElUuF",
        "colab_type": "text"
      },
      "cell_type": "markdown",
      "source": [
        "The above subplots shows some interesting facts.\n",
        "\n",
        "1. People with 8 and 5 siblings on the ship didn't survive at all.\n",
        "2. Passenger class (Pclass) Lower class (3) didn't survive at all.\n",
        "\n",
        "---\n",
        "\n",
        "# 3. Data Preprocessing"
      ]
    },
    {
      "metadata": {
        "id": "ZrutH3QsnOt_",
        "colab_type": "text"
      },
      "cell_type": "markdown",
      "source": [
        "## 3.1. Handling Missing Values"
      ]
    },
    {
      "metadata": {
        "id": "-dm9bOdfmavR",
        "colab_type": "code",
        "outputId": "5d87890c-8d73-4dc2-b67f-b4183da928d7",
        "colab": {
          "base_uri": "https://localhost:8080/",
          "height": 238
        }
      },
      "cell_type": "code",
      "source": [
        "# Checking for missing values\n",
        "train.isnull().sum()"
      ],
      "execution_count": 17,
      "outputs": [
        {
          "output_type": "execute_result",
          "data": {
            "text/plain": [
              "PassengerId      0\n",
              "Survived         0\n",
              "Pclass           0\n",
              "Name             0\n",
              "Sex              0\n",
              "Age            177\n",
              "SibSp            0\n",
              "Parch            0\n",
              "Ticket           0\n",
              "Fare             0\n",
              "Cabin          687\n",
              "Embarked         2\n",
              "dtype: int64"
            ]
          },
          "metadata": {
            "tags": []
          },
          "execution_count": 17
        }
      ]
    },
    {
      "metadata": {
        "id": "2t-QSHdWmp_p",
        "colab_type": "text"
      },
      "cell_type": "markdown",
      "source": [
        "Training dataset have missing values in Age (float64) and Embarked (object)."
      ]
    },
    {
      "metadata": {
        "id": "IM42ixbWmlVv",
        "colab_type": "code",
        "outputId": "45caa5bd-1702-47e0-95f7-456805a42abc",
        "colab": {
          "base_uri": "https://localhost:8080/",
          "height": 221
        }
      },
      "cell_type": "code",
      "source": [
        "test.isnull().sum()"
      ],
      "execution_count": 18,
      "outputs": [
        {
          "output_type": "execute_result",
          "data": {
            "text/plain": [
              "PassengerId      0\n",
              "Pclass           0\n",
              "Name             0\n",
              "Sex              0\n",
              "Age             86\n",
              "SibSp            0\n",
              "Parch            0\n",
              "Ticket           0\n",
              "Fare             1\n",
              "Cabin          327\n",
              "Embarked         0\n",
              "dtype: int64"
            ]
          },
          "metadata": {
            "tags": []
          },
          "execution_count": 18
        }
      ]
    },
    {
      "metadata": {
        "id": "_JK556I7muV_",
        "colab_type": "text"
      },
      "cell_type": "markdown",
      "source": [
        "Test set have missing values in Age (float64) and Fare (float64)"
      ]
    },
    {
      "metadata": {
        "id": "hgs7PtU6myi_",
        "colab_type": "code",
        "colab": {}
      },
      "cell_type": "code",
      "source": [
        "# Function to handle numerical features missing values\n",
        "def handle_num_missing_values(dataset, columns):\n",
        "    for i in range(0, len(columns)):\n",
        "        dataset[columns[i]].fillna(dataset[columns[i]].median(), inplace=True)\n",
        "   \n",
        "# Function to handle categorical features missing values\n",
        "def handle_obj_missing_values(dataset, columns):\n",
        "    for i in range(0, len(columns)):\n",
        "        dataset[columns[i]].fillna(method='bfill', inplace=True)\n",
        "        \n",
        "handle_num_missing_values(train, ['Age'])\n",
        "handle_num_missing_values(test, ['Age', 'Fare'])\n",
        "handle_obj_missing_values(train, ['Embarked'])"
      ],
      "execution_count": 0,
      "outputs": []
    },
    {
      "metadata": {
        "id": "PDmOlKI6nJu9",
        "colab_type": "text"
      },
      "cell_type": "markdown",
      "source": [
        "## 3.2. Feature Engineering"
      ]
    },
    {
      "metadata": {
        "id": "AfuYfRNxncSk",
        "colab_type": "text"
      },
      "cell_type": "markdown",
      "source": [
        "We'll create a feature from **Cabin**, if empty Cabin, assign feature value as *0*, else *1*."
      ]
    },
    {
      "metadata": {
        "id": "uLfAk_Bdnvdz",
        "colab_type": "code",
        "outputId": "8bce3f28-c7ca-48e2-9fe3-78812d0a1a6c",
        "colab": {
          "base_uri": "https://localhost:8080/",
          "height": 179
        }
      },
      "cell_type": "code",
      "source": [
        "train['HasCabin'] = train['Cabin'].where(train['Cabin'].isnull(), 1).fillna(0).astype(int)\n",
        "test['HasCabin'] = test['Cabin'].where(test['Cabin'].isnull(), 1).fillna(0).astype(int)\n",
        "\n",
        "train.head(2)"
      ],
      "execution_count": 20,
      "outputs": [
        {
          "output_type": "execute_result",
          "data": {
            "text/html": [
              "<div>\n",
              "<style scoped>\n",
              "    .dataframe tbody tr th:only-of-type {\n",
              "        vertical-align: middle;\n",
              "    }\n",
              "\n",
              "    .dataframe tbody tr th {\n",
              "        vertical-align: top;\n",
              "    }\n",
              "\n",
              "    .dataframe thead th {\n",
              "        text-align: right;\n",
              "    }\n",
              "</style>\n",
              "<table border=\"1\" class=\"dataframe\">\n",
              "  <thead>\n",
              "    <tr style=\"text-align: right;\">\n",
              "      <th></th>\n",
              "      <th>PassengerId</th>\n",
              "      <th>Survived</th>\n",
              "      <th>Pclass</th>\n",
              "      <th>Name</th>\n",
              "      <th>Sex</th>\n",
              "      <th>Age</th>\n",
              "      <th>SibSp</th>\n",
              "      <th>Parch</th>\n",
              "      <th>Ticket</th>\n",
              "      <th>Fare</th>\n",
              "      <th>Cabin</th>\n",
              "      <th>Embarked</th>\n",
              "      <th>HasCabin</th>\n",
              "    </tr>\n",
              "  </thead>\n",
              "  <tbody>\n",
              "    <tr>\n",
              "      <th>0</th>\n",
              "      <td>1</td>\n",
              "      <td>0</td>\n",
              "      <td>3</td>\n",
              "      <td>Braund, Mr. Owen Harris</td>\n",
              "      <td>male</td>\n",
              "      <td>22.0</td>\n",
              "      <td>1</td>\n",
              "      <td>0</td>\n",
              "      <td>A/5 21171</td>\n",
              "      <td>7.2500</td>\n",
              "      <td>NaN</td>\n",
              "      <td>S</td>\n",
              "      <td>0</td>\n",
              "    </tr>\n",
              "    <tr>\n",
              "      <th>1</th>\n",
              "      <td>2</td>\n",
              "      <td>1</td>\n",
              "      <td>1</td>\n",
              "      <td>Cumings, Mrs. John Bradley (Florence Briggs Th...</td>\n",
              "      <td>female</td>\n",
              "      <td>38.0</td>\n",
              "      <td>1</td>\n",
              "      <td>0</td>\n",
              "      <td>PC 17599</td>\n",
              "      <td>71.2833</td>\n",
              "      <td>C85</td>\n",
              "      <td>C</td>\n",
              "      <td>1</td>\n",
              "    </tr>\n",
              "  </tbody>\n",
              "</table>\n",
              "</div>"
            ],
            "text/plain": [
              "   PassengerId  Survived  Pclass  \\\n",
              "0            1         0       3   \n",
              "1            2         1       1   \n",
              "\n",
              "                                                Name     Sex   Age  SibSp  \\\n",
              "0                            Braund, Mr. Owen Harris    male  22.0      1   \n",
              "1  Cumings, Mrs. John Bradley (Florence Briggs Th...  female  38.0      1   \n",
              "\n",
              "   Parch     Ticket     Fare Cabin Embarked  HasCabin  \n",
              "0      0  A/5 21171   7.2500   NaN        S         0  \n",
              "1      0   PC 17599  71.2833   C85        C         1  "
            ]
          },
          "metadata": {
            "tags": []
          },
          "execution_count": 20
        }
      ]
    },
    {
      "metadata": {
        "id": "ZZegECSQoB96",
        "colab_type": "code",
        "colab": {}
      },
      "cell_type": "code",
      "source": [
        "def feature_engineering(dataset):\n",
        "    # Create new feature 'Title' from 'Name'\n",
        "    dataset['Title'] = dataset['Name'].str.split(',', expand=True)[1].str.split('.', expand=True)[0]\n",
        "    \n",
        "    # Create new feature 'FamilySize', by adding SibSp, Parch, 1 (The Passenger)\n",
        "    dataset['FamilySize'] = dataset['SibSp'] + dataset['Parch'] + 1\n",
        "    \n",
        "    # Create new feature 'IsAlone'\n",
        "    dataset['IsAlone'] = 1\n",
        "    dataset['IsAlone'].loc[dataset['FamilySize'] > 1] = 0\n",
        "    \n",
        "    # Create Age bins\n",
        "    dataset['AgeBin'] = pd.cut(dataset['Age'].astype(int), 4, labels=['1 -20', '20-40', '40-60', '60-80'])\n",
        "    \n",
        "    # Create Fare Bin\n",
        "    dataset['FareBin'] = pd.qcut(dataset['Fare'], 4, labels=['1-200', '200-400', '400-500', '500-600'])\n",
        "    \n",
        "    return dataset\n",
        "\n",
        "train, test = feature_engineering(train), feature_engineering(test)"
      ],
      "execution_count": 0,
      "outputs": []
    },
    {
      "metadata": {
        "id": "0edXw8GdoSbG",
        "colab_type": "code",
        "outputId": "9e97c844-a936-4452-9124-ceadd1ee6c09",
        "colab": {
          "base_uri": "https://localhost:8080/",
          "height": 267
        }
      },
      "cell_type": "code",
      "source": [
        "train.head(2)"
      ],
      "execution_count": 22,
      "outputs": [
        {
          "output_type": "execute_result",
          "data": {
            "text/html": [
              "<div>\n",
              "<style scoped>\n",
              "    .dataframe tbody tr th:only-of-type {\n",
              "        vertical-align: middle;\n",
              "    }\n",
              "\n",
              "    .dataframe tbody tr th {\n",
              "        vertical-align: top;\n",
              "    }\n",
              "\n",
              "    .dataframe thead th {\n",
              "        text-align: right;\n",
              "    }\n",
              "</style>\n",
              "<table border=\"1\" class=\"dataframe\">\n",
              "  <thead>\n",
              "    <tr style=\"text-align: right;\">\n",
              "      <th></th>\n",
              "      <th>PassengerId</th>\n",
              "      <th>Survived</th>\n",
              "      <th>Pclass</th>\n",
              "      <th>Name</th>\n",
              "      <th>Sex</th>\n",
              "      <th>Age</th>\n",
              "      <th>SibSp</th>\n",
              "      <th>Parch</th>\n",
              "      <th>Ticket</th>\n",
              "      <th>Fare</th>\n",
              "      <th>Cabin</th>\n",
              "      <th>Embarked</th>\n",
              "      <th>HasCabin</th>\n",
              "      <th>Title</th>\n",
              "      <th>FamilySize</th>\n",
              "      <th>IsAlone</th>\n",
              "      <th>AgeBin</th>\n",
              "      <th>FareBin</th>\n",
              "    </tr>\n",
              "  </thead>\n",
              "  <tbody>\n",
              "    <tr>\n",
              "      <th>0</th>\n",
              "      <td>1</td>\n",
              "      <td>0</td>\n",
              "      <td>3</td>\n",
              "      <td>Braund, Mr. Owen Harris</td>\n",
              "      <td>male</td>\n",
              "      <td>22.0</td>\n",
              "      <td>1</td>\n",
              "      <td>0</td>\n",
              "      <td>A/5 21171</td>\n",
              "      <td>7.2500</td>\n",
              "      <td>NaN</td>\n",
              "      <td>S</td>\n",
              "      <td>0</td>\n",
              "      <td>Mr</td>\n",
              "      <td>2</td>\n",
              "      <td>0</td>\n",
              "      <td>20-40</td>\n",
              "      <td>1-200</td>\n",
              "    </tr>\n",
              "    <tr>\n",
              "      <th>1</th>\n",
              "      <td>2</td>\n",
              "      <td>1</td>\n",
              "      <td>1</td>\n",
              "      <td>Cumings, Mrs. John Bradley (Florence Briggs Th...</td>\n",
              "      <td>female</td>\n",
              "      <td>38.0</td>\n",
              "      <td>1</td>\n",
              "      <td>0</td>\n",
              "      <td>PC 17599</td>\n",
              "      <td>71.2833</td>\n",
              "      <td>C85</td>\n",
              "      <td>C</td>\n",
              "      <td>1</td>\n",
              "      <td>Mrs</td>\n",
              "      <td>2</td>\n",
              "      <td>0</td>\n",
              "      <td>20-40</td>\n",
              "      <td>500-600</td>\n",
              "    </tr>\n",
              "  </tbody>\n",
              "</table>\n",
              "</div>"
            ],
            "text/plain": [
              "   PassengerId  Survived  Pclass  \\\n",
              "0            1         0       3   \n",
              "1            2         1       1   \n",
              "\n",
              "                                                Name     Sex   Age  SibSp  \\\n",
              "0                            Braund, Mr. Owen Harris    male  22.0      1   \n",
              "1  Cumings, Mrs. John Bradley (Florence Briggs Th...  female  38.0      1   \n",
              "\n",
              "   Parch     Ticket     Fare Cabin Embarked  HasCabin Title  FamilySize  \\\n",
              "0      0  A/5 21171   7.2500   NaN        S         0    Mr           2   \n",
              "1      0   PC 17599  71.2833   C85        C         1   Mrs           2   \n",
              "\n",
              "   IsAlone AgeBin  FareBin  \n",
              "0        0  20-40    1-200  \n",
              "1        0  20-40  500-600  "
            ]
          },
          "metadata": {
            "tags": []
          },
          "execution_count": 22
        }
      ]
    },
    {
      "metadata": {
        "id": "dlXGauzxoccj",
        "colab_type": "text"
      },
      "cell_type": "markdown",
      "source": [
        "We have created 5 new features from the existing features.\n",
        "\n",
        "1. Title: Splitting the titles from name e-g, Mr, Ms, Dr.\n",
        "2. FamilySize: Adding SibSp (Siblings etc) plus Parch(Parents etc) + the pessengers.\n",
        "3. IsAlone: Create a new column to check whether the passenger is alone or not on the ship.\n",
        "4. AgeBin: Create a new feature containing age ranges that describes in which age range the passenger fall into.\n",
        "5. FareBin: Similary, create a 'FareBin' feature.\n",
        "\n",
        "Let's check the unique title in the '**Title**' feature"
      ]
    },
    {
      "metadata": {
        "id": "DVg-IIRCooxt",
        "colab_type": "code",
        "outputId": "0f9a69ff-243a-4451-b330-87a02537b767",
        "colab": {
          "base_uri": "https://localhost:8080/",
          "height": 323
        }
      },
      "cell_type": "code",
      "source": [
        "train['Title'].value_counts()"
      ],
      "execution_count": 23,
      "outputs": [
        {
          "output_type": "execute_result",
          "data": {
            "text/plain": [
              " Mr              517\n",
              " Miss            182\n",
              " Mrs             125\n",
              " Master           40\n",
              " Dr                7\n",
              " Rev               6\n",
              " Col               2\n",
              " Mlle              2\n",
              " Major             2\n",
              " Jonkheer          1\n",
              " Lady              1\n",
              " Don               1\n",
              " Capt              1\n",
              " Mme               1\n",
              " the Countess      1\n",
              " Ms                1\n",
              " Sir               1\n",
              "Name: Title, dtype: int64"
            ]
          },
          "metadata": {
            "tags": []
          },
          "execution_count": 23
        }
      ]
    },
    {
      "metadata": {
        "id": "D6V7gY7-os2u",
        "colab_type": "text"
      },
      "cell_type": "markdown",
      "source": [
        "There are 14 unique values. So we're going to give a unique name 'Misc' to the titles which are occurring less than 10 times."
      ]
    },
    {
      "metadata": {
        "id": "UyRmyYR4oxo5",
        "colab_type": "code",
        "outputId": "dc08bf43-ed5a-43ab-83af-ea54d114bb63",
        "colab": {
          "base_uri": "https://localhost:8080/",
          "height": 315
        }
      },
      "cell_type": "code",
      "source": [
        "# Function to clean up rare titles\n",
        "def clean_titles(dataset):\n",
        "    title_names = dataset['Title'].value_counts() < 10\n",
        "    dataset['Title'] = dataset['Title'].apply(lambda x: 'Misc' if title_names.loc[x] == True else x)\n",
        "    return dataset\n",
        "\n",
        "train = clean_titles(train)\n",
        "test = clean_titles(test)\n",
        "train['Title'].value_counts()\n",
        "\n",
        "train.head(3)"
      ],
      "execution_count": 24,
      "outputs": [
        {
          "output_type": "execute_result",
          "data": {
            "text/html": [
              "<div>\n",
              "<style scoped>\n",
              "    .dataframe tbody tr th:only-of-type {\n",
              "        vertical-align: middle;\n",
              "    }\n",
              "\n",
              "    .dataframe tbody tr th {\n",
              "        vertical-align: top;\n",
              "    }\n",
              "\n",
              "    .dataframe thead th {\n",
              "        text-align: right;\n",
              "    }\n",
              "</style>\n",
              "<table border=\"1\" class=\"dataframe\">\n",
              "  <thead>\n",
              "    <tr style=\"text-align: right;\">\n",
              "      <th></th>\n",
              "      <th>PassengerId</th>\n",
              "      <th>Survived</th>\n",
              "      <th>Pclass</th>\n",
              "      <th>Name</th>\n",
              "      <th>Sex</th>\n",
              "      <th>Age</th>\n",
              "      <th>SibSp</th>\n",
              "      <th>Parch</th>\n",
              "      <th>Ticket</th>\n",
              "      <th>Fare</th>\n",
              "      <th>Cabin</th>\n",
              "      <th>Embarked</th>\n",
              "      <th>HasCabin</th>\n",
              "      <th>Title</th>\n",
              "      <th>FamilySize</th>\n",
              "      <th>IsAlone</th>\n",
              "      <th>AgeBin</th>\n",
              "      <th>FareBin</th>\n",
              "    </tr>\n",
              "  </thead>\n",
              "  <tbody>\n",
              "    <tr>\n",
              "      <th>0</th>\n",
              "      <td>1</td>\n",
              "      <td>0</td>\n",
              "      <td>3</td>\n",
              "      <td>Braund, Mr. Owen Harris</td>\n",
              "      <td>male</td>\n",
              "      <td>22.0</td>\n",
              "      <td>1</td>\n",
              "      <td>0</td>\n",
              "      <td>A/5 21171</td>\n",
              "      <td>7.2500</td>\n",
              "      <td>NaN</td>\n",
              "      <td>S</td>\n",
              "      <td>0</td>\n",
              "      <td>Mr</td>\n",
              "      <td>2</td>\n",
              "      <td>0</td>\n",
              "      <td>20-40</td>\n",
              "      <td>1-200</td>\n",
              "    </tr>\n",
              "    <tr>\n",
              "      <th>1</th>\n",
              "      <td>2</td>\n",
              "      <td>1</td>\n",
              "      <td>1</td>\n",
              "      <td>Cumings, Mrs. John Bradley (Florence Briggs Th...</td>\n",
              "      <td>female</td>\n",
              "      <td>38.0</td>\n",
              "      <td>1</td>\n",
              "      <td>0</td>\n",
              "      <td>PC 17599</td>\n",
              "      <td>71.2833</td>\n",
              "      <td>C85</td>\n",
              "      <td>C</td>\n",
              "      <td>1</td>\n",
              "      <td>Mrs</td>\n",
              "      <td>2</td>\n",
              "      <td>0</td>\n",
              "      <td>20-40</td>\n",
              "      <td>500-600</td>\n",
              "    </tr>\n",
              "    <tr>\n",
              "      <th>2</th>\n",
              "      <td>3</td>\n",
              "      <td>1</td>\n",
              "      <td>3</td>\n",
              "      <td>Heikkinen, Miss. Laina</td>\n",
              "      <td>female</td>\n",
              "      <td>26.0</td>\n",
              "      <td>0</td>\n",
              "      <td>0</td>\n",
              "      <td>STON/O2. 3101282</td>\n",
              "      <td>7.9250</td>\n",
              "      <td>NaN</td>\n",
              "      <td>S</td>\n",
              "      <td>0</td>\n",
              "      <td>Miss</td>\n",
              "      <td>1</td>\n",
              "      <td>1</td>\n",
              "      <td>20-40</td>\n",
              "      <td>200-400</td>\n",
              "    </tr>\n",
              "  </tbody>\n",
              "</table>\n",
              "</div>"
            ],
            "text/plain": [
              "   PassengerId  Survived  Pclass  \\\n",
              "0            1         0       3   \n",
              "1            2         1       1   \n",
              "2            3         1       3   \n",
              "\n",
              "                                                Name     Sex   Age  SibSp  \\\n",
              "0                            Braund, Mr. Owen Harris    male  22.0      1   \n",
              "1  Cumings, Mrs. John Bradley (Florence Briggs Th...  female  38.0      1   \n",
              "2                             Heikkinen, Miss. Laina  female  26.0      0   \n",
              "\n",
              "   Parch            Ticket     Fare Cabin Embarked  HasCabin  Title  \\\n",
              "0      0         A/5 21171   7.2500   NaN        S         0     Mr   \n",
              "1      0          PC 17599  71.2833   C85        C         1    Mrs   \n",
              "2      0  STON/O2. 3101282   7.9250   NaN        S         0   Miss   \n",
              "\n",
              "   FamilySize  IsAlone AgeBin  FareBin  \n",
              "0           2        0  20-40    1-200  \n",
              "1           2        0  20-40  500-600  \n",
              "2           1        1  20-40  200-400  "
            ]
          },
          "metadata": {
            "tags": []
          },
          "execution_count": 24
        }
      ]
    },
    {
      "metadata": {
        "id": "xJS3wGHUo6j8",
        "colab_type": "text"
      },
      "cell_type": "markdown",
      "source": [
        "We'll create 2 new features (**Last Name and Frequency of Last Name**) from the **Name** column."
      ]
    },
    {
      "metadata": {
        "id": "apAt_m8hpIOO",
        "colab_type": "code",
        "outputId": "d5c55e09-a3fe-4d1c-98b9-0e6117b274e6",
        "colab": {
          "base_uri": "https://localhost:8080/",
          "height": 496
        }
      },
      "cell_type": "code",
      "source": [
        "def get_frequence_of_last_names(dataset):\n",
        "    dataset['LName'] = dataset['Name'].str.split(',', expand=True)[0]\n",
        "    dataset['LName_freq'] = dataset['LName'].map(dataset['LName'].value_counts())\n",
        "    return dataset\n",
        "\n",
        "train, test = get_frequence_of_last_names(train), get_frequence_of_last_names(test)\n",
        "train.head(5)"
      ],
      "execution_count": 25,
      "outputs": [
        {
          "output_type": "execute_result",
          "data": {
            "text/html": [
              "<div>\n",
              "<style scoped>\n",
              "    .dataframe tbody tr th:only-of-type {\n",
              "        vertical-align: middle;\n",
              "    }\n",
              "\n",
              "    .dataframe tbody tr th {\n",
              "        vertical-align: top;\n",
              "    }\n",
              "\n",
              "    .dataframe thead th {\n",
              "        text-align: right;\n",
              "    }\n",
              "</style>\n",
              "<table border=\"1\" class=\"dataframe\">\n",
              "  <thead>\n",
              "    <tr style=\"text-align: right;\">\n",
              "      <th></th>\n",
              "      <th>PassengerId</th>\n",
              "      <th>Survived</th>\n",
              "      <th>Pclass</th>\n",
              "      <th>Name</th>\n",
              "      <th>Sex</th>\n",
              "      <th>Age</th>\n",
              "      <th>SibSp</th>\n",
              "      <th>Parch</th>\n",
              "      <th>Ticket</th>\n",
              "      <th>Fare</th>\n",
              "      <th>Cabin</th>\n",
              "      <th>Embarked</th>\n",
              "      <th>HasCabin</th>\n",
              "      <th>Title</th>\n",
              "      <th>FamilySize</th>\n",
              "      <th>IsAlone</th>\n",
              "      <th>AgeBin</th>\n",
              "      <th>FareBin</th>\n",
              "      <th>LName</th>\n",
              "      <th>LName_freq</th>\n",
              "    </tr>\n",
              "  </thead>\n",
              "  <tbody>\n",
              "    <tr>\n",
              "      <th>0</th>\n",
              "      <td>1</td>\n",
              "      <td>0</td>\n",
              "      <td>3</td>\n",
              "      <td>Braund, Mr. Owen Harris</td>\n",
              "      <td>male</td>\n",
              "      <td>22.0</td>\n",
              "      <td>1</td>\n",
              "      <td>0</td>\n",
              "      <td>A/5 21171</td>\n",
              "      <td>7.2500</td>\n",
              "      <td>NaN</td>\n",
              "      <td>S</td>\n",
              "      <td>0</td>\n",
              "      <td>Mr</td>\n",
              "      <td>2</td>\n",
              "      <td>0</td>\n",
              "      <td>20-40</td>\n",
              "      <td>1-200</td>\n",
              "      <td>Braund</td>\n",
              "      <td>2</td>\n",
              "    </tr>\n",
              "    <tr>\n",
              "      <th>1</th>\n",
              "      <td>2</td>\n",
              "      <td>1</td>\n",
              "      <td>1</td>\n",
              "      <td>Cumings, Mrs. John Bradley (Florence Briggs Th...</td>\n",
              "      <td>female</td>\n",
              "      <td>38.0</td>\n",
              "      <td>1</td>\n",
              "      <td>0</td>\n",
              "      <td>PC 17599</td>\n",
              "      <td>71.2833</td>\n",
              "      <td>C85</td>\n",
              "      <td>C</td>\n",
              "      <td>1</td>\n",
              "      <td>Mrs</td>\n",
              "      <td>2</td>\n",
              "      <td>0</td>\n",
              "      <td>20-40</td>\n",
              "      <td>500-600</td>\n",
              "      <td>Cumings</td>\n",
              "      <td>1</td>\n",
              "    </tr>\n",
              "    <tr>\n",
              "      <th>2</th>\n",
              "      <td>3</td>\n",
              "      <td>1</td>\n",
              "      <td>3</td>\n",
              "      <td>Heikkinen, Miss. Laina</td>\n",
              "      <td>female</td>\n",
              "      <td>26.0</td>\n",
              "      <td>0</td>\n",
              "      <td>0</td>\n",
              "      <td>STON/O2. 3101282</td>\n",
              "      <td>7.9250</td>\n",
              "      <td>NaN</td>\n",
              "      <td>S</td>\n",
              "      <td>0</td>\n",
              "      <td>Miss</td>\n",
              "      <td>1</td>\n",
              "      <td>1</td>\n",
              "      <td>20-40</td>\n",
              "      <td>200-400</td>\n",
              "      <td>Heikkinen</td>\n",
              "      <td>1</td>\n",
              "    </tr>\n",
              "    <tr>\n",
              "      <th>3</th>\n",
              "      <td>4</td>\n",
              "      <td>1</td>\n",
              "      <td>1</td>\n",
              "      <td>Futrelle, Mrs. Jacques Heath (Lily May Peel)</td>\n",
              "      <td>female</td>\n",
              "      <td>35.0</td>\n",
              "      <td>1</td>\n",
              "      <td>0</td>\n",
              "      <td>113803</td>\n",
              "      <td>53.1000</td>\n",
              "      <td>C123</td>\n",
              "      <td>S</td>\n",
              "      <td>1</td>\n",
              "      <td>Mrs</td>\n",
              "      <td>2</td>\n",
              "      <td>0</td>\n",
              "      <td>20-40</td>\n",
              "      <td>500-600</td>\n",
              "      <td>Futrelle</td>\n",
              "      <td>2</td>\n",
              "    </tr>\n",
              "    <tr>\n",
              "      <th>4</th>\n",
              "      <td>5</td>\n",
              "      <td>0</td>\n",
              "      <td>3</td>\n",
              "      <td>Allen, Mr. William Henry</td>\n",
              "      <td>male</td>\n",
              "      <td>35.0</td>\n",
              "      <td>0</td>\n",
              "      <td>0</td>\n",
              "      <td>373450</td>\n",
              "      <td>8.0500</td>\n",
              "      <td>NaN</td>\n",
              "      <td>S</td>\n",
              "      <td>0</td>\n",
              "      <td>Mr</td>\n",
              "      <td>1</td>\n",
              "      <td>1</td>\n",
              "      <td>20-40</td>\n",
              "      <td>200-400</td>\n",
              "      <td>Allen</td>\n",
              "      <td>2</td>\n",
              "    </tr>\n",
              "  </tbody>\n",
              "</table>\n",
              "</div>"
            ],
            "text/plain": [
              "   PassengerId  Survived  Pclass  \\\n",
              "0            1         0       3   \n",
              "1            2         1       1   \n",
              "2            3         1       3   \n",
              "3            4         1       1   \n",
              "4            5         0       3   \n",
              "\n",
              "                                                Name     Sex   Age  SibSp  \\\n",
              "0                            Braund, Mr. Owen Harris    male  22.0      1   \n",
              "1  Cumings, Mrs. John Bradley (Florence Briggs Th...  female  38.0      1   \n",
              "2                             Heikkinen, Miss. Laina  female  26.0      0   \n",
              "3       Futrelle, Mrs. Jacques Heath (Lily May Peel)  female  35.0      1   \n",
              "4                           Allen, Mr. William Henry    male  35.0      0   \n",
              "\n",
              "   Parch            Ticket     Fare Cabin Embarked  HasCabin  Title  \\\n",
              "0      0         A/5 21171   7.2500   NaN        S         0     Mr   \n",
              "1      0          PC 17599  71.2833   C85        C         1    Mrs   \n",
              "2      0  STON/O2. 3101282   7.9250   NaN        S         0   Miss   \n",
              "3      0            113803  53.1000  C123        S         1    Mrs   \n",
              "4      0            373450   8.0500   NaN        S         0     Mr   \n",
              "\n",
              "   FamilySize  IsAlone AgeBin  FareBin      LName  LName_freq  \n",
              "0           2        0  20-40    1-200     Braund           2  \n",
              "1           2        0  20-40  500-600    Cumings           1  \n",
              "2           1        1  20-40  200-400  Heikkinen           1  \n",
              "3           2        0  20-40  500-600   Futrelle           2  \n",
              "4           1        1  20-40  200-400      Allen           2  "
            ]
          },
          "metadata": {
            "tags": []
          },
          "execution_count": 25
        }
      ]
    },
    {
      "metadata": {
        "id": "p4SmFv3OpYYp",
        "colab_type": "text"
      },
      "cell_type": "markdown",
      "source": [
        "Splitting the target varible from the training set."
      ]
    },
    {
      "metadata": {
        "id": "Q7M4_nN7pagw",
        "colab_type": "code",
        "colab": {}
      },
      "cell_type": "code",
      "source": [
        "y_train = train.iloc[:, 1].values"
      ],
      "execution_count": 0,
      "outputs": []
    },
    {
      "metadata": {
        "id": "QrByD3tJpeXQ",
        "colab_type": "text"
      },
      "cell_type": "markdown",
      "source": [
        "Removing unnecessary features."
      ]
    },
    {
      "metadata": {
        "id": "YGY_GwZfphuR",
        "colab_type": "code",
        "colab": {}
      },
      "cell_type": "code",
      "source": [
        "train.drop(['Name', 'LName', 'Survived', 'PassengerId', 'Ticket', 'Cabin'], inplace=True, axis=1)\n",
        "test.drop(['Name', 'LName', 'PassengerId', 'Ticket', 'Cabin'], inplace=True, axis=1)"
      ],
      "execution_count": 0,
      "outputs": []
    },
    {
      "metadata": {
        "id": "838cqLnypjEO",
        "colab_type": "code",
        "outputId": "2e2a7ebe-77e1-42f0-ed2e-b2fc980f6de6",
        "colab": {
          "base_uri": "https://localhost:8080/",
          "height": 224
        }
      },
      "cell_type": "code",
      "source": [
        "train.head(5)"
      ],
      "execution_count": 28,
      "outputs": [
        {
          "output_type": "execute_result",
          "data": {
            "text/html": [
              "<div>\n",
              "<style scoped>\n",
              "    .dataframe tbody tr th:only-of-type {\n",
              "        vertical-align: middle;\n",
              "    }\n",
              "\n",
              "    .dataframe tbody tr th {\n",
              "        vertical-align: top;\n",
              "    }\n",
              "\n",
              "    .dataframe thead th {\n",
              "        text-align: right;\n",
              "    }\n",
              "</style>\n",
              "<table border=\"1\" class=\"dataframe\">\n",
              "  <thead>\n",
              "    <tr style=\"text-align: right;\">\n",
              "      <th></th>\n",
              "      <th>Pclass</th>\n",
              "      <th>Sex</th>\n",
              "      <th>Age</th>\n",
              "      <th>SibSp</th>\n",
              "      <th>Parch</th>\n",
              "      <th>Fare</th>\n",
              "      <th>Embarked</th>\n",
              "      <th>HasCabin</th>\n",
              "      <th>Title</th>\n",
              "      <th>FamilySize</th>\n",
              "      <th>IsAlone</th>\n",
              "      <th>AgeBin</th>\n",
              "      <th>FareBin</th>\n",
              "      <th>LName_freq</th>\n",
              "    </tr>\n",
              "  </thead>\n",
              "  <tbody>\n",
              "    <tr>\n",
              "      <th>0</th>\n",
              "      <td>3</td>\n",
              "      <td>male</td>\n",
              "      <td>22.0</td>\n",
              "      <td>1</td>\n",
              "      <td>0</td>\n",
              "      <td>7.2500</td>\n",
              "      <td>S</td>\n",
              "      <td>0</td>\n",
              "      <td>Mr</td>\n",
              "      <td>2</td>\n",
              "      <td>0</td>\n",
              "      <td>20-40</td>\n",
              "      <td>1-200</td>\n",
              "      <td>2</td>\n",
              "    </tr>\n",
              "    <tr>\n",
              "      <th>1</th>\n",
              "      <td>1</td>\n",
              "      <td>female</td>\n",
              "      <td>38.0</td>\n",
              "      <td>1</td>\n",
              "      <td>0</td>\n",
              "      <td>71.2833</td>\n",
              "      <td>C</td>\n",
              "      <td>1</td>\n",
              "      <td>Mrs</td>\n",
              "      <td>2</td>\n",
              "      <td>0</td>\n",
              "      <td>20-40</td>\n",
              "      <td>500-600</td>\n",
              "      <td>1</td>\n",
              "    </tr>\n",
              "    <tr>\n",
              "      <th>2</th>\n",
              "      <td>3</td>\n",
              "      <td>female</td>\n",
              "      <td>26.0</td>\n",
              "      <td>0</td>\n",
              "      <td>0</td>\n",
              "      <td>7.9250</td>\n",
              "      <td>S</td>\n",
              "      <td>0</td>\n",
              "      <td>Miss</td>\n",
              "      <td>1</td>\n",
              "      <td>1</td>\n",
              "      <td>20-40</td>\n",
              "      <td>200-400</td>\n",
              "      <td>1</td>\n",
              "    </tr>\n",
              "    <tr>\n",
              "      <th>3</th>\n",
              "      <td>1</td>\n",
              "      <td>female</td>\n",
              "      <td>35.0</td>\n",
              "      <td>1</td>\n",
              "      <td>0</td>\n",
              "      <td>53.1000</td>\n",
              "      <td>S</td>\n",
              "      <td>1</td>\n",
              "      <td>Mrs</td>\n",
              "      <td>2</td>\n",
              "      <td>0</td>\n",
              "      <td>20-40</td>\n",
              "      <td>500-600</td>\n",
              "      <td>2</td>\n",
              "    </tr>\n",
              "    <tr>\n",
              "      <th>4</th>\n",
              "      <td>3</td>\n",
              "      <td>male</td>\n",
              "      <td>35.0</td>\n",
              "      <td>0</td>\n",
              "      <td>0</td>\n",
              "      <td>8.0500</td>\n",
              "      <td>S</td>\n",
              "      <td>0</td>\n",
              "      <td>Mr</td>\n",
              "      <td>1</td>\n",
              "      <td>1</td>\n",
              "      <td>20-40</td>\n",
              "      <td>200-400</td>\n",
              "      <td>2</td>\n",
              "    </tr>\n",
              "  </tbody>\n",
              "</table>\n",
              "</div>"
            ],
            "text/plain": [
              "   Pclass     Sex   Age  SibSp  Parch     Fare Embarked  HasCabin  Title  \\\n",
              "0       3    male  22.0      1      0   7.2500        S         0     Mr   \n",
              "1       1  female  38.0      1      0  71.2833        C         1    Mrs   \n",
              "2       3  female  26.0      0      0   7.9250        S         0   Miss   \n",
              "3       1  female  35.0      1      0  53.1000        S         1    Mrs   \n",
              "4       3    male  35.0      0      0   8.0500        S         0     Mr   \n",
              "\n",
              "   FamilySize  IsAlone AgeBin  FareBin  LName_freq  \n",
              "0           2        0  20-40    1-200           2  \n",
              "1           2        0  20-40  500-600           1  \n",
              "2           1        1  20-40  200-400           1  \n",
              "3           2        0  20-40  500-600           2  \n",
              "4           1        1  20-40  200-400           2  "
            ]
          },
          "metadata": {
            "tags": []
          },
          "execution_count": 28
        }
      ]
    },
    {
      "metadata": {
        "id": "1YWKQxNPrHzZ",
        "colab_type": "text"
      },
      "cell_type": "markdown",
      "source": [
        "## 3.3. Encoding\n",
        "\n",
        "We are going to label encode Sex, Embarked, Title, AgeBin, and FareBin features.\n",
        "\n",
        "**Note:** This is one of the most important data preprocessing part. So, please stick with me on this.\n",
        "\n",
        "**Problem:** \n",
        "\n",
        "When you apply encoding and scaling on training and test set. You apply *`fit_transform()`* to the training set and *`transform()`* to the test set.\n",
        "\n",
        "But, the problem is that using *`fit_transform()`*,  model learns parameters using training set. So, when you apply *`transform()`*, you might face an error:\n",
        "\n",
        "    *`ValueError: Unseen labels or values`*\n",
        "    \n",
        "This error happens when test set have new unseen values that your training set don't have. So, you'll have to take care of the error."
      ]
    },
    {
      "metadata": {
        "id": "ET9j9yn4s3LD",
        "colab_type": "code",
        "colab": {
          "base_uri": "https://localhost:8080/",
          "height": 162
        },
        "outputId": "b1544e4a-253e-4a15-d5f9-c3422ac7cab3"
      },
      "cell_type": "code",
      "source": [
        "# Label Encoding\n",
        "le = LabelEncoder()\n",
        "train['Sex'] = le.fit_transform(train['Sex'])\n",
        "test['Sex'] = le.transform(test['Sex'])\n",
        "train['Embarked'] = le.fit_transform(train['Embarked'])\n",
        "test['Embarked'] = le.transform(test['Embarked'])\n",
        "train['Title'] = le.fit_transform(train['Title'])\n",
        "test['Title'] = le.transform(test['Title'])\n",
        "train['AgeBin'] = le.fit_transform(train['AgeBin'])\n",
        "test['AgeBin'] = le.transform(test['AgeBin'])\n",
        "train['FareBin'] = le.fit_transform(train['FareBin'])\n",
        "test['FareBin'] = le.transform(test['FareBin'])\n",
        "\n",
        "train.head(3)"
      ],
      "execution_count": 29,
      "outputs": [
        {
          "output_type": "execute_result",
          "data": {
            "text/html": [
              "<div>\n",
              "<style scoped>\n",
              "    .dataframe tbody tr th:only-of-type {\n",
              "        vertical-align: middle;\n",
              "    }\n",
              "\n",
              "    .dataframe tbody tr th {\n",
              "        vertical-align: top;\n",
              "    }\n",
              "\n",
              "    .dataframe thead th {\n",
              "        text-align: right;\n",
              "    }\n",
              "</style>\n",
              "<table border=\"1\" class=\"dataframe\">\n",
              "  <thead>\n",
              "    <tr style=\"text-align: right;\">\n",
              "      <th></th>\n",
              "      <th>Pclass</th>\n",
              "      <th>Sex</th>\n",
              "      <th>Age</th>\n",
              "      <th>SibSp</th>\n",
              "      <th>Parch</th>\n",
              "      <th>Fare</th>\n",
              "      <th>Embarked</th>\n",
              "      <th>HasCabin</th>\n",
              "      <th>Title</th>\n",
              "      <th>FamilySize</th>\n",
              "      <th>IsAlone</th>\n",
              "      <th>AgeBin</th>\n",
              "      <th>FareBin</th>\n",
              "      <th>LName_freq</th>\n",
              "    </tr>\n",
              "  </thead>\n",
              "  <tbody>\n",
              "    <tr>\n",
              "      <th>0</th>\n",
              "      <td>3</td>\n",
              "      <td>1</td>\n",
              "      <td>22.0</td>\n",
              "      <td>1</td>\n",
              "      <td>0</td>\n",
              "      <td>7.2500</td>\n",
              "      <td>2</td>\n",
              "      <td>0</td>\n",
              "      <td>2</td>\n",
              "      <td>2</td>\n",
              "      <td>0</td>\n",
              "      <td>1</td>\n",
              "      <td>0</td>\n",
              "      <td>2</td>\n",
              "    </tr>\n",
              "    <tr>\n",
              "      <th>1</th>\n",
              "      <td>1</td>\n",
              "      <td>0</td>\n",
              "      <td>38.0</td>\n",
              "      <td>1</td>\n",
              "      <td>0</td>\n",
              "      <td>71.2833</td>\n",
              "      <td>0</td>\n",
              "      <td>1</td>\n",
              "      <td>3</td>\n",
              "      <td>2</td>\n",
              "      <td>0</td>\n",
              "      <td>1</td>\n",
              "      <td>3</td>\n",
              "      <td>1</td>\n",
              "    </tr>\n",
              "    <tr>\n",
              "      <th>2</th>\n",
              "      <td>3</td>\n",
              "      <td>0</td>\n",
              "      <td>26.0</td>\n",
              "      <td>0</td>\n",
              "      <td>0</td>\n",
              "      <td>7.9250</td>\n",
              "      <td>2</td>\n",
              "      <td>0</td>\n",
              "      <td>1</td>\n",
              "      <td>1</td>\n",
              "      <td>1</td>\n",
              "      <td>1</td>\n",
              "      <td>1</td>\n",
              "      <td>1</td>\n",
              "    </tr>\n",
              "  </tbody>\n",
              "</table>\n",
              "</div>"
            ],
            "text/plain": [
              "   Pclass  Sex   Age  SibSp  Parch     Fare  Embarked  HasCabin  Title  \\\n",
              "0       3    1  22.0      1      0   7.2500         2         0      2   \n",
              "1       1    0  38.0      1      0  71.2833         0         1      3   \n",
              "2       3    0  26.0      0      0   7.9250         2         0      1   \n",
              "\n",
              "   FamilySize  IsAlone  AgeBin  FareBin  LName_freq  \n",
              "0           2        0       1        0           2  \n",
              "1           2        0       1        3           1  \n",
              "2           1        1       1        1           1  "
            ]
          },
          "metadata": {
            "tags": []
          },
          "execution_count": 29
        }
      ]
    },
    {
      "metadata": {
        "id": "4oA2QB6ts9mK",
        "colab_type": "code",
        "colab": {
          "base_uri": "https://localhost:8080/",
          "height": 191
        },
        "outputId": "c5f0f83f-280f-4da9-fc23-0682266ea9f4"
      },
      "cell_type": "code",
      "source": [
        "# One Hot Encoding\n",
        "def one_hot(df, cols):\n",
        "    for each in cols:\n",
        "        dummies = pd.get_dummies(df[each], prefix=each, drop_first=True)\n",
        "        #dummies = pd.get_dummies(df[each], prefix=each)\n",
        "        df = pd.concat([df, dummies], axis=1)\n",
        "    return df\n",
        "\n",
        "train = one_hot(train, cols = ['Pclass', 'Embarked', 'Title', 'AgeBin', 'FareBin'])\n",
        "test = one_hot(test, cols = ['Pclass', 'Embarked', 'Title', 'AgeBin', 'FareBin'])\n",
        "\n",
        "train.head(3)"
      ],
      "execution_count": 30,
      "outputs": [
        {
          "output_type": "execute_result",
          "data": {
            "text/html": [
              "<div>\n",
              "<style scoped>\n",
              "    .dataframe tbody tr th:only-of-type {\n",
              "        vertical-align: middle;\n",
              "    }\n",
              "\n",
              "    .dataframe tbody tr th {\n",
              "        vertical-align: top;\n",
              "    }\n",
              "\n",
              "    .dataframe thead th {\n",
              "        text-align: right;\n",
              "    }\n",
              "</style>\n",
              "<table border=\"1\" class=\"dataframe\">\n",
              "  <thead>\n",
              "    <tr style=\"text-align: right;\">\n",
              "      <th></th>\n",
              "      <th>Pclass</th>\n",
              "      <th>Sex</th>\n",
              "      <th>Age</th>\n",
              "      <th>SibSp</th>\n",
              "      <th>Parch</th>\n",
              "      <th>Fare</th>\n",
              "      <th>Embarked</th>\n",
              "      <th>HasCabin</th>\n",
              "      <th>Title</th>\n",
              "      <th>FamilySize</th>\n",
              "      <th>...</th>\n",
              "      <th>Title_1</th>\n",
              "      <th>Title_2</th>\n",
              "      <th>Title_3</th>\n",
              "      <th>Title_4</th>\n",
              "      <th>AgeBin_1</th>\n",
              "      <th>AgeBin_2</th>\n",
              "      <th>AgeBin_3</th>\n",
              "      <th>FareBin_1</th>\n",
              "      <th>FareBin_2</th>\n",
              "      <th>FareBin_3</th>\n",
              "    </tr>\n",
              "  </thead>\n",
              "  <tbody>\n",
              "    <tr>\n",
              "      <th>0</th>\n",
              "      <td>3</td>\n",
              "      <td>1</td>\n",
              "      <td>22.0</td>\n",
              "      <td>1</td>\n",
              "      <td>0</td>\n",
              "      <td>7.2500</td>\n",
              "      <td>2</td>\n",
              "      <td>0</td>\n",
              "      <td>2</td>\n",
              "      <td>2</td>\n",
              "      <td>...</td>\n",
              "      <td>0</td>\n",
              "      <td>1</td>\n",
              "      <td>0</td>\n",
              "      <td>0</td>\n",
              "      <td>1</td>\n",
              "      <td>0</td>\n",
              "      <td>0</td>\n",
              "      <td>0</td>\n",
              "      <td>0</td>\n",
              "      <td>0</td>\n",
              "    </tr>\n",
              "    <tr>\n",
              "      <th>1</th>\n",
              "      <td>1</td>\n",
              "      <td>0</td>\n",
              "      <td>38.0</td>\n",
              "      <td>1</td>\n",
              "      <td>0</td>\n",
              "      <td>71.2833</td>\n",
              "      <td>0</td>\n",
              "      <td>1</td>\n",
              "      <td>3</td>\n",
              "      <td>2</td>\n",
              "      <td>...</td>\n",
              "      <td>0</td>\n",
              "      <td>0</td>\n",
              "      <td>1</td>\n",
              "      <td>0</td>\n",
              "      <td>1</td>\n",
              "      <td>0</td>\n",
              "      <td>0</td>\n",
              "      <td>0</td>\n",
              "      <td>0</td>\n",
              "      <td>1</td>\n",
              "    </tr>\n",
              "    <tr>\n",
              "      <th>2</th>\n",
              "      <td>3</td>\n",
              "      <td>0</td>\n",
              "      <td>26.0</td>\n",
              "      <td>0</td>\n",
              "      <td>0</td>\n",
              "      <td>7.9250</td>\n",
              "      <td>2</td>\n",
              "      <td>0</td>\n",
              "      <td>1</td>\n",
              "      <td>1</td>\n",
              "      <td>...</td>\n",
              "      <td>1</td>\n",
              "      <td>0</td>\n",
              "      <td>0</td>\n",
              "      <td>0</td>\n",
              "      <td>1</td>\n",
              "      <td>0</td>\n",
              "      <td>0</td>\n",
              "      <td>1</td>\n",
              "      <td>0</td>\n",
              "      <td>0</td>\n",
              "    </tr>\n",
              "  </tbody>\n",
              "</table>\n",
              "<p>3 rows × 28 columns</p>\n",
              "</div>"
            ],
            "text/plain": [
              "   Pclass  Sex   Age  SibSp  Parch     Fare  Embarked  HasCabin  Title  \\\n",
              "0       3    1  22.0      1      0   7.2500         2         0      2   \n",
              "1       1    0  38.0      1      0  71.2833         0         1      3   \n",
              "2       3    0  26.0      0      0   7.9250         2         0      1   \n",
              "\n",
              "   FamilySize    ...      Title_1  Title_2  Title_3  Title_4  AgeBin_1  \\\n",
              "0           2    ...            0        1        0        0         1   \n",
              "1           2    ...            0        0        1        0         1   \n",
              "2           1    ...            1        0        0        0         1   \n",
              "\n",
              "   AgeBin_2  AgeBin_3  FareBin_1  FareBin_2  FareBin_3  \n",
              "0         0         0          0          0          0  \n",
              "1         0         0          0          0          1  \n",
              "2         0         0          1          0          0  \n",
              "\n",
              "[3 rows x 28 columns]"
            ]
          },
          "metadata": {
            "tags": []
          },
          "execution_count": 30
        }
      ]
    },
    {
      "metadata": {
        "id": "aPFJXnrJtOH_",
        "colab_type": "text"
      },
      "cell_type": "markdown",
      "source": [
        "**Note:** I have removed first variable for avoiding the dummy variable trap.\n",
        "\n",
        "## 3.4. Feature Scaling"
      ]
    },
    {
      "metadata": {
        "id": "yZ5kM9khte6u",
        "colab_type": "code",
        "colab": {}
      },
      "cell_type": "code",
      "source": [
        "sc = StandardScaler()\n",
        "X_train = sc.fit_transform(train.values)\n",
        "X_test = sc.transform(test.values)"
      ],
      "execution_count": 0,
      "outputs": []
    },
    {
      "metadata": {
        "id": "Lada9EGctllk",
        "colab_type": "code",
        "colab": {
          "base_uri": "https://localhost:8080/",
          "height": 119
        },
        "outputId": "9f308672-be66-4e5b-e035-ee667e027d02"
      },
      "cell_type": "code",
      "source": [
        "X_train[3, :]"
      ],
      "execution_count": 33,
      "outputs": [
        {
          "output_type": "execute_result",
          "data": {
            "text/plain": [
              "array([-1.56610693, -1.35557354,  0.4333115 ,  0.43279337, -0.47367361,\n",
              "        0.42073024,  0.58766427,  1.835115  ,  1.37001673,  0.05915988,\n",
              "       -1.2316449 ,  0.0168801 ,  1.34475848,  0.0792407 , -0.51015154,\n",
              "       -1.10792599, -0.30756234,  0.61757214, -0.50665528, -1.17573506,\n",
              "        2.47547975, -0.1767767 ,  0.76327796, -0.40583972, -0.15911146,\n",
              "       -0.57951021, -0.57605431,  1.73594744])"
            ]
          },
          "metadata": {
            "tags": []
          },
          "execution_count": 33
        }
      ]
    },
    {
      "metadata": {
        "id": "p2YogA-ot29G",
        "colab_type": "text"
      },
      "cell_type": "markdown",
      "source": [
        "# 4. Modeling\n",
        "\n",
        "I'm going to implement 3 models to the dataset: XGBoost, Support Vector Machines, and Logistic Regression.\n",
        "\n",
        "**Note:** Parameter tuning has already been done using GridSearchCV.\n",
        "\n",
        "## 4.1. XGBoost"
      ]
    },
    {
      "metadata": {
        "id": "h7NzW5xmuqXq",
        "colab_type": "code",
        "colab": {
          "base_uri": "https://localhost:8080/",
          "height": 340
        },
        "outputId": "506b8524-12f9-4bb9-9363-1da2d2c7a735"
      },
      "cell_type": "code",
      "source": [
        "clf_1 = XGBClassifier(learning_rate = 0.01, gamma = 0.01, max_depth = 4, n_estimators = 200, subsample = 1,\n",
        "                      colsample_bytree = 1, objective = 'binary:logistic', random_state=0)\n",
        "clf_1.fit(X_train, y_train)\n",
        "\n",
        "y_pred_1 = clf_1.predict(X_test)\n",
        "\n",
        "y_pred_1"
      ],
      "execution_count": 34,
      "outputs": [
        {
          "output_type": "execute_result",
          "data": {
            "text/plain": [
              "array([0, 0, 0, 0, 1, 0, 1, 0, 1, 0, 0, 0, 1, 0, 1, 1, 0, 0, 1, 0, 0, 1,\n",
              "       1, 0, 1, 0, 1, 0, 0, 0, 0, 0, 1, 0, 0, 0, 1, 1, 0, 0, 0, 1, 0, 1,\n",
              "       1, 0, 0, 0, 1, 1, 0, 0, 1, 1, 0, 0, 0, 0, 0, 1, 0, 0, 0, 1, 1, 1,\n",
              "       1, 0, 0, 1, 1, 0, 1, 0, 1, 0, 0, 1, 0, 1, 1, 0, 0, 0, 0, 0, 1, 1,\n",
              "       1, 1, 1, 0, 1, 0, 0, 0, 1, 0, 1, 0, 1, 0, 0, 0, 1, 0, 0, 0, 0, 0,\n",
              "       0, 1, 1, 1, 1, 0, 0, 1, 0, 1, 1, 0, 1, 0, 0, 1, 0, 1, 0, 0, 0, 0,\n",
              "       0, 0, 0, 0, 0, 0, 1, 0, 0, 1, 0, 0, 1, 0, 0, 0, 1, 0, 1, 0, 0, 1,\n",
              "       0, 0, 1, 1, 1, 1, 1, 1, 1, 0, 0, 1, 0, 0, 1, 1, 0, 0, 0, 0, 0, 1,\n",
              "       1, 0, 1, 1, 0, 0, 1, 0, 1, 0, 1, 0, 0, 0, 0, 0, 1, 0, 1, 0, 1, 1,\n",
              "       0, 1, 1, 1, 1, 1, 0, 0, 1, 0, 1, 0, 0, 0, 0, 1, 0, 0, 1, 0, 1, 0,\n",
              "       1, 0, 1, 0, 1, 1, 0, 1, 0, 0, 0, 1, 0, 0, 0, 0, 0, 0, 1, 1, 1, 1,\n",
              "       0, 0, 0, 0, 1, 0, 1, 1, 1, 0, 0, 0, 0, 0, 0, 0, 1, 0, 0, 0, 1, 1,\n",
              "       0, 0, 0, 0, 1, 0, 0, 0, 1, 1, 0, 1, 0, 0, 0, 0, 1, 1, 1, 1, 1, 0,\n",
              "       0, 0, 0, 0, 0, 1, 0, 1, 0, 0, 1, 0, 0, 0, 0, 0, 0, 0, 1, 1, 0, 1,\n",
              "       0, 0, 0, 0, 0, 0, 1, 1, 0, 0, 0, 0, 0, 0, 0, 1, 1, 0, 1, 0, 0, 0,\n",
              "       1, 0, 0, 1, 0, 0, 0, 0, 0, 1, 0, 0, 0, 1, 1, 1, 0, 0, 0, 1, 1, 0,\n",
              "       0, 0, 1, 0, 1, 0, 0, 1, 0, 1, 1, 0, 1, 0, 0, 0, 1, 0, 0, 1, 0, 0,\n",
              "       1, 1, 1, 0, 0, 0, 0, 0, 1, 1, 0, 1, 0, 0, 0, 0, 0, 1, 1, 0, 0, 1,\n",
              "       0, 1, 0, 0, 1, 0, 1, 0, 0, 0, 0, 0, 1, 1, 1, 1, 1, 0, 1, 0, 0, 1])"
            ]
          },
          "metadata": {
            "tags": []
          },
          "execution_count": 34
        }
      ]
    },
    {
      "metadata": {
        "id": "cca8H2wRx2Hz",
        "colab_type": "text"
      },
      "cell_type": "markdown",
      "source": [
        "Above are the predictions I got from the XGBoost model. \n",
        "\n",
        "***Kaggle Score: 0.77990***"
      ]
    },
    {
      "metadata": {
        "id": "ya_q46_VyRVw",
        "colab_type": "text"
      },
      "cell_type": "markdown",
      "source": [
        "## 4.2. Logistic Regression"
      ]
    },
    {
      "metadata": {
        "id": "hPoqwxe0yWjZ",
        "colab_type": "code",
        "colab": {
          "base_uri": "https://localhost:8080/",
          "height": 340
        },
        "outputId": "29923597-7739-4936-abaa-7bd26caee7e5"
      },
      "cell_type": "code",
      "source": [
        "clf_2 = LogisticRegression(C = 0.1, max_iter = 10, penalty = 'l2', solver = 'newton-cg')\n",
        "clf_2.fit(X_train, y_train)\n",
        "\n",
        "y_pred_2 = clf_2.predict(X_test)\n",
        "\n",
        "y_pred_2"
      ],
      "execution_count": 35,
      "outputs": [
        {
          "output_type": "execute_result",
          "data": {
            "text/plain": [
              "array([0, 0, 0, 0, 1, 0, 1, 0, 1, 0, 0, 0, 1, 0, 1, 1, 0, 0, 1, 1, 0, 1,\n",
              "       1, 0, 1, 0, 1, 0, 0, 0, 0, 0, 1, 1, 1, 0, 1, 1, 0, 0, 0, 0, 0, 1,\n",
              "       1, 0, 0, 0, 1, 1, 0, 0, 1, 1, 0, 0, 0, 0, 0, 1, 0, 0, 0, 1, 1, 1,\n",
              "       1, 0, 1, 1, 1, 0, 1, 1, 1, 1, 0, 1, 0, 1, 1, 0, 0, 0, 0, 0, 1, 1,\n",
              "       0, 1, 1, 0, 1, 0, 0, 0, 1, 0, 1, 0, 1, 0, 0, 0, 1, 0, 0, 0, 0, 0,\n",
              "       0, 1, 1, 1, 1, 0, 0, 1, 1, 1, 1, 0, 1, 0, 0, 1, 0, 1, 0, 0, 0, 1,\n",
              "       1, 0, 0, 0, 0, 0, 1, 0, 0, 1, 0, 0, 0, 0, 1, 0, 0, 0, 1, 0, 0, 1,\n",
              "       0, 0, 1, 1, 0, 1, 1, 1, 1, 0, 0, 1, 0, 0, 1, 1, 0, 0, 0, 0, 0, 1,\n",
              "       1, 0, 1, 1, 0, 0, 1, 0, 1, 0, 1, 0, 0, 0, 0, 0, 1, 0, 1, 0, 1, 1,\n",
              "       0, 1, 1, 1, 1, 1, 0, 0, 1, 0, 1, 0, 0, 0, 0, 1, 0, 0, 1, 0, 1, 0,\n",
              "       1, 0, 1, 0, 1, 1, 0, 1, 0, 0, 0, 1, 0, 0, 0, 0, 0, 0, 1, 1, 1, 1,\n",
              "       0, 0, 0, 0, 1, 0, 1, 1, 1, 0, 1, 0, 0, 0, 0, 0, 1, 0, 0, 0, 1, 1,\n",
              "       0, 0, 0, 0, 1, 0, 0, 0, 1, 1, 0, 1, 0, 0, 0, 0, 1, 1, 1, 1, 1, 0,\n",
              "       0, 0, 0, 0, 0, 1, 0, 0, 0, 0, 1, 0, 0, 0, 0, 1, 0, 0, 1, 1, 0, 1,\n",
              "       0, 1, 0, 0, 0, 1, 1, 1, 0, 0, 0, 0, 0, 0, 0, 0, 1, 0, 1, 0, 0, 0,\n",
              "       1, 0, 0, 1, 0, 0, 0, 0, 0, 1, 0, 0, 0, 1, 0, 1, 0, 1, 0, 1, 1, 0,\n",
              "       0, 0, 1, 0, 1, 0, 0, 1, 0, 1, 1, 0, 1, 0, 0, 1, 1, 0, 0, 1, 0, 0,\n",
              "       1, 1, 0, 0, 0, 0, 0, 0, 1, 1, 0, 1, 0, 0, 0, 0, 1, 1, 1, 0, 0, 1,\n",
              "       0, 1, 0, 0, 1, 0, 1, 0, 0, 0, 0, 0, 1, 1, 1, 1, 1, 0, 1, 0, 0, 1])"
            ]
          },
          "metadata": {
            "tags": []
          },
          "execution_count": 35
        }
      ]
    },
    {
      "metadata": {
        "id": "bYLCD75WyyMm",
        "colab_type": "text"
      },
      "cell_type": "markdown",
      "source": [
        "***Kaggle Score: 0.77033***"
      ]
    },
    {
      "metadata": {
        "id": "fDg-lmDMy_Nk",
        "colab_type": "text"
      },
      "cell_type": "markdown",
      "source": [
        "## 4.3. Support Vector Machines"
      ]
    },
    {
      "metadata": {
        "id": "oO8-GyzRzDiv",
        "colab_type": "code",
        "colab": {
          "base_uri": "https://localhost:8080/",
          "height": 340
        },
        "outputId": "736157e2-e102-4e8e-aab8-ac8e8fc65351"
      },
      "cell_type": "code",
      "source": [
        "clf_3 = SVC(C = 10, gamma = 0.01, kernel = 'rbf', random_state = 0)\n",
        "clf_3.fit(X_train, y_train)\n",
        "\n",
        "y_pred_3 = clf_3.predict(X_test)\n",
        "\n",
        "y_pred_3"
      ],
      "execution_count": 36,
      "outputs": [
        {
          "output_type": "execute_result",
          "data": {
            "text/plain": [
              "array([0, 0, 0, 0, 1, 0, 1, 0, 1, 0, 0, 0, 1, 0, 1, 1, 0, 0, 0, 0, 0, 1,\n",
              "       1, 0, 1, 0, 1, 0, 0, 0, 0, 0, 1, 1, 0, 0, 0, 0, 0, 0, 0, 0, 0, 1,\n",
              "       1, 0, 0, 0, 1, 1, 0, 0, 1, 1, 0, 0, 0, 0, 0, 1, 0, 0, 0, 1, 1, 1,\n",
              "       1, 0, 0, 1, 1, 0, 0, 0, 1, 0, 0, 1, 0, 1, 1, 0, 0, 0, 0, 0, 1, 0,\n",
              "       0, 1, 1, 0, 1, 0, 0, 0, 1, 0, 1, 0, 1, 0, 0, 0, 1, 0, 0, 0, 0, 0,\n",
              "       0, 1, 1, 1, 1, 0, 0, 1, 0, 1, 1, 0, 1, 0, 0, 1, 0, 1, 0, 0, 0, 1,\n",
              "       1, 0, 0, 0, 0, 0, 0, 0, 0, 1, 0, 0, 0, 0, 0, 0, 0, 0, 1, 0, 0, 1,\n",
              "       0, 0, 1, 1, 0, 1, 1, 1, 1, 0, 0, 1, 0, 0, 1, 0, 0, 0, 0, 0, 0, 1,\n",
              "       1, 0, 1, 1, 0, 0, 1, 0, 1, 0, 1, 0, 0, 0, 0, 0, 1, 0, 1, 0, 1, 1,\n",
              "       0, 1, 1, 1, 1, 1, 0, 0, 1, 0, 1, 0, 0, 0, 0, 1, 0, 0, 1, 0, 1, 0,\n",
              "       1, 0, 1, 0, 1, 1, 0, 1, 0, 0, 0, 1, 0, 0, 0, 0, 0, 0, 1, 1, 1, 1,\n",
              "       0, 0, 1, 0, 1, 0, 1, 1, 1, 0, 0, 0, 0, 0, 0, 0, 1, 0, 0, 0, 1, 1,\n",
              "       0, 0, 0, 0, 0, 0, 0, 0, 1, 1, 0, 1, 0, 0, 0, 0, 0, 1, 1, 1, 1, 0,\n",
              "       0, 0, 0, 0, 0, 1, 0, 1, 0, 0, 1, 0, 0, 0, 0, 0, 0, 0, 1, 1, 0, 1,\n",
              "       0, 0, 0, 0, 0, 1, 1, 1, 0, 0, 0, 0, 0, 0, 0, 0, 1, 0, 1, 0, 0, 0,\n",
              "       1, 0, 0, 1, 0, 0, 0, 0, 0, 1, 0, 0, 0, 1, 1, 1, 0, 1, 0, 1, 1, 0,\n",
              "       0, 0, 1, 0, 1, 0, 0, 1, 0, 1, 1, 0, 1, 1, 0, 1, 1, 0, 0, 1, 0, 0,\n",
              "       1, 1, 0, 0, 0, 0, 0, 0, 1, 1, 0, 1, 0, 0, 0, 1, 0, 1, 1, 0, 0, 1,\n",
              "       0, 1, 0, 0, 1, 0, 1, 0, 0, 0, 0, 0, 1, 1, 1, 1, 0, 0, 1, 0, 0, 1])"
            ]
          },
          "metadata": {
            "tags": []
          },
          "execution_count": 36
        }
      ]
    },
    {
      "metadata": {
        "id": "bftAeYvnzRvr",
        "colab_type": "text"
      },
      "cell_type": "markdown",
      "source": [
        "***Kaggle Score: 0.77511***\n",
        "\n",
        "# Conclusion\n",
        "\n",
        "XGboost performed better than SVM and Logistic Regression. I could have make the results better by doing some more feature engineering and parameter tuning.\n",
        "\n",
        "**Note:** No cheating was done in the competition, because I know how to cheat and get the score 1.  :)"
      ]
    }
  ]
}
