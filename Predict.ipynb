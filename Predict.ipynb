{
 "cells": [
  {
   "cell_type": "code",
   "execution_count": 89,
   "metadata": {},
   "outputs": [],
   "source": [
    "#Load libraries\n",
    "\n",
    "import os\n",
    "import glob\n",
    "import torch\n",
    "import shutil\n",
    "import pathlib\n",
    "import matplotlib\n",
    "import torchvision\n",
    "import numpy as np\n",
    "from io import open\n",
    "import pandas as pd\n",
    "import torch.nn as nn\n",
    "from PIL import Image\n",
    "from pandas import read_csv\n",
    "import torch.optim as optim\n",
    "import torch.functional as F\n",
    "import matplotlib.pyplot as plt\n",
    "from torch.optim import Adam, SGD\n",
    "from torch.autograd import Variable\n",
    "from numpy.random import RandomState\n",
    "from torch.utils.data import DataLoader\n",
    "from sklearn.metrics import confusion_matrix\n",
    "from torchvision.models import squeezenet1_1\n",
    "from torchvision.transforms import transforms\n",
    "from sklearn.metrics import confusion_matrix\n",
    "from sklearn.metrics import classification_report"
   ]
  },
  {
   "cell_type": "code",
   "execution_count": 55,
   "metadata": {},
   "outputs": [
    {
     "data": {
      "image/png": "[encoded data removed]",
      "text/plain": [
       "<Figure size 1080x504 with 1 Axes>"
      ]
     },
     "metadata": {
      "needs_background": "light"
     },
     "output_type": "display_data"
    }
   ],
   "source": [
    "# Check Classes Distribution\n",
    "\n",
    "train_csv = pd.read_csv('train.csv')\n",
    "\n",
    "Connective_count = train_csv.Type.str.count(\"Connective\").sum()\n",
    "Cancer_count = train_csv.Type.str.count(\"Cancer\").sum()\n",
    "Immune_count = train_csv.Type.str.count(\"Immune\").sum()\n",
    "Normal_count = train_csv.Type.str.count(\"Normal\").sum()\n",
    "\n",
    "\n",
    "plt.figure(figsize=(15, 7))\n",
    "\n",
    "x_com = (\"Connective\", \"Cancer\", \"Immune\", \"Normal\")\n",
    "y_com = [Connective_count, Cancer_count, Immune_count, Normal_count]\n",
    "\n",
    "plt.bar(x_com, y_com, color=[\"cornflowerblue\",\"g\", \"orange\", \"firebrick\"])\n",
    "\n",
    "plt.tick_params(labelsize=18)\n",
    "\n",
    "plt.title(\"Classes Distribution\", fontsize=18)\n",
    "\n",
    "for a,b in zip(range(len(x_com)),y_com):\n",
    "    plt.text(a,b,'%s' % b,ha = 'center',va = 'bottom',fontsize=18)\n",
    "    \n",
    "plt.show()"
   ]
  },
  {
   "cell_type": "markdown",
   "metadata": {},
   "source": [
    "The code below move training images to relevant folders within the train folder. For example connective images are moved to connective folder and cancer images are moved to cancer folder. Also the extra training folder is deleted at the end of the code. In the next step, I am using Data Loader that takes both images and labels from the folders."
   ]
  },
  {
   "cell_type": "code",
   "execution_count": null,
   "metadata": {},
   "outputs": [],
   "source": [
    "#Moving Files to relevant folders\n",
    "\n",
    "source_dir = 'train/train'\n",
    "dest1 = 'train/Normal'\n",
    "dest2 = 'train/Immune/'\n",
    "dest3 = 'train/Connective/'\n",
    "dest4 = 'train/Cancer/'\n",
    "\n",
    "\n",
    "os.mkdir(dest1)\n",
    "os.mkdir(dest2)\n",
    "os.mkdir(dest3)\n",
    "os.mkdir(dest4)\n",
    "\n",
    "file_names = os.listdir(source_dir)\n",
    "\n",
    "train = pd.read_csv('train.csv')\n",
    "train_x = train['Id'].values\n",
    "train_y = train['Type'].values\n",
    "\n",
    "for i in range(len(train_y)):\n",
    "    string = str(train_x[i])\n",
    "    str(string)\n",
    "    string = string + \".png\"\n",
    "    if train_y[i]=='Normal':\n",
    "        shutil.move(os.path.join(source_dir, string), dest1)\n",
    "\n",
    "    if train_y[i] == \"Connective\":\n",
    "        shutil.move(os.path.join(source_dir, string), dest3)   \n",
    "        \n",
    "    if train_y[i] == \"Immune\":\n",
    "        shutil.move(os.path.join(source_dir, string), dest2)    \n",
    "        \n",
    "    if train_y[i] == \"Cancer\":\n",
    "         shutil.move(os.path.join(source_dir, string), dest4)\n",
    "            \n",
    "os.rmdir(source_dir)"
   ]
  },
  {
   "cell_type": "code",
   "execution_count": 56,
   "metadata": {},
   "outputs": [],
   "source": [
    "#Data Augmentation & Normalization\n",
    "\n",
    "transformer = transforms.Compose([\n",
    "    transforms.RandomHorizontalFlip(),\n",
    "    transforms.RandomVerticalFlip(),\n",
    "    transforms.RandomRotation(degrees = 90),\n",
    "    transforms.RandomRotation(degrees = 180),\n",
    "    transforms.ToTensor(),\n",
    "    transforms.Normalize([0.5,0.5,0.5],\n",
    "                       [0.5,0.5,0.5])\n",
    "])"
   ]
  },
  {
   "cell_type": "code",
   "execution_count": 57,
   "metadata": {},
   "outputs": [],
   "source": [
    "#load Data\n",
    "\n",
    "train_path = 'train/train'\n",
    "test_path = 'test/test'\n",
    "\n",
    "load_train = DataLoader(\n",
    "    torchvision.datasets.ImageFolder(train_path,transform = transformer),\n",
    "    batch_size = 64, shuffle = True\n",
    ")"
   ]
  },
  {
   "cell_type": "code",
   "execution_count": 58,
   "metadata": {},
   "outputs": [
    {
     "name": "stdout",
     "output_type": "stream",
     "text": [
      "['Cancer', 'Connective', 'Immune', 'Normal']\n"
     ]
    }
   ],
   "source": [
    "#Classes Identification\n",
    "\n",
    "root = pathlib.Path(train_path)\n",
    "classes = sorted([j.name.split('/')[-1] for j in root.iterdir()])\n",
    "print(classes)"
   ]
  },
  {
   "cell_type": "markdown",
   "metadata": {},
   "source": [
    "In the code below, i tried to increase layers. Also i tried different values for output channel but the number of layers and values below gave best accuracy on both training and testing (Kaggle)."
   ]
  },
  {
   "cell_type": "code",
   "execution_count": 59,
   "metadata": {},
   "outputs": [],
   "source": [
    "#CNN Layers\n",
    "\n",
    "class ConvNet(nn.Module):\n",
    "    def __init__(self,num_classes = 4):\n",
    "        super(ConvNet,self).__init__()\n",
    "        \n",
    "        self.conv1 =nn.Conv2d(in_channels = 3,out_channels = 12, kernel_size = 3,stride = 1,padding = 1)\n",
    "        self.bn1 = nn.BatchNorm2d(num_features = 12)\n",
    "        self.relu1 = nn.ReLU()\n",
    "        \n",
    "        self.pool = nn.MaxPool2d(kernel_size = 2)\n",
    "        \n",
    "\n",
    "        self.conv2 = nn.Conv2d(in_channels = 12, out_channels = 20, kernel_size = 3, stride = 1, padding = 1)\n",
    "        self.relu2 = nn.ReLU()\n",
    "    \n",
    "\n",
    "        self.conv3 = nn.Conv2d(in_channels = 20, out_channels = 32, kernel_size = 3, stride = 1, padding = 1)\n",
    "        self.bn3 = nn.BatchNorm2d(num_features=32)\n",
    "        self.relu3 = nn.ReLU()\n",
    "    \n",
    "\n",
    "        self.fc=nn.Linear(in_features = 32 * 32 * 32, out_features=num_classes)\n",
    "\n",
    "        \n",
    "    def forward(self,input):\n",
    "        output = self.conv1(input)\n",
    "        output = self.bn1(output)\n",
    "        output = self.relu1(output)\n",
    "            \n",
    "        output= self.pool(output)\n",
    "            \n",
    "        output = self.conv2(output)\n",
    "        output = self.relu2(output)\n",
    "            \n",
    "        output = self.conv3(output)\n",
    "        output = self.bn3(output)\n",
    "        output = self.relu3(output)\n",
    "        \n",
    "        output = output.view(-1,32*32*32)\n",
    "   \n",
    "        output = self.fc(output)\n",
    "            \n",
    "        return output"
   ]
  },
  {
   "cell_type": "code",
   "execution_count": 60,
   "metadata": {},
   "outputs": [],
   "source": [
    "#Model\n",
    "# Here 4 means 4 classes i.e cancer, immune, normal and connective\n",
    "model = ConvNet(num_classes = 4)"
   ]
  },
  {
   "cell_type": "markdown",
   "metadata": {},
   "source": [
    "#### In the code below, i tried SGD too but Adam gave slight better accuracy with these settings.\n",
    "I used L2 loss using the weight_decay parameter to the Optimization function.\n",
    "Learning rate parameter tweaking together with data augmentation had major impact on accuracy though."
   ]
  },
  {
   "cell_type": "code",
   "execution_count": 61,
   "metadata": {},
   "outputs": [],
   "source": [
    "#Setting Parameters\n",
    "\n",
    "epoch_count = 10\n",
    "optimizer = Adam(model.parameters(), lr=0.0001, weight_decay=0.0001)\n",
    "#optimizer = SGD(model.parameters(), lr=0.001, weight_decay=0.0001)\n",
    "loss_fn = nn.CrossEntropyLoss()"
   ]
  },
  {
   "cell_type": "code",
   "execution_count": 62,
   "metadata": {},
   "outputs": [
    {
     "name": "stdout",
     "output_type": "stream",
     "text": [
      "2190\n"
     ]
    }
   ],
   "source": [
    "#Counting Train Images\n",
    "\n",
    "train_count = len(glob.glob(train_path+'/**/*.png'))\n",
    "print(train_count)"
   ]
  },
  {
   "cell_type": "markdown",
   "metadata": {},
   "source": [
    "Initially, I split train data into train and validation but it ended up less accuracy because normal class has less data for the model to train on it. So that's why i gave all the training data to the model to learn and predict test images."
   ]
  },
  {
   "cell_type": "code",
   "execution_count": 70,
   "metadata": {
    "scrolled": false
   },
   "outputs": [
    {
     "name": "stdout",
     "output_type": "stream",
     "text": [
      "Epoch: 0 Train Loss: tensor(0.5665) Train Accuracy: 0.7547945205479452\n",
      "Epoch: 1 Train Loss: tensor(0.5549) Train Accuracy: 0.7625570776255708\n",
      "Epoch: 2 Train Loss: tensor(0.5582) Train Accuracy: 0.7611872146118721\n",
      "Epoch: 3 Train Loss: tensor(0.5545) Train Accuracy: 0.7611872146118721\n",
      "Epoch: 4 Train Loss: tensor(0.5564) Train Accuracy: 0.7634703196347032\n",
      "Epoch: 5 Train Loss: tensor(0.5439) Train Accuracy: 0.7771689497716895\n",
      "Epoch: 6 Train Loss: tensor(0.5450) Train Accuracy: 0.7785388127853882\n",
      "Epoch: 7 Train Loss: tensor(0.5421) Train Accuracy: 0.7712328767123288\n",
      "Epoch: 8 Train Loss: tensor(0.5609) Train Accuracy: 0.7534246575342466\n",
      "Epoch: 9 Train Loss: tensor(0.5465) Train Accuracy: 0.7680365296803653\n"
     ]
    }
   ],
   "source": [
    "#Model training and saving best model\n",
    "\n",
    "best_accuracy = 0.0\n",
    "\n",
    "accuracy_plot = []\n",
    "\n",
    "loss_plot = []\n",
    "\n",
    "actual_list = []\n",
    "\n",
    "predicted_list = []\n",
    "\n",
    "for epoch in range(epoch_count):\n",
    "    \n",
    "    model.train()\n",
    "    train_accuracy = 0.0\n",
    "    train_loss = 0.0\n",
    "    \n",
    "    for i, (images,labels) in enumerate(load_train):\n",
    "\n",
    "        images = Variable(images)\n",
    "        labels = Variable(labels)\n",
    "            \n",
    "        optimizer.zero_grad()\n",
    "        \n",
    "        outputs = model(images)\n",
    "        loss = loss_fn(outputs,labels)\n",
    "        loss.backward()\n",
    "        optimizer.step()\n",
    "        \n",
    "        \n",
    "        train_loss+= loss.cpu().data*images.size(0)\n",
    "        _,prediction = torch.max(outputs.data,1)\n",
    "        \n",
    "       \n",
    "        \n",
    "        train_accuracy+=int(torch.sum(prediction == labels.data))\n",
    "        \n",
    "        actual_list.append(labels.data.tolist())\n",
    "        predicted_list.append(prediction.tolist())\n",
    "        \n",
    "    train_accuracy = train_accuracy/train_count\n",
    "    train_loss = train_loss/train_count\n",
    "    print('Epoch: ' + str(epoch) + ' Train Loss: ' + str(train_loss) + ' Train Accuracy: ' + str(train_accuracy))\n",
    "    accuracy_plot.append(train_accuracy)\n",
    "    loss_plot.append(train_loss)\n",
    "    \n",
    "    \n",
    "    #Save the best model\n",
    "    if train_accuracy > best_accuracy:\n",
    "        torch.save(model.state_dict(),'best_checkpoint.model')\n",
    "        best_accuracy = train_accuracy "
   ]
  },
  {
   "cell_type": "code",
   "execution_count": 71,
   "metadata": {},
   "outputs": [
    {
     "data": {
      "text/plain": [
       "ConvNet(\n",
       "  (conv1): Conv2d(3, 12, kernel_size=(3, 3), stride=(1, 1), padding=(1, 1))\n",
       "  (bn1): BatchNorm2d(12, eps=1e-05, momentum=0.1, affine=True, track_running_stats=True)\n",
       "  (relu1): ReLU()\n",
       "  (pool): MaxPool2d(kernel_size=2, stride=2, padding=0, dilation=1, ceil_mode=False)\n",
       "  (conv2): Conv2d(12, 20, kernel_size=(3, 3), stride=(1, 1), padding=(1, 1))\n",
       "  (relu2): ReLU()\n",
       "  (conv3): Conv2d(20, 32, kernel_size=(3, 3), stride=(1, 1), padding=(1, 1))\n",
       "  (bn3): BatchNorm2d(32, eps=1e-05, momentum=0.1, affine=True, track_running_stats=True)\n",
       "  (relu3): ReLU()\n",
       "  (fc): Linear(in_features=32768, out_features=4, bias=True)\n",
       ")"
      ]
     },
     "execution_count": 71,
     "metadata": {},
     "output_type": "execute_result"
    }
   ],
   "source": [
    "#Load the best model\n",
    "\n",
    "checkpoint = torch.load('best_checkpoint.model')\n",
    "model = ConvNet(num_classes = 4)\n",
    "model.load_state_dict(checkpoint)\n",
    "model.eval()"
   ]
  },
  {
   "cell_type": "code",
   "execution_count": 90,
   "metadata": {},
   "outputs": [
    {
     "name": "stdout",
     "output_type": "stream",
     "text": [
      "Confusion matrix : \n",
      " [[4389  524  323  224]\n",
      " [ 512 4776 1936   36]\n",
      " [  51  469 6768    2]\n",
      " [ 707  186  173  824]]\n",
      "\n",
      "\n",
      "Classification report : \n",
      "               precision    recall  f1-score   support\n",
      "\n",
      "           0       0.78      0.80      0.79      5460\n",
      "           1       0.80      0.66      0.72      7260\n",
      "           2       0.74      0.93      0.82      7290\n",
      "           3       0.76      0.44      0.55      1890\n",
      "\n",
      "    accuracy                           0.77     21900\n",
      "   macro avg       0.77      0.71      0.72     21900\n",
      "weighted avg       0.77      0.77      0.76     21900\n",
      "\n"
     ]
    }
   ],
   "source": [
    "#Confusion Matrix\n",
    "\n",
    "actual_list = [item for sublist in actual_list for item in sublist]\n",
    "predicted_list = [item for sublist in predicted_list for item in sublist]\n",
    "\n",
    "matrix = confusion_matrix(actual_list,predicted_list)\n",
    "print('Confusion matrix : \\n',matrix)\n",
    "\n",
    "matrix = classification_report(actual_list,predicted_list)\n",
    "print('\\n\\nClassification report : \\n',matrix)"
   ]
  },
  {
   "cell_type": "code",
   "execution_count": 47,
   "metadata": {},
   "outputs": [
    {
     "data": {
      "image/png": "[encoded data removed]",
      "text/plain": [
       "<Figure size 1080x504 with 1 Axes>"
      ]
     },
     "metadata": {
      "needs_background": "light"
     },
     "output_type": "display_data"
    }
   ],
   "source": [
    "#Plotting Training Accuracy and Loss\n",
    "\n",
    "plt.plot(accuracy_plot, label='Training Accuracy')\n",
    "plt.plot(loss_plot, label='Training loss')\n",
    "fig = matplotlib.pyplot.gcf()\n",
    "fig.set_size_inches(15, 7, forward=True)\n",
    "plt.title(\"Training Accuracy and Loss\", fontsize=20)\n",
    "plt.xticks(np.arange(0, 10, step=1))\n",
    "plt.xlabel(\"Number of Epochs\", fontsize=15)\n",
    "plt.legend(loc=1, fontsize=15)\n",
    "plt.show()"
   ]
  },
  {
   "cell_type": "code",
   "execution_count": 13,
   "metadata": {},
   "outputs": [],
   "source": [
    "#Image Prediction Function\n",
    "\n",
    "def prediction(img_path,transformer):\n",
    "    \n",
    "    image = Image.open(img_path)\n",
    "    \n",
    "    image_tensor = transformer(image).float() \n",
    "    \n",
    "    image_tensor = image_tensor.unsqueeze_(0)\n",
    "        \n",
    "    input = Variable(image_tensor)\n",
    "      \n",
    "    output = model(input)\n",
    "    \n",
    "    index = output.data.numpy().argmax()\n",
    "    \n",
    "    pred = classes[index]\n",
    "    \n",
    "    return pred"
   ]
  },
  {
   "cell_type": "code",
   "execution_count": 14,
   "metadata": {},
   "outputs": [],
   "source": [
    "#Setting Test Images Path\n",
    "\n",
    "images_path = glob.glob(test_path+'/*.png')"
   ]
  },
  {
   "cell_type": "code",
   "execution_count": 15,
   "metadata": {},
   "outputs": [],
   "source": [
    "#Making dictionary of predictions\n",
    "\n",
    "pred_dict = {}\n",
    "\n",
    "for i in images_path:\n",
    "    pred_dict[i[i.rfind('/')+1:]] = prediction(i,transformer) "
   ]
  },
  {
   "cell_type": "code",
   "execution_count": 16,
   "metadata": {},
   "outputs": [
    {
     "name": "stdout",
     "output_type": "stream",
     "text": [
      "Check CSV File Now\n"
     ]
    }
   ],
   "source": [
    "#Making CSV of predictions\n",
    "\n",
    "import csv\n",
    "\n",
    "a_file = open(\"test.csv\", \"w\", newline = '')\n",
    "\n",
    "writer = csv.writer(a_file)\n",
    "\n",
    "writer.writerow([\"Id\", \"Type\"])\n",
    "\n",
    "for key, value in pred_dict.items():\n",
    "    key = key.split(\"\\\\\")\n",
    "    key = key[1].split(\".\")\n",
    "    writer.writerow([key[0], value])  \n",
    "\n",
    "a_file.close()\n",
    "\n",
    "print(\"Check CSV File Now\")"
   ]
  },
  {
   "cell_type": "code",
   "execution_count": null,
   "metadata": {},
   "outputs": [],
   "source": []
  }
 ],
 "metadata": {
  "kernelspec": {
   "display_name": "Python 3",
   "language": "python",
   "name": "python3"
  },
  "language_info": {
   "codemirror_mode": {
    "name": "ipython",
    "version": 3
   },
   "file_extension": ".py",
   "mimetype": "text/x-python",
   "name": "python",
   "nbconvert_exporter": "python",
   "pygments_lexer": "ipython3",
   "version": "3.8.8"
  }
 },
 "nbformat": 4,
 "nbformat_minor": 4
}
