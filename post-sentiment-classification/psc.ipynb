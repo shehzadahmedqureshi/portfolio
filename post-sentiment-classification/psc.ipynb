{
  "nbformat": 4,
  "nbformat_minor": 5,
  "metadata": {
    "colab": {
      "name": "Jupyter - Latest.ipynb",
      "provenance": [],
      "collapsed_sections": []
    },
    "kernelspec": {
      "display_name": "Python 3",
      "language": "python",
      "name": "python3"
    },
    "language_info": {
      "codemirror_mode": {
        "name": "ipython",
        "version": 3
      },
      "file_extension": ".py",
      "mimetype": "text/x-python",
      "name": "python",
      "nbconvert_exporter": "python",
      "pygments_lexer": "ipython3",
      "version": "3.8.8"
    }
  },
  "cells": [
    {
      "cell_type": "markdown",
      "metadata": {
        "id": "7bf15621"
      },
      "source": [
        "# Subreddit Post Sentiment Classification"
      ],
      "id": "7bf15621"
    },
    {
      "cell_type": "code",
      "metadata": {
        "colab": {
          "base_uri": "https://localhost:8080/"
        },
        "id": "8UBe_JPEpd_C",
        "outputId": "c7841fd8-8754-4aac-8145-e235c0df2a1e"
      },
      "source": [
        "# Install Required Libraries\n",
        "\n",
        "!pip install vaderSentiment\n",
        "!pip install prettytable"
      ],
      "id": "8UBe_JPEpd_C",
      "execution_count": null,
      "outputs": [
        {
          "output_type": "stream",
          "text": [
            "Requirement already satisfied: vaderSentiment in /usr/local/lib/python3.7/dist-packages (3.3.2)\n",
            "Requirement already satisfied: requests in /usr/local/lib/python3.7/dist-packages (from vaderSentiment) (2.23.0)\n",
            "Requirement already satisfied: certifi>=2017.4.17 in /usr/local/lib/python3.7/dist-packages (from requests->vaderSentiment) (2020.12.5)\n",
            "Requirement already satisfied: urllib3!=1.25.0,!=1.25.1,<1.26,>=1.21.1 in /usr/local/lib/python3.7/dist-packages (from requests->vaderSentiment) (1.24.3)\n",
            "Requirement already satisfied: idna<3,>=2.5 in /usr/local/lib/python3.7/dist-packages (from requests->vaderSentiment) (2.10)\n",
            "Requirement already satisfied: chardet<4,>=3.0.2 in /usr/local/lib/python3.7/dist-packages (from requests->vaderSentiment) (3.0.4)\n",
            "Requirement already satisfied: prettytable in /usr/local/lib/python3.7/dist-packages (2.1.0)\n",
            "Requirement already satisfied: importlib-metadata; python_version < \"3.8\" in /usr/local/lib/python3.7/dist-packages (from prettytable) (4.0.1)\n",
            "Requirement already satisfied: wcwidth in /usr/local/lib/python3.7/dist-packages (from prettytable) (0.2.5)\n",
            "Requirement already satisfied: zipp>=0.5 in /usr/local/lib/python3.7/dist-packages (from importlib-metadata; python_version < \"3.8\"->prettytable) (3.4.1)\n",
            "Requirement already satisfied: typing-extensions>=3.6.4; python_version < \"3.8\" in /usr/local/lib/python3.7/dist-packages (from importlib-metadata; python_version < \"3.8\"->prettytable) (3.7.4.3)\n"
          ],
          "name": "stdout"
        }
      ]
    },
    {
      "cell_type": "code",
      "metadata": {
        "id": "63590456"
      },
      "source": [
        "# Import important Libraries\n",
        "\n",
        "import nltk\n",
        "import spacy\n",
        "import string\n",
        "import matplotlib\n",
        "import collections\n",
        "import scipy as sp\n",
        "import numpy as np\n",
        "import pandas as pd\n",
        "import seaborn as sns\n",
        "from sklearn.svm import SVC\n",
        "import matplotlib.pyplot as plt\n",
        "from spacy.lang.en import English\n",
        "from prettytable import PrettyTable \n",
        "from sklearn.pipeline import Pipeline\n",
        "from sklearn.metrics import fbeta_score\n",
        "from sklearn.metrics import recall_score\n",
        "from sklearn.dummy import DummyClassifier\n",
        "from sklearn.pipeline import FeatureUnion\n",
        "from sklearn.metrics import accuracy_score\n",
        "from sklearn.metrics import precision_score\n",
        "from sklearn.metrics import confusion_matrix\n",
        "from spacy.lang.en.stop_words import STOP_WORDS\n",
        "from sklearn.neural_network import MLPClassifier\n",
        "from sklearn.model_selection import GridSearchCV\n",
        "from sklearn.metrics import classification_report\n",
        "from sklearn.linear_model import LogisticRegression\n",
        "from sklearn.base import BaseEstimator, TransformerMixin\n",
        "from sklearn.feature_extraction.text import CountVectorizer\n",
        "from sklearn.feature_extraction.text import TfidfVectorizer\n",
        "from vaderSentiment.vaderSentiment import SentimentIntensityAnalyzer"
      ],
      "id": "63590456",
      "execution_count": null,
      "outputs": []
    },
    {
      "cell_type": "code",
      "metadata": {
        "id": "Xb3E8SG-pQjM"
      },
      "source": [
        "# Text pre-processing: remove stop words & punctuations, tokenization, lemmatization and normalization\n",
        "\n",
        "punctuations = string.punctuation\n",
        "nlp = spacy.load('en')\n",
        "stop_words = spacy.lang.en.stop_words.STOP_WORDS\n",
        "parser = English()\n",
        "\n",
        "def spacy_tokenizer(text):\n",
        "  \n",
        "    mytokens = parser(text)\n",
        "    mytokens = [ word.lemma_.lower().strip() if word.lemma_ != \"-PRON-\" else word.lower_ for word in mytokens ]\n",
        "    mytokens = [ word for word in mytokens if word not in stop_words and word not in punctuations ]\n",
        "    return mytokens"
      ],
      "id": "Xb3E8SG-pQjM",
      "execution_count": null,
      "outputs": []
    },
    {
      "cell_type": "code",
      "metadata": {
        "id": "ce3532d0"
      },
      "source": [
        "# Load Data\n",
        "\n",
        "train_data = pd.read_json(\"https://raw.githubusercontent.com/rpsoft/tad_course/main/reddit_sentiment_train.json\")\n",
        "validation_data = pd.read_json(\"https://raw.githubusercontent.com/rpsoft/tad_course/main/reddit_sentiment_validation.json\")\n",
        "test_data = pd.read_json(\"https://raw.githubusercontent.com/rpsoft/tad_course/main/reddit_sentiment_test.json\")"
      ],
      "id": "ce3532d0",
      "execution_count": null,
      "outputs": []
    },
    {
      "cell_type": "code",
      "metadata": {
        "colab": {
          "base_uri": "https://localhost:8080/",
          "height": 1000
        },
        "id": "276f6476",
        "outputId": "c91159a7-92aa-4d90-a675-83c1ecea9972"
      },
      "source": [
        "# Labels Numeric Encoding and Checking Labels Distribution in all three Train, Validation and Test Data\n",
        "\n",
        "# print(\"Classes:\\n\",train_data['sentiment.polarity'].unique(), \"\\n\")\n",
        "\n",
        "def create_label(x):\n",
        "    if x == 'negative':\n",
        "        return 0\n",
        "    if x == 'neutral':\n",
        "        return 1\n",
        "    if x == 'positive':\n",
        "        return 2\n",
        "    if x == 'very positive':\n",
        "        return 3\n",
        "    if x == 'very negative':\n",
        "        return 4\n",
        "\n",
        "train_data['Class'] = train_data['sentiment.polarity'].apply(create_label)\n",
        "validation_data['Class'] = validation_data['sentiment.polarity'].apply(create_label)\n",
        "test_data['Class'] = test_data['sentiment.polarity'].apply(create_label)\n",
        "\n",
        "sns.set(font_scale  = 1.5)\n",
        "ax = sns.countplot(x = \"sentiment.polarity\", data = train_data, palette=(\"Blues_d\"))\n",
        "ax.set_title('Labels Distribution in Train Data', fontweight=\"bold\", size = 30) # Title\n",
        "\n",
        "for p in ax.patches:\n",
        "    ax.annotate(str(p.get_height()), (p.get_x() + 0.3, p.get_height()))\n",
        "\n",
        "ax.set_xlabel('Labels', fontsize=20)    \n",
        "ax.set_ylabel('Count', fontsize=20)    \n",
        "plt.gcf().set_size_inches(20, 10) \n",
        "plt.show()\n",
        "\n",
        "sns.set_style(\"white\")\n",
        "\n",
        "sns.set(font_scale = 1.5)\n",
        "ax = sns.countplot(x=\"sentiment.polarity\", data = validation_data, palette=(\"Blues_d\"))\n",
        "ax.set_title('Labels Distribution in Validation Data', fontweight=\"bold\", size = 30) # Title\n",
        "\n",
        "for p in ax.patches:\n",
        "    ax.annotate(str(p.get_height()), (p.get_x() + 0.3, p.get_height()))\n",
        "\n",
        "ax.set_xlabel('Labels', fontsize=20)    \n",
        "ax.set_ylabel('Count', fontsize=20)    \n",
        "plt.gcf().set_size_inches(20, 10) \n",
        "plt.show()\n",
        "\n",
        "\n",
        "sns.set(font_scale = 1.5)\n",
        "ax = sns.countplot(x=\"sentiment.polarity\", data = test_data, palette=(\"Blues_d\"))\n",
        "ax.set_title('Labels Distribution in Test Data', fontweight=\"bold\", size = 30) # Title\n",
        "\n",
        "for p in ax.patches:\n",
        "    ax.annotate(str(p.get_height()), (p.get_x() + 0.3, p.get_height()))\n",
        "\n",
        "ax.set_xlabel('Labels', fontsize=20)    \n",
        "ax.set_ylabel('Count', fontsize=20)    \n",
        "plt.gcf().set_size_inches(20, 10) \n",
        "plt.show()"
      ],
      "id": "276f6476",
      "execution_count": null,
      "outputs": [
        {
          "output_type": "display_data",
          "data": {
            "image/png": "[encoded data removed]",
            "text/plain": [
              "<Figure size 1440x720 with 1 Axes>"
            ]
          },
          "metadata": {
            "tags": []
          }
        },
        {
          "output_type": "display_data",
          "data": {
            "image/png": "[encoded data removed]",
            "text/plain": [
              "<Figure size 1440x720 with 1 Axes>"
            ]
          },
          "metadata": {
            "tags": []
          }
        },
        {
          "output_type": "display_data",
          "data": {
            "image/png": "[encoded data removed]",
            "text/plain": [
              "<Figure size 1440x720 with 1 Axes>"
            ]
          },
          "metadata": {
            "tags": []
          }
        }
      ]
    },
    {
      "cell_type": "code",
      "metadata": {
        "colab": {
          "base_uri": "https://localhost:8080/",
          "height": 654
        },
        "id": "hDX8UFDrWCcC",
        "outputId": "be42a204-7821-4e3c-ca34-cad9aa07da07"
      },
      "source": [
        "# Concatinating train, test and validation dataset and removing extra indexes. Also showing graph\n",
        "\n",
        "train_validation_test = pd.concat([train_data, validation_data, test_data], axis=0)\n",
        "train_validation_test .reset_index(drop=True, inplace=True)\n",
        "\n",
        "sns.set(font_scale = 1.5)\n",
        "ax = sns.countplot(x=\"sentiment.polarity\", data = train_validation_test, palette=(\"Blues_d\"))\n",
        "ax.set_title('Labels Distribution in Complete Dataset', fontweight=\"bold\", size = 30) # Title\n",
        "\n",
        "for p in ax.patches:\n",
        "    ax.annotate(str(p.get_height()), (p.get_x() + 0.3, p.get_height()))\n",
        "\n",
        "ax.set_xlabel('Labels', fontsize=20)    \n",
        "ax.set_ylabel('Count', fontsize=20)    \n",
        "plt.gcf().set_size_inches(20, 10) \n",
        "plt.show()\n"
      ],
      "id": "hDX8UFDrWCcC",
      "execution_count": null,
      "outputs": [
        {
          "output_type": "display_data",
          "data": {
            "image/png": "[encoded data removed]",
            "text/plain": [
              "<Figure size 1440x720 with 1 Axes>"
            ]
          },
          "metadata": {
            "tags": []
          }
        }
      ]
    },
    {
      "cell_type": "code",
      "metadata": {
        "colab": {
          "base_uri": "https://localhost:8080/"
        },
        "id": "4a41e875",
        "outputId": "0e6ba93a-af49-4aca-fafc-bc24c91baac4"
      },
      "source": [
        "# Check Labels Distribution in Percentage in all three Train, Validation and Test Data\n",
        "\n",
        "print(\"\\nTrain Labels Distribution Percentage:\\n\")\n",
        "train_label_counts = collections.Counter(train_data['sentiment.polarity'])\n",
        "\n",
        "for label in train_label_counts:\n",
        "    print(\"Label: \" + str(label))\n",
        "    print(\"{:.2%} \".format(train_label_counts[label] / len(train_data)))\n",
        "    \n",
        "print(\"\\nValidation Labels Distribution Percentage:\\n\")\n",
        "validation_label_counts = collections.Counter(validation_data['sentiment.polarity'])\n",
        "\n",
        "for label in validation_label_counts:\n",
        "    print(\"Label: \" + str(label))\n",
        "    print(\"{:.2%} \".format(validation_label_counts[label] / len(validation_data)))\n",
        "\n",
        "print(\"\\nTest Labels Distribution Percentage:\\n\")\n",
        "test_label_counts = collections.Counter(test_data['sentiment.polarity'])\n",
        "\n",
        "for label in test_label_counts:\n",
        "    print(\"Label: \" + str(label))\n",
        "    print(\"{:.2%} \".format(test_label_counts[label] / len(test_data)))"
      ],
      "id": "4a41e875",
      "execution_count": null,
      "outputs": [
        {
          "output_type": "stream",
          "text": [
            "\n",
            "Train Labels Distribution Percentage:\n",
            "\n",
            "Label: negative\n",
            "7.23% \n",
            "Label: neutral\n",
            "63.26% \n",
            "Label: positive\n",
            "26.62% \n",
            "Label: very positive\n",
            "2.08% \n",
            "Label: very negative\n",
            "0.80% \n",
            "\n",
            "Validation Labels Distribution Percentage:\n",
            "\n",
            "Label: very positive\n",
            "2.35% \n",
            "Label: neutral\n",
            "63.07% \n",
            "Label: positive\n",
            "27.18% \n",
            "Label: negative\n",
            "6.92% \n",
            "Label: very negative\n",
            "0.48% \n",
            "\n",
            "Test Labels Distribution Percentage:\n",
            "\n",
            "Label: neutral\n",
            "62.60% \n",
            "Label: positive\n",
            "27.44% \n",
            "Label: very positive\n",
            "2.14% \n",
            "Label: negative\n",
            "7.02% \n",
            "Label: very negative\n",
            "0.80% \n"
          ],
          "name": "stdout"
        }
      ]
    },
    {
      "cell_type": "code",
      "metadata": {
        "colab": {
          "base_uri": "https://localhost:8080/"
        },
        "id": "e59d13d1",
        "outputId": "9f579af6-435e-49b5-951d-1c0ceaecf882"
      },
      "source": [
        "# Counting the neutral posts across train, validation and test data\n",
        "\n",
        "print('Training set contains {:d} posts.'.format(len(train_data)))\n",
        "print('Validation set contains {:d} posts.'.format(len(validation_data)))\n",
        "print('Test set contains {:d} posts.'.format(len(test_data)))\n",
        "\n",
        "number_neutral_train = sum(train_data['Class'] == 1)\n",
        "number_neutral_validation = sum(validation_data['Class'] == 1)\n",
        "number_neutral_test = sum(test_data['Class'] == 1)\n",
        "\n",
        "print('Training set contains %0.0f %% neutral posts' % (100*number_neutral_train/len(train_data)))\n",
        "print('Validation set contains %0.0f %% neutral posts' % (100*number_neutral_validation/len(validation_data)))\n",
        "print('Test set contains %0.0f %% neutral posts' % (100*number_neutral_test/len(test_data)))"
      ],
      "id": "e59d13d1",
      "execution_count": null,
      "outputs": [
        {
          "output_type": "stream",
          "text": [
            "Training set contains 12138 posts.\n",
            "Validation set contains 3109 posts.\n",
            "Test set contains 4016 posts.\n",
            "Training set contains 63 % neutral posts\n",
            "Validation set contains 63 % neutral posts\n",
            "Test set contains 63 % neutral posts\n"
          ],
          "name": "stdout"
        }
      ]
    },
    {
      "cell_type": "code",
      "metadata": {
        "id": "5a487ae0"
      },
      "source": [
        "# Creating labels\n",
        "\n",
        "train_labels = train_data['Class']\n",
        "validation_labels = validation_data['Class']\n",
        "test_labels = test_data['Class']"
      ],
      "id": "5a487ae0",
      "execution_count": null,
      "outputs": []
    },
    {
      "cell_type": "code",
      "metadata": {
        "id": "57395fb2"
      },
      "source": [
        "# Function that uses the required vectorizer according to argument provided and returns train, validation and test features.\n",
        "\n",
        "def encoding(type):\n",
        "    if type == \"One-hot\":\n",
        "        vectorizer = CountVectorizer(binary = True)\n",
        "    else:\n",
        "        vectorizer = TfidfVectorizer()\n",
        "    train_features = vectorizer.fit_transform(train_data['body'])\n",
        "    validation_features = vectorizer.transform(validation_data['body'])\n",
        "    test_features = vectorizer.transform(test_data['body'])\n",
        "    return train_features, validation_features, test_features"
      ],
      "id": "57395fb2",
      "execution_count": null,
      "outputs": []
    },
    {
      "cell_type": "code",
      "metadata": {
        "id": "34665fd1"
      },
      "source": [
        "# Calling the above function to get train, validation and test features according to One Hot encoding.\n",
        "\n",
        "train_features, validation_features, test_features = encoding(\"One-hot\")"
      ],
      "id": "34665fd1",
      "execution_count": null,
      "outputs": []
    },
    {
      "cell_type": "code",
      "metadata": {
        "id": "b329c065"
      },
      "source": [
        "# Function to create Evaluation Summary report and Confusion matrix Heatmap\n",
        "\n",
        "def evaluation_summary(description, predictions, true_labels, return_fun):\n",
        "    \n",
        "    if return_fun == True:\n",
        "        print(\"Evaluation for: \" + description)\n",
        "        print(classification_report(true_labels, predictions, digits=3, zero_division = 0))\n",
        "        cr = classification_report(true_labels, predictions, digits=3, zero_division = 0, output_dict=True)\n",
        "        df_classification_report = pd.DataFrame(cr).transpose()\n",
        "        return df_classification_report\n",
        "    else:\n",
        "        print(\"Evaluation for: \" + description)\n",
        "        print(classification_report(true_labels, predictions, digits=3, zero_division = 0))\n",
        "\n",
        "def confusion_matrix_build(description, predictions, true_labels):\n",
        "    print(\"Confusion Matrix for: \" + description)\n",
        "    print(sns.heatmap(confusion_matrix(true_labels, predictions), square=True, annot=True, fmt='d', cbar=True))"
      ],
      "id": "b329c065",
      "execution_count": null,
      "outputs": []
    },
    {
      "cell_type": "code",
      "metadata": {
        "id": "oQi-F6PjkXWu"
      },
      "source": [
        "# Function to return performance Data of classifiers\n",
        "\n",
        "def list_builder(es):\n",
        "  es = es.drop(['support'], axis=1)\n",
        "  #es = es.drop([\"weighted avg\"])\n",
        "  es = es.drop([\"0\", \"1\", \"2\", \"3\", \"4\"])\n",
        "  list_of_list = es.values.tolist()\n",
        "  flat_list = [item for sublist in list_of_list for item in sublist]\n",
        "  function_list = []\n",
        "  function_list.append(flat_list[0])\n",
        "  function_list.append(flat_list[3])\n",
        "  function_list.append(flat_list[4])\n",
        "  function_list.append(flat_list[5])\n",
        "  function_list.append(flat_list[6])\n",
        "  function_list.append(flat_list[7])\n",
        "  function_list.append(flat_list[8])\n",
        "  function_list = [round(num, 3) for num in function_list]\n",
        "  return function_list"
      ],
      "id": "oQi-F6PjkXWu",
      "execution_count": null,
      "outputs": []
    },
    {
      "cell_type": "code",
      "metadata": {
        "colab": {
          "base_uri": "https://localhost:8080/"
        },
        "id": "684be600",
        "outputId": "13f2e7e7-ce66-47dc-d379-21ea63cc6dce"
      },
      "source": [
        "# (a) Dummy Classifier with strategy=\"most_frequent\" Performance Report\n",
        "\n",
        "dummy_mf = DummyClassifier(strategy='most_frequent')\n",
        "dummy_mf.fit(train_features, train_labels)\n",
        "\n",
        "es = evaluation_summary(\"Dummy Classifier with strategy='most_frequent' On Train Set\\n\", dummy_mf.predict(train_features), train_labels, True)\n",
        "\n",
        "train_dummy_mf = list_builder(es)\n",
        "\n",
        "es = evaluation_summary(\"Dummy Classifier with strategy='most_frequent' On Test Set\\n\", dummy_mf.predict(test_features), test_labels, True)\n",
        "\n",
        "test_dummy_mf = list_builder(es)"
      ],
      "id": "684be600",
      "execution_count": null,
      "outputs": [
        {
          "output_type": "stream",
          "text": [
            "Evaluation for: Dummy Classifier with strategy='most_frequent' On Train Set\n",
            "\n",
            "              precision    recall  f1-score   support\n",
            "\n",
            "           0      0.000     0.000     0.000       878\n",
            "           1      0.633     1.000     0.775      7679\n",
            "           2      0.000     0.000     0.000      3231\n",
            "           3      0.000     0.000     0.000       253\n",
            "           4      0.000     0.000     0.000        97\n",
            "\n",
            "    accuracy                          0.633     12138\n",
            "   macro avg      0.127     0.200     0.155     12138\n",
            "weighted avg      0.400     0.633     0.490     12138\n",
            "\n",
            "Evaluation for: Dummy Classifier with strategy='most_frequent' On Test Set\n",
            "\n",
            "              precision    recall  f1-score   support\n",
            "\n",
            "           0      0.000     0.000     0.000       282\n",
            "           1      0.626     1.000     0.770      2514\n",
            "           2      0.000     0.000     0.000      1102\n",
            "           3      0.000     0.000     0.000        86\n",
            "           4      0.000     0.000     0.000        32\n",
            "\n",
            "    accuracy                          0.626      4016\n",
            "   macro avg      0.125     0.200     0.154      4016\n",
            "weighted avg      0.392     0.626     0.482      4016\n",
            "\n"
          ],
          "name": "stdout"
        }
      ]
    },
    {
      "cell_type": "code",
      "metadata": {
        "colab": {
          "base_uri": "https://localhost:8080/"
        },
        "id": "b28407eb",
        "outputId": "70e3db51-3ef7-4f43-c54c-7ec8b6ba8f7a"
      },
      "source": [
        "# (b) Dummy Classifier with strategy=\"stratified\" Performance Report\n",
        "\n",
        "dummy_prior = DummyClassifier(strategy='stratified')\n",
        "dummy_prior.fit(train_features, train_labels)\n",
        "\n",
        "es = evaluation_summary(\"Dummy Classifier with strategy='stratified' On Train Set\\n\", dummy_prior.predict(train_features), train_labels, True)\n",
        "\n",
        "train_dummy_stratified = list_builder(es)\n",
        "\n",
        "es = evaluation_summary(\"Dummy Classifier with strategy='stratified' On Test Set\\n\", dummy_prior.predict(test_features), test_labels, True)\n",
        "\n",
        "test_dummy_stratified = list_builder(es)"
      ],
      "id": "b28407eb",
      "execution_count": null,
      "outputs": [
        {
          "output_type": "stream",
          "text": [
            "Evaluation for: Dummy Classifier with strategy='stratified' On Train Set\n",
            "\n",
            "              precision    recall  f1-score   support\n",
            "\n",
            "           0      0.070     0.071     0.070       878\n",
            "           1      0.638     0.639     0.639      7679\n",
            "           2      0.268     0.264     0.266      3231\n",
            "           3      0.019     0.020     0.019       253\n",
            "           4      0.020     0.021     0.021        97\n",
            "\n",
            "    accuracy                          0.480     12138\n",
            "   macro avg      0.203     0.203     0.203     12138\n",
            "weighted avg      0.480     0.480     0.480     12138\n",
            "\n",
            "Evaluation for: Dummy Classifier with strategy='stratified' On Test Set\n",
            "\n",
            "              precision    recall  f1-score   support\n",
            "\n",
            "           0      0.095     0.099     0.097       282\n",
            "           1      0.624     0.634     0.629      2514\n",
            "           2      0.265     0.254     0.259      1102\n",
            "           3      0.000     0.000     0.000        86\n",
            "           4      0.000     0.000     0.000        32\n",
            "\n",
            "    accuracy                          0.474      4016\n",
            "   macro avg      0.197     0.197     0.197      4016\n",
            "weighted avg      0.470     0.474     0.472      4016\n",
            "\n"
          ],
          "name": "stdout"
        }
      ]
    },
    {
      "cell_type": "code",
      "metadata": {
        "colab": {
          "base_uri": "https://localhost:8080/"
        },
        "id": "f525b96b",
        "outputId": "7a58e51c-84f5-40c3-a28e-f86f5df47221"
      },
      "source": [
        "# (c) LogisticRegression with One-hot vectorization Performance Report\n",
        "\n",
        "lr = LogisticRegression(max_iter=250)\n",
        "lr_model = lr.fit(train_features, train_labels)\n",
        "\n",
        "es = evaluation_summary(\"LogisticRegression with One-hot vectorization On Train Set\\n\", lr_model.predict(train_features), train_labels, True)\n",
        "\n",
        "train_lr_onehot = list_builder(es)\n",
        "\n",
        "es = evaluation_summary(\"LogisticRegression with One-hot vectorization On Test Set\\n\", lr_model.predict(test_features), test_labels, True)\n",
        "\n",
        "test_lr_onehot = list_builder(es)"
      ],
      "id": "f525b96b",
      "execution_count": null,
      "outputs": [
        {
          "output_type": "stream",
          "text": [
            "Evaluation for: LogisticRegression with One-hot vectorization On Train Set\n",
            "\n",
            "              precision    recall  f1-score   support\n",
            "\n",
            "           0      0.984     0.868     0.923       878\n",
            "           1      0.957     0.995     0.976      7679\n",
            "           2      0.980     0.943     0.961      3231\n",
            "           3      0.995     0.802     0.888       253\n",
            "           4      1.000     0.649     0.788        97\n",
            "\n",
            "    accuracy                          0.965     12138\n",
            "   macro avg      0.983     0.852     0.907     12138\n",
            "weighted avg      0.966     0.965     0.965     12138\n",
            "\n",
            "Evaluation for: LogisticRegression with One-hot vectorization On Test Set\n",
            "\n",
            "              precision    recall  f1-score   support\n",
            "\n",
            "           0      0.451     0.230     0.305       282\n",
            "           1      0.773     0.877     0.822      2514\n",
            "           2      0.712     0.625     0.666      1102\n",
            "           3      0.478     0.256     0.333        86\n",
            "           4      0.800     0.125     0.216        32\n",
            "\n",
            "    accuracy                          0.744      4016\n",
            "   macro avg      0.643     0.423     0.468      4016\n",
            "weighted avg      0.728     0.744     0.728      4016\n",
            "\n"
          ],
          "name": "stdout"
        }
      ]
    },
    {
      "cell_type": "code",
      "metadata": {
        "id": "23b2e03f"
      },
      "source": [
        "# Calling the encoding function to get train, validation and test features according to TF-IDF encoding.\n",
        "\n",
        "train_features, validation_features, test_features = encoding(\"TF-IDF\")"
      ],
      "id": "23b2e03f",
      "execution_count": null,
      "outputs": []
    },
    {
      "cell_type": "code",
      "metadata": {
        "colab": {
          "base_uri": "https://localhost:8080/"
        },
        "id": "b0122d8e",
        "outputId": "4bcae924-62cd-4026-cd3b-e030ade73354"
      },
      "source": [
        "# (d) LogisticRegression with TF-IDF vectorization (default settings) Performance Report\n",
        "\n",
        "lr = LogisticRegression(max_iter=250)\n",
        "lr_model = lr.fit(train_features, train_labels)\n",
        "\n",
        "es = evaluation_summary(\" LogisticRegression with TF-IDF vectorization On Train Set\\n\", lr_model.predict(train_features), train_labels, True)\n",
        "\n",
        "train_lr_tfidf = list_builder(es)\n",
        "\n",
        "es = evaluation_summary(\" LogisticRegression with TF-IDF vectorization On Test Set\\n\", lr_model.predict(test_features), test_labels, True)\n",
        "\n",
        "test_lr_tfidf = list_builder(es)"
      ],
      "id": "b0122d8e",
      "execution_count": null,
      "outputs": [
        {
          "output_type": "stream",
          "text": [
            "Evaluation for:  LogisticRegression with TF-IDF vectorization On Train Set\n",
            "\n",
            "              precision    recall  f1-score   support\n",
            "\n",
            "           0      0.914     0.182     0.304       878\n",
            "           1      0.795     0.979     0.877      7679\n",
            "           2      0.894     0.679     0.772      3231\n",
            "           3      0.979     0.186     0.312       253\n",
            "           4      1.000     0.021     0.040        97\n",
            "\n",
            "    accuracy                          0.817     12138\n",
            "   macro avg      0.916     0.409     0.461     12138\n",
            "weighted avg      0.835     0.817     0.789     12138\n",
            "\n",
            "Evaluation for:  LogisticRegression with TF-IDF vectorization On Test Set\n",
            "\n",
            "              precision    recall  f1-score   support\n",
            "\n",
            "           0      0.619     0.092     0.160       282\n",
            "           1      0.736     0.944     0.827      2514\n",
            "           2      0.758     0.508     0.608      1102\n",
            "           3      0.778     0.081     0.147        86\n",
            "           4      0.000     0.000     0.000        32\n",
            "\n",
            "    accuracy                          0.739      4016\n",
            "   macro avg      0.578     0.325     0.349      4016\n",
            "weighted avg      0.729     0.739     0.699      4016\n",
            "\n"
          ],
          "name": "stdout"
        }
      ]
    },
    {
      "cell_type": "code",
      "metadata": {
        "id": "c31f54ed"
      },
      "source": [
        "# Calling the encoding function to get train, validation and test features according to One-hot encoding.\n",
        "\n",
        "train_features, validation_features, test_features = encoding(\"One-hot\")"
      ],
      "id": "c31f54ed",
      "execution_count": null,
      "outputs": []
    },
    {
      "cell_type": "code",
      "metadata": {
        "colab": {
          "base_uri": "https://localhost:8080/"
        },
        "id": "f816c5c6",
        "outputId": "87a178e0-7ca7-4f23-f5bb-7020448ae22c"
      },
      "source": [
        "# (e) SVC Classifier with One-hot vectorization (SVM with RBF kernel, default settings) Performance Report\n",
        "\n",
        "model = SVC(kernel = 'rbf')\n",
        "svc_model = model.fit(train_features, train_labels)\n",
        "es = evaluation_summary(\"SVC Classifier with One-hot vectorization (RBF kernel) On Train Set\\n\", svc_model.predict(train_features), train_labels, True)\n",
        "\n",
        "train_svc = list_builder(es)\n",
        "\n",
        "es = evaluation_summary(\"SVC Classifier with One-hot vectorization (RBF kernel) On Test Set\\n\", svc_model.predict(test_features), test_labels, True)\n",
        "\n",
        "test_svc = list_builder(es)"
      ],
      "id": "f816c5c6",
      "execution_count": null,
      "outputs": [
        {
          "output_type": "stream",
          "text": [
            "Evaluation for: SVC Classifier with One-hot vectorization (RBF kernel) On Train Set\n",
            "\n",
            "              precision    recall  f1-score   support\n",
            "\n",
            "           0      0.992     0.289     0.448       878\n",
            "           1      0.840     0.988     0.908      7679\n",
            "           2      0.921     0.811     0.862      3231\n",
            "           3      1.000     0.036     0.069       253\n",
            "           4      0.000     0.000     0.000        97\n",
            "\n",
            "    accuracy                          0.862     12138\n",
            "   macro avg      0.751     0.425     0.457     12138\n",
            "weighted avg      0.869     0.862     0.838     12138\n",
            "\n",
            "Evaluation for: SVC Classifier with One-hot vectorization (RBF kernel) On Test Set\n",
            "\n",
            "              precision    recall  f1-score   support\n",
            "\n",
            "           0      0.800     0.014     0.028       282\n",
            "           1      0.720     0.957     0.822      2514\n",
            "           2      0.769     0.466     0.581      1102\n",
            "           3      0.000     0.000     0.000        86\n",
            "           4      0.000     0.000     0.000        32\n",
            "\n",
            "    accuracy                          0.728      4016\n",
            "   macro avg      0.458     0.288     0.286      4016\n",
            "weighted avg      0.718     0.728     0.676      4016\n",
            "\n"
          ],
          "name": "stdout"
        }
      ]
    },
    {
      "cell_type": "code",
      "metadata": {
        "id": "EmKp-cewR9pi"
      },
      "source": [
        "# One hot vectorization with appropriate pre-processing\n",
        "\n",
        "def manual_encoding():\n",
        "\n",
        "    vectorizer = CountVectorizer(tokenizer=spacy_tokenizer, binary = True)\n",
        "\n",
        "    train_features = vectorizer.fit_transform(train_data['body'])\n",
        "    validation_features = vectorizer.transform(validation_data['body'])\n",
        "    test_features = vectorizer.transform(test_data['body'])\n",
        "    return train_features, validation_features, test_features\n",
        "\n",
        "manual_train_features, manual_validation_features, manual_test_features = manual_encoding()"
      ],
      "id": "EmKp-cewR9pi",
      "execution_count": null,
      "outputs": []
    },
    {
      "cell_type": "code",
      "metadata": {
        "id": "1098b9c2",
        "colab": {
          "base_uri": "https://localhost:8080/"
        },
        "outputId": "83a31949-1d00-40ef-a5cf-63cf4c112443"
      },
      "source": [
        "#(f) MLP classifier model Performance Report\n",
        "\n",
        "classifier = MLPClassifier(alpha = 0.1, max_iter = 200) \n",
        "classifier.fit(manual_train_features, train_labels)\n",
        "\n",
        "es = evaluation_summary(\"Multi-layer Perceptron with One-hot vectorization On Train Set\\n\", classifier.predict(manual_train_features), train_labels, True)\n",
        "\n",
        "train_mlp = list_builder(es)\n",
        "\n",
        "es = evaluation_summary(\"Multi-layer Perceptron with One-hot vectorization On Test Set\\n\", classifier.predict(manual_test_features), test_labels, True)\n",
        "es_copy = es.copy(deep=True)\n",
        "test_mlp = list_builder(es)\n",
        "\n",
        "es_copy = es_copy.drop(['support', 'recall', 'precision'], axis=1)\n",
        "es_copy = es_copy.drop([\"accuracy\", \"macro avg\", \"weighted avg\"])\n",
        "index_ = ['negative', 'neutral', 'positive', 'very positive', 'very negative']\n",
        "es_copy['index'] = index_\n",
        "roundThree = es_copy['f1-score'].round(decimals=3)\n",
        "es_copy['f1-score'] = roundThree"
      ],
      "id": "1098b9c2",
      "execution_count": null,
      "outputs": [
        {
          "output_type": "stream",
          "text": [
            "Evaluation for: Multi-layer Perceptron with One-hot vectorization On Train Set\n",
            "\n",
            "              precision    recall  f1-score   support\n",
            "\n",
            "           0      1.000     0.994     0.997       878\n",
            "           1      0.996     0.999     0.998      7679\n",
            "           2      0.997     0.993     0.995      3231\n",
            "           3      0.996     0.988     0.992       253\n",
            "           4      1.000     0.979     0.990        97\n",
            "\n",
            "    accuracy                          0.997     12138\n",
            "   macro avg      0.998     0.991     0.994     12138\n",
            "weighted avg      0.997     0.997     0.997     12138\n",
            "\n",
            "Evaluation for: Multi-layer Perceptron with One-hot vectorization On Test Set\n",
            "\n",
            "              precision    recall  f1-score   support\n",
            "\n",
            "           0      0.505     0.390     0.440       282\n",
            "           1      0.794     0.857     0.824      2514\n",
            "           2      0.705     0.634     0.668      1102\n",
            "           3      0.562     0.477     0.516        86\n",
            "           4      0.737     0.438     0.549        32\n",
            "\n",
            "    accuracy                          0.751      4016\n",
            "   macro avg      0.660     0.559     0.599      4016\n",
            "weighted avg      0.744     0.751     0.745      4016\n",
            "\n"
          ],
          "name": "stdout"
        }
      ]
    },
    {
      "cell_type": "code",
      "metadata": {
        "id": "64gJgRZT14MZ",
        "colab": {
          "base_uri": "https://localhost:8080/"
        },
        "outputId": "6cc93cd3-b480-4a1f-8c07-5b931e59ce18"
      },
      "source": [
        "# The overall results obtained by the classifiers on the training and test sets in one table, and highlighted the best performance.\n",
        "\n",
        "class ConsoleColor:\n",
        "    # Color\n",
        "    BLACK = '\\033[90m'\n",
        "    RED = '\\033[91m'\n",
        "    GREEN = '\\033[92m'\n",
        "    YELLOW = '\\033[93m'\n",
        "    BLUE = '\\033[94m'\n",
        "    PURPLE = '\\033[95m'\n",
        "    CYAN = '\\033[96m'\n",
        "    GRAY = '\\033[97m'\n",
        "\n",
        "    # Style\n",
        "    BOLD = '\\033[1m'\n",
        "    UNDERLINE = '\\033[4m'\n",
        "\n",
        "    # BackgroundColor\n",
        "    BgBLACK = '\\033[40m'\n",
        "    BgRED = '\\033[41m'\n",
        "    BgGREEN = '\\033[42m'\n",
        "    BgORANGE = '\\033[43m'\n",
        "    BgBLUE = '\\033[44m'\n",
        "    BgPURPLE = '\\033[45m'\n",
        "    BgCYAN = '\\033[46m'\n",
        "    BgGRAY = '\\033[47m'\n",
        "\n",
        "    # End\n",
        "    END = '\\033[0m'\n",
        "\n",
        "print(\"Overall Results\")\n",
        "\n",
        "comparison_table = PrettyTable([\"Result\", \"Accuracy\", \"Precision Macro Avg\", \"Recall Macro Avg\", \"F1_Score Macro Avg\", \"Precision Weighted Avg\", \"Recall Weighted Avg\", \"F1_Score Weighted Avg\"]) \n",
        "comparison_table.add_row([\"dummy_mf_train\",train_dummy_mf[0],train_dummy_mf[1],train_dummy_mf[2],train_dummy_mf[3],train_dummy_mf[4],train_dummy_mf[5],train_dummy_mf[6]])\n",
        "comparison_table.add_row([\"dummy_mf_test\",test_dummy_mf[0],test_dummy_mf[1],test_dummy_mf[2],test_dummy_mf[3],test_dummy_mf[4],test_dummy_mf[5],test_dummy_mf[6]])\n",
        "comparison_table.add_row([\"dummy_stratified_train\",train_dummy_stratified[0],train_dummy_stratified[1],train_dummy_stratified[2],train_dummy_stratified[3],train_dummy_stratified[4],train_dummy_stratified[5],train_dummy_stratified[6]])\n",
        "comparison_table.add_row([\"dummy_stratified_test\",test_dummy_stratified[0],test_dummy_stratified[1],test_dummy_stratified[2],test_dummy_stratified[3],test_dummy_stratified[4],test_dummy_stratified[5],test_dummy_stratified[6]])\n",
        "comparison_table.add_row([\"lr_onehot_train\",train_lr_onehot[0],train_lr_onehot[1],train_lr_onehot[2],train_lr_onehot[3],train_lr_onehot[4],train_lr_onehot[5],train_lr_onehot[6]])\n",
        "comparison_table.add_row([\"lr_onehot_test\",test_lr_onehot[0],test_lr_onehot[1],test_lr_onehot[2],test_lr_onehot[3],test_lr_onehot[4],test_lr_onehot[5],test_lr_onehot[6]])\n",
        "comparison_table.add_row([\"lr_tfidf_train\",train_lr_tfidf[0],train_lr_tfidf[1],train_lr_tfidf[2],train_lr_tfidf[3],train_lr_tfidf[4],train_lr_tfidf[5],train_lr_tfidf[6]])\n",
        "comparison_table.add_row([\"lr_tfidf_test\",test_lr_tfidf[0],test_lr_tfidf[1],test_lr_tfidf[2],test_lr_tfidf[3],test_lr_tfidf[4],test_lr_tfidf[5],test_lr_tfidf[6]])\n",
        "comparison_table.add_row([\"svc_train\",train_svc[0],train_svc[1],train_svc[2],train_svc[3],train_svc[4],train_svc[5],train_svc[6]])\n",
        "comparison_table.add_row([\"svc_test\",test_svc[0],test_svc[1],test_svc[2],test_svc[3],test_svc[4],test_svc[5],test_svc[6]])\n",
        "comparison_table.add_row([\"mlp_train\",train_mlp[0],train_mlp[1],train_mlp[2],train_mlp[3],train_mlp[4],train_mlp[5],train_mlp[6]])\n",
        "comparison_table.add_row([ConsoleColor.BOLD + \"\\033[40m \\033[97m mlp_test\" + ConsoleColor.END,test_mlp[0],test_mlp[1],test_mlp[2],test_mlp[3],test_mlp[4],test_mlp[5],test_mlp[6]])\n",
        "\n",
        "print(comparison_table)"
      ],
      "id": "64gJgRZT14MZ",
      "execution_count": null,
      "outputs": [
        {
          "output_type": "stream",
          "text": [
            "Overall Results\n",
            "+------------------------+----------+---------------------+------------------+--------------------+------------------------+---------------------+-----------------------+\n",
            "|         Result         | Accuracy | Precision Macro Avg | Recall Macro Avg | F1_Score Macro Avg | Precision Weighted Avg | Recall Weighted Avg | F1_Score Weighted Avg |\n",
            "+------------------------+----------+---------------------+------------------+--------------------+------------------------+---------------------+-----------------------+\n",
            "|     dummy_mf_train     |  0.633   |        0.127        |       0.2        |       0.155        |          0.4           |        0.633        |          0.49         |\n",
            "|     dummy_mf_test      |  0.626   |        0.125        |       0.2        |       0.154        |         0.392          |        0.626        |         0.482         |\n",
            "| dummy_stratified_train |   0.48   |        0.203        |      0.203       |       0.203        |          0.48          |         0.48        |          0.48         |\n",
            "| dummy_stratified_test  |  0.474   |        0.197        |      0.197       |       0.197        |          0.47          |        0.474        |         0.472         |\n",
            "|    lr_onehot_train     |  0.965   |        0.983        |      0.852       |       0.907        |         0.966          |        0.965        |         0.965         |\n",
            "|     lr_onehot_test     |  0.744   |        0.643        |      0.423       |       0.468        |         0.728          |        0.744        |         0.728         |\n",
            "|     lr_tfidf_train     |  0.817   |        0.916        |      0.409       |       0.461        |         0.835          |        0.817        |         0.789         |\n",
            "|     lr_tfidf_test      |  0.739   |        0.578        |      0.325       |       0.349        |         0.729          |        0.739        |         0.699         |\n",
            "|       svc_train        |  0.862   |        0.751        |      0.425       |       0.457        |         0.869          |        0.862        |         0.838         |\n",
            "|        svc_test        |  0.728   |        0.458        |      0.288       |       0.286        |         0.718          |        0.728        |         0.676         |\n",
            "|       mlp_train        |  0.997   |        0.998        |      0.991       |       0.994        |         0.997          |        0.997        |         0.997         |\n",
            "|       \u001b[1m\u001b[40m \u001b[97m mlp_test\u001b[0m       |  0.751   |         0.66        |      0.559       |       0.599        |         0.744          |        0.751        |         0.745         |\n",
            "+------------------------+----------+---------------------+------------------+--------------------+------------------------+---------------------+-----------------------+\n"
          ],
          "name": "stdout"
        }
      ]
    },
    {
      "cell_type": "code",
      "metadata": {
        "colab": {
          "base_uri": "https://localhost:8080/",
          "height": 326
        },
        "id": "BwMfV5zokRnL",
        "outputId": "9c88d9a7-64f5-45c2-e02c-ef23ed28e788"
      },
      "source": [
        "# Confusion Matrix for Best Classifier (MLP)\n",
        "\n",
        "confusion_matrix_build(\"Multi-layer Perceptron with One-hot vectorization On Test Set\\n\", classifier.predict(manual_test_features), test_labels)"
      ],
      "id": "BwMfV5zokRnL",
      "execution_count": null,
      "outputs": [
        {
          "output_type": "stream",
          "text": [
            "Confusion Matrix for: Multi-layer Perceptron with One-hot vectorization On Test Set\n",
            "\n",
            "AxesSubplot(0.241667,0.125;0.503333x0.755)\n"
          ],
          "name": "stdout"
        },
        {
          "output_type": "display_data",
          "data": {
            "image/png": "[encoded data removed]",
            "text/plain": [
              "<Figure size 432x288 with 2 Axes>"
            ]
          },
          "metadata": {
            "tags": []
          }
        }
      ]
    },
    {
      "cell_type": "code",
      "metadata": {
        "id": "cdedc519",
        "colab": {
          "base_uri": "https://localhost:8080/",
          "height": 647
        },
        "outputId": "18237ebf-1f3a-4b04-e411-16600a5915b1"
      },
      "source": [
        "# The best performing classifier - bar chart graph with the F1 score for each class - (sentiment polarity labels on x-axis, F1 score on Y axis).\n",
        "\n",
        "sns.set(font_scale = 1.5)\n",
        "ax = sns.barplot(data = es_copy\n",
        "            ,y = 'f1-score'\n",
        "            ,x = 'index', palette=(\"Blues_d\")\n",
        "            )\n",
        "ax.set_title('best performing classifier (MLP) - bar chart graph with the F1 score for each class', fontweight=\"bold\", size = 22) # Title\n",
        "\n",
        "for p in ax.patches:\n",
        "    ax.annotate(str(p.get_height()), (p.get_x() + 0.3, p.get_height()))\n",
        "\n",
        "ax.set_xlabel('sentiment polarity', fontsize=20)    \n",
        "ax.set_ylabel('f1 Score', fontsize=20)    \n",
        "plt.gcf().set_size_inches(20, 10) \n",
        "plt.show()"
      ],
      "id": "cdedc519",
      "execution_count": null,
      "outputs": [
        {
          "output_type": "display_data",
          "data": {
            "image/png": "[encoded data removed]",
            "text/plain": [
              "<Figure size 1440x720 with 1 Axes>"
            ]
          },
          "metadata": {
            "tags": []
          }
        }
      ]
    },
    {
      "cell_type": "markdown",
      "metadata": {
        "id": "HZXjIzZiCHmA"
      },
      "source": [
        "# Q2"
      ],
      "id": "HZXjIzZiCHmA"
    },
    {
      "cell_type": "code",
      "metadata": {
        "id": "95ab633c"
      },
      "source": [
        "# Calling the encoding function to get train, validation and test features according to TF-IDF encoding.\n",
        "\n",
        "train_features, validation_features, test_features = encoding(\"TF-IDF\")"
      ],
      "id": "95ab633c",
      "execution_count": null,
      "outputs": []
    },
    {
      "cell_type": "code",
      "metadata": {
        "id": "49defc8b"
      },
      "source": [
        "# Class initilization\n",
        "\n",
        "class ItemSelector(BaseEstimator, TransformerMixin):\n",
        "    def __init__(self, key):\n",
        "        self.key = key\n",
        "\n",
        "    def fit(self, x, y = None):\n",
        "        return self\n",
        "\n",
        "    def transform(self, data_dict):\n",
        "        return data_dict[self.key]"
      ],
      "id": "49defc8b",
      "execution_count": null,
      "outputs": []
    },
    {
      "cell_type": "code",
      "metadata": {
        "colab": {
          "base_uri": "https://localhost:8080/"
        },
        "id": "f30b3722",
        "outputId": "6a1fc5d9-5cf8-490a-8495-a74667ece30a"
      },
      "source": [
        "#Creating Pipeline\n",
        "\n",
        "prediction_pipeline = Pipeline([\n",
        "              ('lr', LogisticRegression(solver='lbfgs', max_iter = 5000))\n",
        "              ])\n",
        "\n",
        "prediction_pipeline.fit(train_features, train_labels)\n",
        "\n",
        "evaluation_summary(\"LogisticRegression with TF-IDF vectorization (max_features)\\n\", prediction_pipeline.predict(validation_features), validation_labels, False)"
      ],
      "id": "f30b3722",
      "execution_count": null,
      "outputs": [
        {
          "output_type": "stream",
          "text": [
            "Evaluation for: LogisticRegression with TF-IDF vectorization (max_features)\n",
            "\n",
            "              precision    recall  f1-score   support\n",
            "\n",
            "           0      0.581     0.084     0.146       215\n",
            "           1      0.732     0.938     0.823      1961\n",
            "           2      0.731     0.482     0.581       845\n",
            "           3      0.778     0.096     0.171        73\n",
            "           4      0.000     0.000     0.000        15\n",
            "\n",
            "    accuracy                          0.731      3109\n",
            "   macro avg      0.564     0.320     0.344      3109\n",
            "weighted avg      0.719     0.731     0.691      3109\n",
            "\n"
          ],
          "name": "stdout"
        }
      ]
    },
    {
      "cell_type": "code",
      "metadata": {
        "colab": {
          "base_uri": "https://localhost:8080/"
        },
        "id": "b2bdca1a",
        "outputId": "184cfc1d-45a1-4863-9a83-17ef63ea3669"
      },
      "source": [
        "# Parameter selection using GridSearchCV\n",
        "\n",
        "params = {\n",
        "   'lr__solver': (\"lbfgs\", \"sag\", \"saga\", \"newton-cg\"), \n",
        "}\n",
        "\n",
        "grid_search = GridSearchCV(prediction_pipeline, param_grid=params, n_jobs=-1, verbose=1, scoring='f1_weighted', cv=2)\n",
        "\n",
        "print(\"Performing grid search...\")\n",
        "print(\"pipeline:\", [name for name, _ in prediction_pipeline.steps])\n",
        "print(\"parameters:\")\n",
        "print(params)\n",
        "\n",
        "grid_search.fit(train_features, train_labels)\n",
        "\n",
        "print(\"Best score: %0.3f\" % grid_search.best_score_)\n",
        "\n",
        "print(\"Best parameters set:\")\n",
        "\n",
        "best_parameters = grid_search.best_estimator_.get_params()\n",
        "\n",
        "for param_name in sorted(params.keys()):\n",
        "    print(\"\\t%s: %r\" % (param_name, best_parameters[param_name]))"
      ],
      "id": "b2bdca1a",
      "execution_count": null,
      "outputs": [
        {
          "output_type": "stream",
          "text": [
            "Performing grid search...\n",
            "pipeline: ['lr']\n",
            "parameters:\n",
            "{'lr__solver': ('lbfgs', 'sag', 'saga', 'newton-cg')}\n",
            "Fitting 2 folds for each of 4 candidates, totalling 8 fits\n"
          ],
          "name": "stdout"
        },
        {
          "output_type": "stream",
          "text": [
            "[Parallel(n_jobs=-1)]: Using backend LokyBackend with 2 concurrent workers.\n",
            "[Parallel(n_jobs=-1)]: Done   8 out of   8 | elapsed:    6.6s finished\n"
          ],
          "name": "stderr"
        },
        {
          "output_type": "stream",
          "text": [
            "Best score: 0.654\n",
            "Best parameters set:\n",
            "\tlr__solver: 'saga'\n"
          ],
          "name": "stdout"
        }
      ]
    },
    {
      "cell_type": "code",
      "metadata": {
        "colab": {
          "base_uri": "https://localhost:8080/"
        },
        "id": "89b4d5ed",
        "outputId": "2588ed10-2b94-42d4-93fc-ff9396b84a54"
      },
      "source": [
        "#Creating Pipeline\n",
        "\n",
        "prediction_pipeline = Pipeline([\n",
        "              ('selector', ItemSelector(key='body')),\n",
        "              ('tfidf', TfidfVectorizer(sublinear_tf = False)),\n",
        "              ('lr', LogisticRegression(solver='saga', max_iter = 5000))\n",
        "              ])\n",
        "\n",
        "prediction_pipeline.fit(train_data, train_labels)\n",
        "\n",
        "evaluation_summary(\"LogisticRegression with TF-IDF vectorization (sublinear_tf)\\n\", prediction_pipeline.predict(validation_data), validation_labels, False)"
      ],
      "id": "89b4d5ed",
      "execution_count": null,
      "outputs": [
        {
          "output_type": "stream",
          "text": [
            "Evaluation for: LogisticRegression with TF-IDF vectorization (sublinear_tf)\n",
            "\n",
            "              precision    recall  f1-score   support\n",
            "\n",
            "           0      0.581     0.084     0.146       215\n",
            "           1      0.732     0.938     0.823      1961\n",
            "           2      0.731     0.482     0.581       845\n",
            "           3      0.778     0.096     0.171        73\n",
            "           4      0.000     0.000     0.000        15\n",
            "\n",
            "    accuracy                          0.731      3109\n",
            "   macro avg      0.564     0.320     0.344      3109\n",
            "weighted avg      0.719     0.731     0.691      3109\n",
            "\n"
          ],
          "name": "stdout"
        }
      ]
    },
    {
      "cell_type": "code",
      "metadata": {
        "colab": {
          "base_uri": "https://localhost:8080/"
        },
        "id": "2c616d4e",
        "outputId": "79448a72-d712-4cd1-e84b-922f213594be"
      },
      "source": [
        "# Parameter selection using GridSearchCV\n",
        "\n",
        "params = {\n",
        "   'tfidf__sublinear_tf': (True, False), \n",
        "}\n",
        "\n",
        "grid_search = GridSearchCV(prediction_pipeline, param_grid=params, n_jobs=-1, verbose=1, scoring='f1_weighted', cv=2)\n",
        "\n",
        "print(\"Performing grid search...\")\n",
        "print(\"pipeline:\", [name for name, _ in prediction_pipeline.steps])\n",
        "print(\"parameters:\")\n",
        "print(params)\n",
        "\n",
        "grid_search.fit(train_data, train_labels)\n",
        "\n",
        "print(\"Best score: %0.3f\" % grid_search.best_score_)\n",
        "\n",
        "print(\"Best parameters set:\")\n",
        "\n",
        "best_parameters = grid_search.best_estimator_.get_params()\n",
        "\n",
        "for param_name in sorted(params.keys()):\n",
        "    print(\"\\t%s: %r\" % (param_name, best_parameters[param_name]))"
      ],
      "id": "2c616d4e",
      "execution_count": null,
      "outputs": [
        {
          "output_type": "stream",
          "text": [
            "Performing grid search...\n",
            "pipeline: ['selector', 'tfidf', 'lr']\n",
            "parameters:\n",
            "{'tfidf__sublinear_tf': (True, False)}\n",
            "Fitting 2 folds for each of 2 candidates, totalling 4 fits\n"
          ],
          "name": "stdout"
        },
        {
          "output_type": "stream",
          "text": [
            "[Parallel(n_jobs=-1)]: Using backend LokyBackend with 2 concurrent workers.\n",
            "[Parallel(n_jobs=-1)]: Done   4 out of   4 | elapsed:    3.1s finished\n"
          ],
          "name": "stderr"
        },
        {
          "output_type": "stream",
          "text": [
            "Best score: 0.668\n",
            "Best parameters set:\n",
            "\ttfidf__sublinear_tf: True\n"
          ],
          "name": "stdout"
        }
      ]
    },
    {
      "cell_type": "code",
      "metadata": {
        "colab": {
          "base_uri": "https://localhost:8080/"
        },
        "id": "c313d8b7",
        "outputId": "1f6755af-c9e1-4207-f3bb-5583fcceabd4"
      },
      "source": [
        "#Creating Pipeline\n",
        "\n",
        "prediction_pipeline = Pipeline([\n",
        "              ('selector', ItemSelector(key='body')),\n",
        "              ('tfidf', TfidfVectorizer(sublinear_tf = True, max_features = None)),\n",
        "              ('lr', LogisticRegression(solver='saga', max_iter = 5000))\n",
        "              ])\n",
        "\n",
        "prediction_pipeline.fit(train_data, train_labels)\n",
        "\n",
        "evaluation_summary(\"LogisticRegression with TF-IDF vectorization (max_features)\\n\", prediction_pipeline.predict(validation_data), validation_labels, False)"
      ],
      "id": "c313d8b7",
      "execution_count": null,
      "outputs": [
        {
          "output_type": "stream",
          "text": [
            "Evaluation for: LogisticRegression with TF-IDF vectorization (max_features)\n",
            "\n",
            "              precision    recall  f1-score   support\n",
            "\n",
            "           0      0.625     0.093     0.162       215\n",
            "           1      0.734     0.935     0.822      1961\n",
            "           2      0.724     0.488     0.583       845\n",
            "           3      0.778     0.096     0.171        73\n",
            "           4      0.000     0.000     0.000        15\n",
            "\n",
            "    accuracy                          0.731      3109\n",
            "   macro avg      0.572     0.322     0.348      3109\n",
            "weighted avg      0.721     0.731     0.692      3109\n",
            "\n"
          ],
          "name": "stdout"
        }
      ]
    },
    {
      "cell_type": "code",
      "metadata": {
        "colab": {
          "base_uri": "https://localhost:8080/"
        },
        "id": "8668f39f",
        "outputId": "92ff1ec3-88e0-48b7-eda6-dcd89636e7b8"
      },
      "source": [
        "# Parameter selection using GridSearchCV\n",
        "\n",
        "params = {\n",
        "   'tfidf__max_features': (5000, 10000, 15000, 20000, 25000, 30000, 35000, 40000, 45000, 50000), \n",
        "}\n",
        "\n",
        "grid_search = GridSearchCV(prediction_pipeline, param_grid=params, n_jobs=-1, verbose=1, scoring='f1_weighted', cv=2)\n",
        "\n",
        "print(\"Performing grid search...\")\n",
        "print(\"pipeline:\", [name for name, _ in prediction_pipeline.steps])\n",
        "print(\"parameters:\")\n",
        "print(params)\n",
        "\n",
        "grid_search.fit(train_data, train_labels)\n",
        "\n",
        "print(\"Best score: %0.3f\" % grid_search.best_score_)\n",
        "\n",
        "print(\"Best parameters set:\")\n",
        "\n",
        "best_parameters = grid_search.best_estimator_.get_params()\n",
        "\n",
        "for param_name in sorted(params.keys()):\n",
        "    print(\"\\t%s: %r\" % (param_name, best_parameters[param_name]))"
      ],
      "id": "8668f39f",
      "execution_count": null,
      "outputs": [
        {
          "output_type": "stream",
          "text": [
            "Performing grid search...\n",
            "pipeline: ['selector', 'tfidf', 'lr']\n",
            "parameters:\n",
            "{'tfidf__max_features': (5000, 10000, 15000, 20000, 25000, 30000, 35000, 40000, 45000, 50000)}\n",
            "Fitting 2 folds for each of 10 candidates, totalling 20 fits\n"
          ],
          "name": "stdout"
        },
        {
          "output_type": "stream",
          "text": [
            "[Parallel(n_jobs=-1)]: Using backend LokyBackend with 2 concurrent workers.\n",
            "[Parallel(n_jobs=-1)]: Done  20 out of  20 | elapsed:   14.9s finished\n"
          ],
          "name": "stderr"
        },
        {
          "output_type": "stream",
          "text": [
            "Best score: 0.677\n",
            "Best parameters set:\n",
            "\ttfidf__max_features: 5000\n"
          ],
          "name": "stdout"
        }
      ]
    },
    {
      "cell_type": "code",
      "metadata": {
        "colab": {
          "base_uri": "https://localhost:8080/"
        },
        "id": "9bf767b4",
        "outputId": "fe3980ea-3f6a-42b8-9c8c-49431602ca40"
      },
      "source": [
        "#Creating Pipeline\n",
        "\n",
        "prediction_pipeline = Pipeline([\n",
        "              ('selector', ItemSelector(key='body')),\n",
        "              ('tfidf', TfidfVectorizer(sublinear_tf = True, max_features = 5000)),\n",
        "              ('lr', LogisticRegression(solver='saga', max_iter = 5000, C = 1.0))\n",
        "              ])\n",
        "\n",
        "prediction_pipeline.fit(train_data, train_labels)\n",
        "\n",
        "evaluation_summary(\"LogisticRegression with TF-IDF vectorization\\n\", prediction_pipeline.predict(validation_data), validation_labels, False)"
      ],
      "id": "9bf767b4",
      "execution_count": null,
      "outputs": [
        {
          "output_type": "stream",
          "text": [
            "Evaluation for: LogisticRegression with TF-IDF vectorization\n",
            "\n",
            "              precision    recall  f1-score   support\n",
            "\n",
            "           0      0.684     0.121     0.206       215\n",
            "           1      0.744     0.934     0.828      1961\n",
            "           2      0.725     0.512     0.601       845\n",
            "           3      0.727     0.110     0.190        73\n",
            "           4      0.000     0.000     0.000        15\n",
            "\n",
            "    accuracy                          0.739      3109\n",
            "   macro avg      0.576     0.335     0.365      3109\n",
            "weighted avg      0.731     0.739     0.704      3109\n",
            "\n"
          ],
          "name": "stdout"
        }
      ]
    },
    {
      "cell_type": "code",
      "metadata": {
        "colab": {
          "base_uri": "https://localhost:8080/"
        },
        "id": "b8cbab4b",
        "outputId": "0321de3b-d3c0-4625-f8fe-ee7f433d0748"
      },
      "source": [
        "# Parameter selection using GridSearchCV\n",
        "\n",
        "params = {\n",
        "   'lr__C': (0.001, 0.01, 0.1, 1, 10, 100, 1000, 10000, 100000), \n",
        "}\n",
        "\n",
        "\n",
        "grid_search = GridSearchCV(prediction_pipeline, param_grid=params, n_jobs=-1, verbose=1, scoring='f1_weighted', cv=2)\n",
        "\n",
        "print(\"Performing grid search...\")\n",
        "print(\"pipeline:\", [name for name, _ in prediction_pipeline.steps])\n",
        "print(\"parameters:\")\n",
        "print(params)\n",
        "\n",
        "grid_search.fit(train_data, train_labels)\n",
        "\n",
        "print(\"Best score: %0.3f\" % grid_search.best_score_)\n",
        "\n",
        "print(\"Best parameters set:\")\n",
        "\n",
        "best_parameters = grid_search.best_estimator_.get_params()\n",
        "\n",
        "for param_name in sorted(params.keys()):\n",
        "    print(\"\\t%s: %r\" % (param_name, best_parameters[param_name]))"
      ],
      "id": "b8cbab4b",
      "execution_count": null,
      "outputs": [
        {
          "output_type": "stream",
          "text": [
            "Performing grid search...\n",
            "pipeline: ['selector', 'tfidf', 'lr']\n",
            "parameters:\n",
            "{'lr__C': (0.001, 0.01, 0.1, 1, 10, 100, 1000, 10000, 100000)}\n",
            "Fitting 2 folds for each of 9 candidates, totalling 18 fits\n"
          ],
          "name": "stdout"
        },
        {
          "output_type": "stream",
          "text": [
            "[Parallel(n_jobs=-1)]: Using backend LokyBackend with 2 concurrent workers.\n",
            "[Parallel(n_jobs=-1)]: Done  18 out of  18 | elapsed:   56.0s finished\n"
          ],
          "name": "stderr"
        },
        {
          "output_type": "stream",
          "text": [
            "Best score: 0.711\n",
            "Best parameters set:\n",
            "\tlr__C: 10\n"
          ],
          "name": "stdout"
        }
      ]
    },
    {
      "cell_type": "code",
      "metadata": {
        "colab": {
          "base_uri": "https://localhost:8080/",
          "height": 797
        },
        "id": "fab1fee8",
        "outputId": "72188bfa-42e1-4d92-e6af-277a3dbb426e"
      },
      "source": [
        "# Comparison between LR (No Parameter tuning) VS LR (With Parameter tuning)\n",
        "\n",
        "prediction_pipeline = Pipeline([\n",
        "              ('lr', LogisticRegression(max_iter=3500))\n",
        "              ])\n",
        "\n",
        "prediction_pipeline.fit(train_features, train_labels)\n",
        "\n",
        "evaluation_summary(\"LogisticRegression (No Parameter tuning) with TF-IDF vectorization\\n\", prediction_pipeline.predict(test_features), test_labels, False)\n",
        "\n",
        "prediction_pipeline = Pipeline([\n",
        "              ('selector', ItemSelector(key='body')),\n",
        "              ('tfidf', TfidfVectorizer(sublinear_tf = True, max_features = 5000)),\n",
        "              ('lr', LogisticRegression(solver='saga', max_iter = 5000, C = 10))\n",
        "              ])\n",
        "\n",
        "prediction_pipeline.fit(train_data, train_labels)\n",
        "\n",
        "es = evaluation_summary(\"LogisticRegression (With Parameter tuning) with TF-IDF vectorization\\n\", prediction_pipeline.predict(test_data), test_labels, True)\n",
        "\n",
        "tuned_lr_tfidf_test = list_builder(es)\n",
        "\n",
        "confusion_matrix_build(\"LogisticRegression (With Parameter tuning) with TF-IDF vectorization\\n\", prediction_pipeline.predict(test_data), test_labels)"
      ],
      "id": "fab1fee8",
      "execution_count": null,
      "outputs": [
        {
          "output_type": "stream",
          "text": [
            "Evaluation for: LogisticRegression (No Parameter tuning) with TF-IDF vectorization\n",
            "\n",
            "              precision    recall  f1-score   support\n",
            "\n",
            "           0      0.619     0.092     0.160       282\n",
            "           1      0.736     0.944     0.827      2514\n",
            "           2      0.758     0.508     0.608      1102\n",
            "           3      0.778     0.081     0.147        86\n",
            "           4      0.000     0.000     0.000        32\n",
            "\n",
            "    accuracy                          0.739      4016\n",
            "   macro avg      0.578     0.325     0.349      4016\n",
            "weighted avg      0.729     0.739     0.699      4016\n",
            "\n",
            "Evaluation for: LogisticRegression (With Parameter tuning) with TF-IDF vectorization\n",
            "\n",
            "              precision    recall  f1-score   support\n",
            "\n",
            "           0      0.578     0.316     0.408       282\n",
            "           1      0.797     0.881     0.837      2514\n",
            "           2      0.716     0.672     0.693      1102\n",
            "           3      0.529     0.209     0.300        86\n",
            "           4      0.667     0.250     0.364        32\n",
            "\n",
            "    accuracy                          0.765      4016\n",
            "   macro avg      0.657     0.466     0.520      4016\n",
            "weighted avg      0.753     0.765     0.752      4016\n",
            "\n",
            "Confusion Matrix for: LogisticRegression (With Parameter tuning) with TF-IDF vectorization\n",
            "\n",
            "AxesSubplot(0.241667,0.125;0.503333x0.755)\n"
          ],
          "name": "stdout"
        },
        {
          "output_type": "display_data",
          "data": {
            "image/png": "[encoded data removed]",
            "text/plain": [
              "<Figure size 432x288 with 2 Axes>"
            ]
          },
          "metadata": {
            "tags": []
          }
        }
      ]
    },
    {
      "cell_type": "code",
      "metadata": {
        "colab": {
          "base_uri": "https://localhost:8080/"
        },
        "id": "JgADRxFU08EE",
        "outputId": "546e11a8-4854-4b83-ac4e-30cabda0941d"
      },
      "source": [
        "# Table Comparison between LR (No Parameter tuning) VS LR (With Parameter tuning)\n",
        "\n",
        "print(\"Comparison between LR (No Parameter tuning) VS LR (With Parameter tuning)\")\n",
        "\n",
        "comparison_table = PrettyTable([\"Result\", \"Accuracy\", \"Precision Macro Avg\", \"Recall Macro Avg\", \"F1_Score Macro Avg\", \"Precision Weighted Avg\", \"Recall Weighted Avg\", \"F1_Score Weighted Avg\"])\n",
        "comparison_table.add_row([\"LR (No Parameter tuning)\",test_lr_tfidf[0],test_lr_tfidf[1],test_lr_tfidf[2],test_lr_tfidf[3],test_lr_tfidf[4],test_lr_tfidf[5],test_lr_tfidf[6]])\n",
        "comparison_table.add_row([ConsoleColor.BOLD + \"\\033[40m \\033[97m LR (With Parameter tuning)\" + ConsoleColor.END,tuned_lr_tfidf_test[0],tuned_lr_tfidf_test[1],tuned_lr_tfidf_test[2],tuned_lr_tfidf_test[3],tuned_lr_tfidf_test[4],tuned_lr_tfidf_test[5],tuned_lr_tfidf_test[6]])\n",
        "\n",
        "print(comparison_table)"
      ],
      "id": "JgADRxFU08EE",
      "execution_count": null,
      "outputs": [
        {
          "output_type": "stream",
          "text": [
            "Comparison between LR (No Parameter tuning) VS LR (With Parameter tuning)\n",
            "+------------------------------+----------+---------------------+------------------+--------------------+------------------------+---------------------+-----------------------+\n",
            "|            Result            | Accuracy | Precision Macro Avg | Recall Macro Avg | F1_Score Macro Avg | Precision Weighted Avg | Recall Weighted Avg | F1_Score Weighted Avg |\n",
            "+------------------------------+----------+---------------------+------------------+--------------------+------------------------+---------------------+-----------------------+\n",
            "|   LR (No Parameter tuning)   |  0.739   |        0.578        |      0.325       |       0.349        |         0.729          |        0.739        |         0.699         |\n",
            "| \u001b[1m\u001b[40m \u001b[97m LR (With Parameter tuning)\u001b[0m |  0.765   |        0.657        |      0.466       |        0.52        |         0.753          |        0.765        |         0.752         |\n",
            "+------------------------------+----------+---------------------+------------------+--------------------+------------------------+---------------------+-----------------------+\n"
          ],
          "name": "stdout"
        }
      ]
    },
    {
      "cell_type": "markdown",
      "metadata": {
        "id": "7eNL--xbCXhp"
      },
      "source": [
        "# Q3"
      ],
      "id": "7eNL--xbCXhp"
    },
    {
      "cell_type": "code",
      "metadata": {
        "id": "7uCda-puP2xa"
      },
      "source": [
        "# Concatinating train and validation dataset and removing extra indexes\n",
        "\n",
        "train_validation = pd.concat([train_data, validation_data], axis=0)\n",
        "train_validation.reset_index(drop=True, inplace=True)"
      ],
      "id": "7uCda-puP2xa",
      "execution_count": null,
      "outputs": []
    },
    {
      "cell_type": "code",
      "metadata": {
        "id": "BTGY0tdY6L6G"
      },
      "source": [
        "# Using vader Sentiment, Getting Posts Labels for Train Dataset\n",
        "\n",
        "posts_list_new_classes = []\n",
        "posts_list = []\n",
        "posts_list = train_validation.loc[:, \"body\"]\n",
        "posts_list = list(posts_list)\n",
        "compound = 0.1\n",
        "analyzer = SentimentIntensityAnalyzer()\n",
        "\n",
        "for i in range(len(posts_list)):\n",
        "  #tokenized_sentence = spacy_tokenizer(posts_list[i])\n",
        "  #string_list = \"\"\n",
        "  #for sublist in tokenized_sentence:\n",
        "    #string_list = string_list + \" \" + sublist\n",
        "\n",
        "  \n",
        "  vs = analyzer.polarity_scores(posts_list[i])\n",
        "  for k, v in vs.items():\n",
        "    if k == 'compound':\n",
        "      compound = vs[k]\n",
        "\n",
        "  if compound >= 0.7:\n",
        "    posts_list_new_classes.append(\"very positive\")\n",
        "\n",
        "  if compound >= 0.05 and compound < 0.7:\n",
        "    posts_list_new_classes.append(\"positive\")\n",
        "\n",
        "  if compound > -0.05 and compound < 0.05:\n",
        "    posts_list_new_classes.append(\"neutral\")\n",
        "\n",
        "  if compound <= -0.05:\n",
        "    posts_list_new_classes.append(\"negative\")\n"
      ],
      "id": "BTGY0tdY6L6G",
      "execution_count": null,
      "outputs": []
    },
    {
      "cell_type": "code",
      "metadata": {
        "id": "xW5XTAjRlTA8"
      },
      "source": [
        "# Using vader Sentiment, Getting Posts Labels for Test Dataset\n",
        "\n",
        "test_posts_list_new_classes = []\n",
        "test_posts_list = []\n",
        "test_posts_list = test_data.loc[:, \"body\"]\n",
        "test_posts_list = list(test_posts_list)\n",
        "test_compound = 0.1\n",
        "analyzer = SentimentIntensityAnalyzer()\n",
        "\n",
        "for i in range(len(test_posts_list)):\n",
        "  #test_tokenized_sentence = spacy_tokenizer(test_posts_list[i])\n",
        "  #test_string_list = \"\"\n",
        "  #for test_sublist in test_tokenized_sentence:\n",
        "    #test_string_list = test_string_list + \" \" + test_sublist\n",
        "\n",
        "  \n",
        "  test_vs = analyzer.polarity_scores(test_posts_list[i])\n",
        "  for k, v in test_vs.items():\n",
        "    if k == 'compound':\n",
        "      test_compound = test_vs[k]\n",
        "\n",
        "  if test_compound >= 0.7:\n",
        "    test_posts_list_new_classes.append(\"very positive\")\n",
        "\n",
        "  if test_compound >= 0.05 and test_compound < 0.7:\n",
        "    test_posts_list_new_classes.append(\"positive\")\n",
        "\n",
        "  if test_compound > -0.05 and test_compound < 0.05:\n",
        "    test_posts_list_new_classes.append(\"neutral\")\n",
        "\n",
        "  if test_compound <= -0.05:\n",
        "    test_posts_list_new_classes.append(\"negative\")"
      ],
      "id": "xW5XTAjRlTA8",
      "execution_count": null,
      "outputs": []
    },
    {
      "cell_type": "code",
      "metadata": {
        "colab": {
          "base_uri": "https://localhost:8080/"
        },
        "id": "42SeGu89OZHB",
        "outputId": "a6825e7c-9e91-44c1-ad37-7da742591522"
      },
      "source": [
        "# Sanity Check if train classes have same number of rows like Train Data\n",
        "\n",
        "print(len(posts_list))\n",
        "print(len(posts_list_new_classes))\n",
        "print(posts_list[953])\n",
        "print(train_data.loc[953:953 , \"sentiment.polarity\"])\n",
        "print(posts_list_new_classes[953])"
      ],
      "id": "42SeGu89OZHB",
      "execution_count": null,
      "outputs": [
        {
          "output_type": "stream",
          "text": [
            "15247\n",
            "15247\n",
            "That I live on the side of a volcano on a Pacific Island.\n",
            "953    neutral\n",
            "Name: sentiment.polarity, dtype: object\n",
            "neutral\n"
          ],
          "name": "stdout"
        }
      ]
    },
    {
      "cell_type": "code",
      "metadata": {
        "colab": {
          "base_uri": "https://localhost:8080/"
        },
        "id": "rMgBxUSmLwub",
        "outputId": "1e6d9e90-2518-4622-8c3b-39a50c4e3ef5"
      },
      "source": [
        "# Sanity Check if test classes have same number of rows like Test Data\n",
        "\n",
        "print(len(test_posts_list))\n",
        "print(len(test_posts_list_new_classes))\n",
        "print(test_posts_list[953])\n",
        "print(test_data.loc[953:953 , \"sentiment.polarity\"])\n",
        "print(test_posts_list_new_classes[953])"
      ],
      "id": "rMgBxUSmLwub",
      "execution_count": null,
      "outputs": [
        {
          "output_type": "stream",
          "text": [
            "4016\n",
            "4016\n",
            "I've had this happen. I wasn't aware there was a change with the wildfire. I typically use the standard skin and have had a problem with the plants either sitting there or just periodically attacking things.\n",
            "953    neutral\n",
            "Name: sentiment.polarity, dtype: object\n",
            "negative\n"
          ],
          "name": "stdout"
        }
      ]
    },
    {
      "cell_type": "code",
      "metadata": {
        "id": "3df5024d"
      },
      "source": [
        "# Assigning Vader Labels to New column in Training Set\n",
        "\n",
        "train_validation['new_class'] = posts_list_new_classes"
      ],
      "id": "3df5024d",
      "execution_count": null,
      "outputs": []
    },
    {
      "cell_type": "code",
      "metadata": {
        "id": "UmAxZY-5l93M"
      },
      "source": [
        "# Assigning Vader Labels to New column in Test Set\n",
        "\n",
        "test_data['new_class'] = test_posts_list_new_classes"
      ],
      "id": "UmAxZY-5l93M",
      "execution_count": null,
      "outputs": []
    },
    {
      "cell_type": "code",
      "metadata": {
        "colab": {
          "base_uri": "https://localhost:8080/"
        },
        "id": "dt5M9b5k9vwC",
        "outputId": "48a21848-8b0c-4af5-a7da-2f6c16e0440e"
      },
      "source": [
        "# Comparing Vader Classes with Actual Labels \n",
        "\n",
        "comparison_column = np.where(train_validation[\"new_class\"] == train_validation[\"sentiment.polarity\"], True, False)\n",
        "comparison_column_len = len(comparison_column)\n",
        "print(\"Total: \", len(comparison_column))\n",
        "true_count = sum(comparison_column)\n",
        "print(\"Matching: \", true_count)\n",
        "print(true_count / comparison_column_len * 100, \"percentage\")"
      ],
      "id": "dt5M9b5k9vwC",
      "execution_count": null,
      "outputs": [
        {
          "output_type": "stream",
          "text": [
            "Total:  15247\n",
            "Matching:  6324\n",
            "41.47701187118778 percentage\n"
          ],
          "name": "stdout"
        }
      ]
    },
    {
      "cell_type": "code",
      "metadata": {
        "id": "caf26a7e"
      },
      "source": [
        "# Creating pipeline with features union\n",
        "\n",
        "prediction_pipeline = Pipeline([\n",
        "        ('union', FeatureUnion(\n",
        "          transformer_list=[\n",
        "            ('body', Pipeline([\n",
        "              ('selector', ItemSelector(key='body')),\n",
        "              ('tfidf', TfidfVectorizer(sublinear_tf = True, max_features = 5000)), \n",
        "              ])),\n",
        "            ('title', Pipeline([\n",
        "              ('selector', ItemSelector(key='new_class')),\n",
        "              ('tfidf', TfidfVectorizer(sublinear_tf = True, max_features = 5000)), \n",
        "              ])),\n",
        "            #('majority', Pipeline([\n",
        "              #('selector', ItemSelector(key='author')),\n",
        "              #('tfidf', TfidfVectorizer(sublinear_tf = True, max_features = 5000)), \n",
        "              #])),\n",
        "        ])\n",
        "        )\n",
        "    ])"
      ],
      "id": "caf26a7e",
      "execution_count": null,
      "outputs": []
    },
    {
      "cell_type": "code",
      "metadata": {
        "id": "Po1T6-beYIms",
        "colab": {
          "base_uri": "https://localhost:8080/"
        },
        "outputId": "58ae1705-9e73-42e6-d182-73c3a8a3df1c"
      },
      "source": [
        "# Creating train and test features using features union pipeline\n",
        "\n",
        "new_train_features = prediction_pipeline.fit_transform(train_validation)\n",
        "#new_validation_features = prediction_pipeline.transform(validation_data)\n",
        "new_test_features = prediction_pipeline.transform(test_data)\n",
        "\n",
        "print(new_train_features.shape)"
      ],
      "id": "Po1T6-beYIms",
      "execution_count": null,
      "outputs": [
        {
          "output_type": "stream",
          "text": [
            "(15247, 5004)\n"
          ],
          "name": "stdout"
        }
      ]
    },
    {
      "cell_type": "code",
      "metadata": {
        "id": "V1R2SZmqYPPY"
      },
      "source": [
        "# Code for using features that do not have words\n",
        "\n",
        "new_train_features = sp.sparse.hstack([new_train_features, sp.sparse.csr.csr_matrix(train_validation[\"sentiment.subjectivity\"]).transpose()])\n",
        "new_test_features = sp.sparse.hstack([new_test_features, sp.sparse.csr.csr_matrix(test_data[\"sentiment.subjectivity\"]).transpose()])"
      ],
      "id": "V1R2SZmqYPPY",
      "execution_count": null,
      "outputs": []
    },
    {
      "cell_type": "code",
      "metadata": {
        "colab": {
          "base_uri": "https://localhost:8080/",
          "height": 780
        },
        "id": "f270fe17",
        "outputId": "43502e7f-f46c-4987-c3d1-f550033e245e"
      },
      "source": [
        "# Logistic Regression Performance comparison with feature union vs without feature union\n",
        "\n",
        "lr = LogisticRegression(solver='saga', max_iter = 5000, C = 10)\n",
        "combined_model = lr.fit(new_train_features, train_validation[\"Class\"])\n",
        "evaluation_summary(\"LR Combined Model Performance on Test Data\", lr.predict(new_test_features), test_labels, False)\n",
        "\n",
        "\n",
        "prediction_pipeline = Pipeline([\n",
        "              ('selector', ItemSelector(key='body')),\n",
        "              ('tfidf', TfidfVectorizer(sublinear_tf = True, max_features = 5000)),\n",
        "              ('lr', LogisticRegression(solver='saga', max_iter = 5000, C = 10))\n",
        "              ])\n",
        "\n",
        "prediction_pipeline.fit(train_data, train_labels)\n",
        "\n",
        "evaluation_summary(\"LogisticRegression (With Parameter tuning) with TF-IDF vectorization\\n\", prediction_pipeline.predict(test_data), test_labels, False)\n",
        "\n",
        "confusion_matrix_build(\"LR Combined Model Performance on Test Data\\n\", lr.predict(new_test_features), test_labels)"
      ],
      "id": "f270fe17",
      "execution_count": null,
      "outputs": [
        {
          "output_type": "stream",
          "text": [
            "Evaluation for: LR Combined Model Performance on Test Data\n",
            "              precision    recall  f1-score   support\n",
            "\n",
            "           0      0.626     0.457     0.529       282\n",
            "           1      0.862     0.891     0.876      2514\n",
            "           2      0.749     0.764     0.757      1102\n",
            "           3      0.552     0.372     0.444        86\n",
            "           4      0.643     0.562     0.600        32\n",
            "\n",
            "    accuracy                          0.812      4016\n",
            "   macro avg      0.686     0.610     0.641      4016\n",
            "weighted avg      0.806     0.812     0.808      4016\n",
            "\n",
            "Evaluation for: LogisticRegression (With Parameter tuning) with TF-IDF vectorization\n",
            "\n",
            "              precision    recall  f1-score   support\n",
            "\n",
            "           0      0.578     0.316     0.408       282\n",
            "           1      0.797     0.881     0.837      2514\n",
            "           2      0.716     0.672     0.693      1102\n",
            "           3      0.529     0.209     0.300        86\n",
            "           4      0.667     0.250     0.364        32\n",
            "\n",
            "    accuracy                          0.765      4016\n",
            "   macro avg      0.657     0.466     0.520      4016\n",
            "weighted avg      0.753     0.765     0.752      4016\n",
            "\n",
            "Confusion Matrix for: LR Combined Model Performance on Test Data\n",
            "\n",
            "AxesSubplot(0.241667,0.125;0.503333x0.755)\n"
          ],
          "name": "stdout"
        },
        {
          "output_type": "display_data",
          "data": {
            "image/png": "[encoded data removed]",
            "text/plain": [
              "<Figure size 432x288 with 2 Axes>"
            ]
          },
          "metadata": {
            "tags": []
          }
        }
      ]
    },
    {
      "cell_type": "code",
      "metadata": {
        "id": "b5246447"
      },
      "source": [
        ""
      ],
      "id": "b5246447",
      "execution_count": null,
      "outputs": []
    }
  ]
}