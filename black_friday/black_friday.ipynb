{
 "cells": [
  {
   "cell_type": "markdown",
   "metadata": {},
   "source": [
    "# Supervised Learning Project: Black Friday\n",
    "This project was completed for a competition held on http://datahack.analyticsvidhya.com/contest/black-friday-data-hack\n",
    "# Problem Statement\n",
    "The challenge is to predict purchase prices of different products purchased by customers based on historical purchase data. The dataset contains features like User_ID, Product_ID, Gender, Age, Occupation, City_Category, Stay_In_Current_City_Years, Marital_Status, Product Category (1, 2, 3), and the target/independent feature 'Purchase'. This is a regression problem."
   ]
  },
  {
   "cell_type": "markdown",
   "metadata": {},
   "source": [
    "# Exploratory Analysis\n",
    "First import the important libraries for analysis"
   ]
  },
  {
   "cell_type": "code",
   "execution_count": 5,
   "metadata": {},
   "outputs": [
    {
     "data": {
      "text/html": [
       "<div>\n",
       "<style scoped>\n",
       "    .dataframe tbody tr th:only-of-type {\n",
       "        vertical-align: middle;\n",
       "    }\n",
       "\n",
       "    .dataframe tbody tr th {\n",
       "        vertical-align: top;\n",
       "    }\n",
       "\n",
       "    .dataframe thead th {\n",
       "        text-align: right;\n",
       "    }\n",
       "</style>\n",
       "<table border=\"1\" class=\"dataframe\">\n",
       "  <thead>\n",
       "    <tr style=\"text-align: right;\">\n",
       "      <th></th>\n",
       "      <th>User_ID</th>\n",
       "      <th>Product_ID</th>\n",
       "      <th>Gender</th>\n",
       "      <th>Age</th>\n",
       "      <th>Occupation</th>\n",
       "      <th>City_Category</th>\n",
       "      <th>Stay_In_Current_City_Years</th>\n",
       "      <th>Marital_Status</th>\n",
       "      <th>Product_Category_1</th>\n",
       "      <th>Product_Category_2</th>\n",
       "      <th>Product_Category_3</th>\n",
       "      <th>Purchase</th>\n",
       "    </tr>\n",
       "  </thead>\n",
       "  <tbody>\n",
       "    <tr>\n",
       "      <th>0</th>\n",
       "      <td>1000001</td>\n",
       "      <td>P00069042</td>\n",
       "      <td>F</td>\n",
       "      <td>0-17</td>\n",
       "      <td>10</td>\n",
       "      <td>A</td>\n",
       "      <td>2</td>\n",
       "      <td>0</td>\n",
       "      <td>3</td>\n",
       "      <td>NaN</td>\n",
       "      <td>NaN</td>\n",
       "      <td>8370</td>\n",
       "    </tr>\n",
       "    <tr>\n",
       "      <th>1</th>\n",
       "      <td>1000001</td>\n",
       "      <td>P00248942</td>\n",
       "      <td>F</td>\n",
       "      <td>0-17</td>\n",
       "      <td>10</td>\n",
       "      <td>A</td>\n",
       "      <td>2</td>\n",
       "      <td>0</td>\n",
       "      <td>1</td>\n",
       "      <td>6.0</td>\n",
       "      <td>14.0</td>\n",
       "      <td>15200</td>\n",
       "    </tr>\n",
       "    <tr>\n",
       "      <th>2</th>\n",
       "      <td>1000001</td>\n",
       "      <td>P00087842</td>\n",
       "      <td>F</td>\n",
       "      <td>0-17</td>\n",
       "      <td>10</td>\n",
       "      <td>A</td>\n",
       "      <td>2</td>\n",
       "      <td>0</td>\n",
       "      <td>12</td>\n",
       "      <td>NaN</td>\n",
       "      <td>NaN</td>\n",
       "      <td>1422</td>\n",
       "    </tr>\n",
       "    <tr>\n",
       "      <th>3</th>\n",
       "      <td>1000001</td>\n",
       "      <td>P00085442</td>\n",
       "      <td>F</td>\n",
       "      <td>0-17</td>\n",
       "      <td>10</td>\n",
       "      <td>A</td>\n",
       "      <td>2</td>\n",
       "      <td>0</td>\n",
       "      <td>12</td>\n",
       "      <td>14.0</td>\n",
       "      <td>NaN</td>\n",
       "      <td>1057</td>\n",
       "    </tr>\n",
       "    <tr>\n",
       "      <th>4</th>\n",
       "      <td>1000002</td>\n",
       "      <td>P00285442</td>\n",
       "      <td>M</td>\n",
       "      <td>55+</td>\n",
       "      <td>16</td>\n",
       "      <td>C</td>\n",
       "      <td>4+</td>\n",
       "      <td>0</td>\n",
       "      <td>8</td>\n",
       "      <td>NaN</td>\n",
       "      <td>NaN</td>\n",
       "      <td>7969</td>\n",
       "    </tr>\n",
       "    <tr>\n",
       "      <th>5</th>\n",
       "      <td>1000003</td>\n",
       "      <td>P00193542</td>\n",
       "      <td>M</td>\n",
       "      <td>26-35</td>\n",
       "      <td>15</td>\n",
       "      <td>A</td>\n",
       "      <td>3</td>\n",
       "      <td>0</td>\n",
       "      <td>1</td>\n",
       "      <td>2.0</td>\n",
       "      <td>NaN</td>\n",
       "      <td>15227</td>\n",
       "    </tr>\n",
       "    <tr>\n",
       "      <th>6</th>\n",
       "      <td>1000004</td>\n",
       "      <td>P00184942</td>\n",
       "      <td>M</td>\n",
       "      <td>46-50</td>\n",
       "      <td>7</td>\n",
       "      <td>B</td>\n",
       "      <td>2</td>\n",
       "      <td>1</td>\n",
       "      <td>1</td>\n",
       "      <td>8.0</td>\n",
       "      <td>17.0</td>\n",
       "      <td>19215</td>\n",
       "    </tr>\n",
       "    <tr>\n",
       "      <th>7</th>\n",
       "      <td>1000004</td>\n",
       "      <td>P00346142</td>\n",
       "      <td>M</td>\n",
       "      <td>46-50</td>\n",
       "      <td>7</td>\n",
       "      <td>B</td>\n",
       "      <td>2</td>\n",
       "      <td>1</td>\n",
       "      <td>1</td>\n",
       "      <td>15.0</td>\n",
       "      <td>NaN</td>\n",
       "      <td>15854</td>\n",
       "    </tr>\n",
       "    <tr>\n",
       "      <th>8</th>\n",
       "      <td>1000004</td>\n",
       "      <td>P0097242</td>\n",
       "      <td>M</td>\n",
       "      <td>46-50</td>\n",
       "      <td>7</td>\n",
       "      <td>B</td>\n",
       "      <td>2</td>\n",
       "      <td>1</td>\n",
       "      <td>1</td>\n",
       "      <td>16.0</td>\n",
       "      <td>NaN</td>\n",
       "      <td>15686</td>\n",
       "    </tr>\n",
       "    <tr>\n",
       "      <th>9</th>\n",
       "      <td>1000005</td>\n",
       "      <td>P00274942</td>\n",
       "      <td>M</td>\n",
       "      <td>26-35</td>\n",
       "      <td>20</td>\n",
       "      <td>A</td>\n",
       "      <td>1</td>\n",
       "      <td>1</td>\n",
       "      <td>8</td>\n",
       "      <td>NaN</td>\n",
       "      <td>NaN</td>\n",
       "      <td>7871</td>\n",
       "    </tr>\n",
       "  </tbody>\n",
       "</table>\n",
       "</div>"
      ],
      "text/plain": [
       "   User_ID Product_ID   ...    Product_Category_3 Purchase\n",
       "0  1000001  P00069042   ...                   NaN     8370\n",
       "1  1000001  P00248942   ...                  14.0    15200\n",
       "2  1000001  P00087842   ...                   NaN     1422\n",
       "3  1000001  P00085442   ...                   NaN     1057\n",
       "4  1000002  P00285442   ...                   NaN     7969\n",
       "5  1000003  P00193542   ...                   NaN    15227\n",
       "6  1000004  P00184942   ...                  17.0    19215\n",
       "7  1000004  P00346142   ...                   NaN    15854\n",
       "8  1000004   P0097242   ...                   NaN    15686\n",
       "9  1000005  P00274942   ...                   NaN     7871\n",
       "\n",
       "[10 rows x 12 columns]"
      ]
     },
     "execution_count": 5,
     "metadata": {},
     "output_type": "execute_result"
    }
   ],
   "source": [
    "import pandas as pd\n",
    "import numpy as np\n",
    "import matplotlib.pyplot as plt\n",
    "from numpy import percentile\n",
    "import seaborn as sns\n",
    "\n",
    "# Load the dataset\n",
    "train = pd.read_csv('train/train.csv')\n",
    "test = pd.read_csv('train/test.csv')\n",
    "\n",
    "# Display the first 10 records\n",
    "train.head(10)"
   ]
  },
  {
   "cell_type": "markdown",
   "metadata": {},
   "source": [
    "Checking the dataset for any missing values"
   ]
  },
  {
   "cell_type": "code",
   "execution_count": 6,
   "metadata": {
    "scrolled": true
   },
   "outputs": [
    {
     "data": {
      "text/plain": [
       "User_ID                            0\n",
       "Product_ID                         0\n",
       "Gender                             0\n",
       "Age                                0\n",
       "Occupation                         0\n",
       "City_Category                      0\n",
       "Stay_In_Current_City_Years         0\n",
       "Marital_Status                     0\n",
       "Product_Category_1                 0\n",
       "Product_Category_2            173638\n",
       "Product_Category_3            383247\n",
       "Purchase                           0\n",
       "dtype: int64"
      ]
     },
     "execution_count": 6,
     "metadata": {},
     "output_type": "execute_result"
    }
   ],
   "source": [
    "train.isnull().sum()"
   ]
  },
  {
   "cell_type": "markdown",
   "metadata": {},
   "source": [
    "Here, Product_Category_2 and Product_Category_3 have missing values. But, I'm not going to use these features in my final model, so I'm not going to fix the missing values."
   ]
  },
  {
   "cell_type": "code",
   "execution_count": 7,
   "metadata": {},
   "outputs": [],
   "source": [
    "# Drop Product_Category_2 & Product_Category_3\n",
    "train.drop(['Product_Category_2', 'Product_Category_3'], inplace = True, axis = 1)\n",
    "test.drop(['Product_Category_2', 'Product_Category_3'], inplace = True, axis = 1)"
   ]
  },
  {
   "cell_type": "markdown",
   "metadata": {},
   "source": [
    "Checking the data for outliers"
   ]
  },
  {
   "cell_type": "code",
   "execution_count": 8,
   "metadata": {},
   "outputs": [
    {
     "data": {
      "text/plain": [
       "<matplotlib.axes._subplots.AxesSubplot at 0xdaccb00>"
      ]
     },
     "execution_count": 8,
     "metadata": {},
     "output_type": "execute_result"
    },
    {
     "data": {
      "image/png": "[encoded data removed]",
      "text/plain": [
       "<Figure size 432x288 with 1 Axes>"
      ]
     },
     "metadata": {},
     "output_type": "display_data"
    }
   ],
   "source": [
    "# Combining numerical features\n",
    "temp_train = train[['Occupation', 'Marital_Status', 'Product_Category_1']]\n",
    "sns.boxplot(x=\"variable\", y=\"value\", data=pd.melt(temp_train))"
   ]
  },
  {
   "cell_type": "markdown",
   "metadata": {},
   "source": [
    "I checked the outliers on numeric features. Occupation and Marital_Status don't have any outliers. But seems like, we have detected outliers in Product_Category_1. So, we're going to fix it."
   ]
  },
  {
   "cell_type": "code",
   "execution_count": 11,
   "metadata": {},
   "outputs": [],
   "source": [
    "# Outliers detected, fix them\n",
    "prod_cat = train.loc[:, train.columns == 'Product_Category_1']\n",
    "# Computing Percentiles\n",
    "q25, q75 = percentile(prod_cat, 25), percentile(prod_cat, 75)\n",
    "iqr =q75 - q25\n",
    "cut_off = iqr * 1.5\n",
    "lower, upper = q25 - cut_off, q75 + cut_off\n",
    "    \n",
    "# filtering values based on computed percentiles\n",
    "prod_cat = prod_cat.apply(lambda x: x[(x>=lower) & (x <= upper)], axis=0)\n",
    "    \n",
    "# Bringing all things together\n",
    "prod_cat = pd.concat([train.loc[:,['User_ID', 'Product_ID', 'Gender', 'Age',\n",
    "                                  'Occupation', 'City_Category', 'Stay_In_Current_City_Years',\n",
    "                                  'Marital_Status', 'Purchase']], prod_cat], axis=1)\n",
    "\n",
    "# Drop rows where Product_Category_1 have NaN values\n",
    "train = prod_cat.dropna(subset=['Product_Category_1'])"
   ]
  },
  {
   "cell_type": "markdown",
   "metadata": {},
   "source": [
    "Let's confirm that we have removed the outliers or not."
   ]
  },
  {
   "cell_type": "code",
   "execution_count": 12,
   "metadata": {},
   "outputs": [
    {
     "data": {
      "text/plain": [
       "<matplotlib.axes._subplots.AxesSubplot at 0xdbc65c0>"
      ]
     },
     "execution_count": 12,
     "metadata": {},
     "output_type": "execute_result"
    },
    {
     "data": {
      "image/png": "[encoded data removed]",
      "text/plain": [
       "<Figure size 432x288 with 1 Axes>"
      ]
     },
     "metadata": {},
     "output_type": "display_data"
    }
   ],
   "source": [
    "sns.boxplot(x=train['Product_Category_1'])"
   ]
  },
  {
   "cell_type": "markdown",
   "metadata": {},
   "source": [
    "We have successfully fixed the outliers.\n",
    "\n",
    "# Data Preprocessing\n",
    "Let's do some feature engineering on some features.\n",
    "\n",
    "If you take a look at the datasets, you will find 'Age' in range. To fix these Age bins, we will divide this column into two columns: Lower_Age and Upper_Age."
   ]
  },
  {
   "cell_type": "code",
   "execution_count": 13,
   "metadata": {},
   "outputs": [],
   "source": [
    "def handling_age(data):\n",
    "    lower_age = []\n",
    "    upper_age = []\n",
    "    for i in data['Age']:\n",
    "        if i != '55+':\n",
    "            split_bin = i.split('-')\n",
    "        else:\n",
    "            split_bin = i.split('+')\n",
    "            \n",
    "        lower_age.append(int(split_bin[0]))\n",
    "        if not split_bin[1]:\n",
    "            upper_age.append(60) # We're going to set age 55+ to 60\n",
    "        else:\n",
    "            upper_age.append(int(split_bin[1]))\n",
    "    return lower_age, upper_age\n",
    "\n",
    "lower_age_train, upper_age_train = handling_age(train)\n",
    "lower_age_test, upper_age_test = handling_age(test)\n",
    "\n",
    "train['Lower_Age'], train['Upper_Age'] = lower_age_train, upper_age_train\n",
    "test['Lower_Age'], test['Upper_Age'] = lower_age_test, upper_age_test"
   ]
  },
  {
   "cell_type": "markdown",
   "metadata": {},
   "source": [
    "Let's remove some features.\n",
    "Removing 'Age' feature, because we don't need it now.\n",
    "Remove 'Stay_In_Current_City_Years'. Because I don't think, time of staying of a person in a city has anything to do with a person's expenditure."
   ]
  },
  {
   "cell_type": "code",
   "execution_count": 14,
   "metadata": {},
   "outputs": [],
   "source": [
    "train.drop(['Age', 'Stay_In_Current_City_Years'], inplace=True, axis=1)\n",
    "test.drop(['Age', 'Stay_In_Current_City_Years'], inplace=True, axis=1)"
   ]
  },
  {
   "cell_type": "markdown",
   "metadata": {},
   "source": [
    "Let's do encoding on categorical data."
   ]
  },
  {
   "cell_type": "code",
   "execution_count": 18,
   "metadata": {},
   "outputs": [],
   "source": [
    "from sklearn.preprocessing import LabelEncoder\n",
    "le = LabelEncoder()\n",
    "train['User_ID'] = le.fit_transform(train['User_ID'])\n",
    "test['User_ID'] = le.fit_transform(test['User_ID'])\n",
    "\n",
    "# Encoding Gender\n",
    "le_g = LabelEncoder()\n",
    "train['Gender'] = le_g.fit_transform(train['Gender'])\n",
    "test['Gender'] = le_g.fit_transform(test['Gender'])\n",
    "\n",
    "# Encoding City_Category using get_dummies\n",
    "def one_hot(df, cols):\n",
    "    for each in cols:\n",
    "        dummies = pd.get_dummies(df[each], prefix=each, drop_first=True)\n",
    "        df = pd.concat([df, dummies], axis=1)\n",
    "    return df\n",
    "\n",
    "train = one_hot(train, cols = ['City_Category'])\n",
    "test = one_hot(test, cols = ['City_Category'])\n",
    "# Removing City_Category\n",
    "train.drop(['City_Category'], inplace=True, axis=1)\n",
    "test.drop(['City_Category'], inplace=True, axis=1)\n",
    "\n",
    "# Encoding Product_ID\n",
    "# Here, Product_ID has high cardinality, so I'm not going to apply label or one hot encoding\n",
    "# Istead, we will use Mean/Target Encoding.\n",
    "# Thanks to olivier https://www.kaggle.com/ogrellier/python-target-encoding-for-categorical-features for a beautiful function\n",
    "def add_noise(series, noise_level):\n",
    "    return series * (1 + noise_level * np.random.randn(len(series)))\n",
    "\n",
    "def target_encode(trn_series=None, \n",
    "                  tst_series=None, \n",
    "                  target=None, \n",
    "                  min_samples_leaf=1, \n",
    "                  smoothing=1,\n",
    "                  noise_level=0):\n",
    "   \n",
    "    assert len(trn_series) == len(target)\n",
    "    assert trn_series.name == tst_series.name\n",
    "    temp = pd.concat([trn_series, target], axis=1)\n",
    "    # Compute target mean \n",
    "    averages = temp.groupby(by=trn_series.name)[target.name].agg([\"mean\", \"count\"])\n",
    "    # Compute smoothing\n",
    "    smoothing = 1 / (1 + np.exp(-(averages[\"count\"] - min_samples_leaf) / smoothing))\n",
    "    # Apply average function to all target data\n",
    "    prior = target.mean()\n",
    "    # The bigger the count the less full_avg is taken into account\n",
    "    averages[target.name] = prior * (1 - smoothing) + averages[\"mean\"] * smoothing\n",
    "    averages.drop([\"mean\", \"count\"], axis=1, inplace=True)\n",
    "    # Apply averages to trn and tst series\n",
    "    ft_trn_series = pd.merge(\n",
    "        trn_series.to_frame(trn_series.name),\n",
    "        averages.reset_index().rename(columns={'index': target.name, target.name: 'average'}),\n",
    "        on=trn_series.name,\n",
    "        how='left')['average'].rename(trn_series.name + '_mean').fillna(prior)\n",
    "    # pd.merge does not keep the index so restore it\n",
    "    ft_trn_series.index = trn_series.index \n",
    "    ft_tst_series = pd.merge(\n",
    "        tst_series.to_frame(tst_series.name),\n",
    "        averages.reset_index().rename(columns={'index': target.name, target.name: 'average'}),\n",
    "        on=tst_series.name,\n",
    "        how='left')['average'].rename(trn_series.name + '_mean').fillna(prior)\n",
    "    # pd.merge does not keep the index so restore it\n",
    "    ft_tst_series.index = tst_series.index\n",
    "    return add_noise(ft_trn_series, noise_level), add_noise(ft_tst_series, noise_level)\n",
    "\n",
    "train['Product_ID'], test['Product_ID'] = target_encode(train['Product_ID'], \n",
    "                         test['Product_ID'], \n",
    "                         target=train['Purchase'], \n",
    "                         min_samples_leaf=1,\n",
    "                         smoothing=1,\n",
    "                         noise_level=0)"
   ]
  },
  {
   "cell_type": "markdown",
   "metadata": {},
   "source": [
    "Rearrange columns to make it look better."
   ]
  },
  {
   "cell_type": "code",
   "execution_count": 20,
   "metadata": {},
   "outputs": [
    {
     "data": {
      "text/html": [
       "<div>\n",
       "<style scoped>\n",
       "    .dataframe tbody tr th:only-of-type {\n",
       "        vertical-align: middle;\n",
       "    }\n",
       "\n",
       "    .dataframe tbody tr th {\n",
       "        vertical-align: top;\n",
       "    }\n",
       "\n",
       "    .dataframe thead th {\n",
       "        text-align: right;\n",
       "    }\n",
       "</style>\n",
       "<table border=\"1\" class=\"dataframe\">\n",
       "  <thead>\n",
       "    <tr style=\"text-align: right;\">\n",
       "      <th></th>\n",
       "      <th>User_ID</th>\n",
       "      <th>Product_ID</th>\n",
       "      <th>Gender</th>\n",
       "      <th>Lower_Age</th>\n",
       "      <th>Upper_Age</th>\n",
       "      <th>Occupation</th>\n",
       "      <th>City_Category_B</th>\n",
       "      <th>City_Category_C</th>\n",
       "      <th>Marital_Status</th>\n",
       "      <th>Product_Category_1</th>\n",
       "      <th>Purchase</th>\n",
       "    </tr>\n",
       "  </thead>\n",
       "  <tbody>\n",
       "    <tr>\n",
       "      <th>0</th>\n",
       "      <td>0</td>\n",
       "      <td>11870.863436</td>\n",
       "      <td>0</td>\n",
       "      <td>0</td>\n",
       "      <td>17</td>\n",
       "      <td>10</td>\n",
       "      <td>0</td>\n",
       "      <td>0</td>\n",
       "      <td>0</td>\n",
       "      <td>3.0</td>\n",
       "      <td>8370</td>\n",
       "    </tr>\n",
       "    <tr>\n",
       "      <th>1</th>\n",
       "      <td>0</td>\n",
       "      <td>16304.030981</td>\n",
       "      <td>0</td>\n",
       "      <td>0</td>\n",
       "      <td>17</td>\n",
       "      <td>10</td>\n",
       "      <td>0</td>\n",
       "      <td>0</td>\n",
       "      <td>0</td>\n",
       "      <td>1.0</td>\n",
       "      <td>15200</td>\n",
       "    </tr>\n",
       "    <tr>\n",
       "      <th>2</th>\n",
       "      <td>0</td>\n",
       "      <td>1237.892157</td>\n",
       "      <td>0</td>\n",
       "      <td>0</td>\n",
       "      <td>17</td>\n",
       "      <td>10</td>\n",
       "      <td>0</td>\n",
       "      <td>0</td>\n",
       "      <td>0</td>\n",
       "      <td>12.0</td>\n",
       "      <td>1422</td>\n",
       "    </tr>\n",
       "    <tr>\n",
       "      <th>3</th>\n",
       "      <td>0</td>\n",
       "      <td>1455.140762</td>\n",
       "      <td>0</td>\n",
       "      <td>0</td>\n",
       "      <td>17</td>\n",
       "      <td>10</td>\n",
       "      <td>0</td>\n",
       "      <td>0</td>\n",
       "      <td>0</td>\n",
       "      <td>12.0</td>\n",
       "      <td>1057</td>\n",
       "    </tr>\n",
       "    <tr>\n",
       "      <th>4</th>\n",
       "      <td>1</td>\n",
       "      <td>7692.763547</td>\n",
       "      <td>1</td>\n",
       "      <td>55</td>\n",
       "      <td>60</td>\n",
       "      <td>16</td>\n",
       "      <td>0</td>\n",
       "      <td>1</td>\n",
       "      <td>0</td>\n",
       "      <td>8.0</td>\n",
       "      <td>7969</td>\n",
       "    </tr>\n",
       "  </tbody>\n",
       "</table>\n",
       "</div>"
      ],
      "text/plain": [
       "   User_ID    Product_ID    ...     Product_Category_1  Purchase\n",
       "0        0  11870.863436    ...                    3.0      8370\n",
       "1        0  16304.030981    ...                    1.0     15200\n",
       "2        0   1237.892157    ...                   12.0      1422\n",
       "3        0   1455.140762    ...                   12.0      1057\n",
       "4        1   7692.763547    ...                    8.0      7969\n",
       "\n",
       "[5 rows x 11 columns]"
      ]
     },
     "execution_count": 20,
     "metadata": {},
     "output_type": "execute_result"
    }
   ],
   "source": [
    "# Rearranging columns\n",
    "train = train[['User_ID', 'Product_ID', 'Gender', 'Lower_Age', 'Upper_Age',\n",
    "            'Occupation', 'City_Category_B', 'City_Category_C', 'Marital_Status', \n",
    "            'Product_Category_1', 'Purchase']]\n",
    "test = test[['User_ID', 'Product_ID', 'Gender', 'Lower_Age', 'Upper_Age',\n",
    "            'Occupation', 'City_Category_B', 'City_Category_C', 'Marital_Status', 'Product_Category_1']]\n",
    "train.head(5)"
   ]
  },
  {
   "cell_type": "markdown",
   "metadata": {},
   "source": [
    "Assign target feature 'Purchase' to a variable, and remove the feature from the training dataset."
   ]
  },
  {
   "cell_type": "code",
   "execution_count": 21,
   "metadata": {},
   "outputs": [],
   "source": [
    "y = train['Purchase']\n",
    "train.drop(['Purchase'], inplace=True, axis=1)"
   ]
  },
  {
   "cell_type": "markdown",
   "metadata": {},
   "source": [
    "As we can see now, the features are not at all on the same scale. We definitely need to scale them."
   ]
  },
  {
   "cell_type": "code",
   "execution_count": 22,
   "metadata": {},
   "outputs": [
    {
     "name": "stderr",
     "output_type": "stream",
     "text": [
      "C:\\Users\\Ubaid\\Anaconda3\\lib\\site-packages\\sklearn\\preprocessing\\data.py:617: DataConversionWarning: Data with input dtype uint8, int64, float64 were all converted to float64 by StandardScaler.\n",
      "  return self.partial_fit(X, y)\n",
      "C:\\Users\\Ubaid\\Anaconda3\\lib\\site-packages\\sklearn\\base.py:462: DataConversionWarning: Data with input dtype uint8, int64, float64 were all converted to float64 by StandardScaler.\n",
      "  return self.fit(X, **fit_params).transform(X)\n",
      "C:\\Users\\Ubaid\\Anaconda3\\lib\\site-packages\\sklearn\\preprocessing\\data.py:617: DataConversionWarning: Data with input dtype uint8, int64, float64 were all converted to float64 by StandardScaler.\n",
      "  return self.partial_fit(X, y)\n",
      "C:\\Users\\Ubaid\\Anaconda3\\lib\\site-packages\\sklearn\\base.py:462: DataConversionWarning: Data with input dtype uint8, int64, float64 were all converted to float64 by StandardScaler.\n",
      "  return self.fit(X, **fit_params).transform(X)\n"
     ]
    }
   ],
   "source": [
    "# Feature Scaling\n",
    "from sklearn.preprocessing import StandardScaler\n",
    "sc = StandardScaler()\n",
    "\n",
    "train[['User_ID', 'Product_ID', 'Gender', 'Lower_Age', 'Upper_Age',\n",
    "            'Occupation', 'City_Category_B', 'City_Category_C', 'Marital_Status', \n",
    "            'Product_Category_1']] = sc.fit_transform(train[['User_ID', 'Product_ID', 'Gender', 'Lower_Age', 'Upper_Age',\n",
    "            'Occupation', 'City_Category_B', 'City_Category_C', 'Marital_Status', \n",
    "            'Product_Category_1']])\n",
    "\n",
    "test[['User_ID', 'Product_ID', 'Gender', 'Lower_Age', 'Upper_Age',\n",
    "            'Occupation', 'City_Category_B', 'City_Category_C', 'Marital_Status', \n",
    "            'Product_Category_1']] = sc.fit_transform(test[['User_ID', 'Product_ID', 'Gender', 'Lower_Age', 'Upper_Age',\n",
    "            'Occupation', 'City_Category_B', 'City_Category_C', 'Marital_Status', \n",
    "            'Product_Category_1']])"
   ]
  },
  {
   "cell_type": "markdown",
   "metadata": {},
   "source": [
    "# Modeling\n",
    "I'm going to use XGBoost, because I tried other regression models, and XGBoost was the one which gave me the best results."
   ]
  },
  {
   "cell_type": "code",
   "execution_count": 23,
   "metadata": {},
   "outputs": [],
   "source": [
    "import xgboost as xgb\n",
    "dtrain = xgb.DMatrix(train.values, label=y, missing=np.nan)"
   ]
  },
  {
   "cell_type": "markdown",
   "metadata": {},
   "source": [
    "Because, this is a very large dataset and I don't have good CPU, so I performed parameter tuning on small dataset, got the following best parameters. I'm not sure, these are the best parameters."
   ]
  },
  {
   "cell_type": "code",
   "execution_count": 24,
   "metadata": {},
   "outputs": [],
   "source": [
    "param = {'objective': 'reg:linear', 'booster': 'gbtree', 'silent': 1,\n",
    "\t\t 'max_depth': 10, 'eta': 0.1, 'nthread': 4,\n",
    "\t\t 'subsample': 0.8, 'colsample_bytree': 0.8, 'min_child_weight': 20,\n",
    "\t\t 'max_delta_step': 0, 'gamma': 0}\n",
    "num_round = 690\n",
    "\n",
    "seeds = [1, 12, 23, 28, 42] # Random Seeds\n",
    "# Creating a prediction matrix with rows equal to total number of rows in test set.\n",
    "# And equal to total number of columns as seeds length.\n",
    "test_preds = np.zeros((len(test), len(seeds)))"
   ]
  },
  {
   "cell_type": "code",
   "execution_count": null,
   "metadata": {},
   "outputs": [],
   "source": [
    "import sys\n",
    "for run in range(len(seeds)):\n",
    "\tsys.stdout.write(\"\\rXGB RUN:{}/{}\".format(run+1, len(seeds)))\n",
    "\tsys.stdout.flush()\n",
    "\tparam['seed'] = seeds[run]\n",
    "\tclf = xgb.train(param, dtrain, num_round)\n",
    "\tdtest = xgb.DMatrix(test.values, missing=np.nan)\n",
    "\ttest_preds[:, run] = clf.predict(dtest)\n",
    "    \n",
    "test_preds = np.mean(test_preds, axis=1)"
   ]
  },
  {
   "cell_type": "markdown",
   "metadata": {},
   "source": [
    "You can download the predicted data from here: https://drive.google.com/file/d/1OhLKaQxq9_yD9C5W7LSNTMPlutrAdH27/view\n",
    "\n",
    "One thing I noticed, if I don't apply feature scaling, then I'm getting a good RMSE score of '2560'.\n",
    "But after applying feature scaling, I'm getting bad RMSE score of '2508'.\n",
    "\n",
    "You can see the results on the leaderboard: https://datahack.analyticsvidhya.com/contest/black-friday/lb\n",
    "\n",
    "# Note\n",
    "Seems like the dataset needs more feature engineering. May be dimensionality reduction could produce better results."
   ]
  }
 ],
 "metadata": {
  "kernelspec": {
   "display_name": "Python 3 (Spyder)",
   "language": "python3",
   "name": "python3"
  },
  "language_info": {
   "codemirror_mode": {
    "name": "ipython",
    "version": 3
   },
   "file_extension": ".py",
   "mimetype": "text/x-python",
   "name": "python",
   "nbconvert_exporter": "python",
   "pygments_lexer": "ipython3",
   "version": "3.6.6"
  }
 },
 "nbformat": 4,
 "nbformat_minor": 2
}
